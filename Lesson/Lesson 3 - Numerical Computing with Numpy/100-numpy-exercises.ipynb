{
 "cells": [
  {
   "cell_type": "markdown",
   "metadata": {},
   "source": [
    "# 100 numpy exercises (Optional)\n",
    "\n",
    "Source: https://github.com/rougier/numpy-100\n"
   ]
  },
  {
   "cell_type": "markdown",
   "metadata": {},
   "source": [
    "#### How to run this notebook\n",
    "\n",
    "The recommended way to run this notebook is to click the \"Run\" button at the top of this page, and select \"Run on Binder\". This will run the notebook on mybinder.org, a free online service for running Jupyter notebooks.\n",
    "\n",
    "#### How to get help\n",
    "\n",
    "If you are stuck, you can ask for help on the community forum: https://jovian.ml/forum/t/100-numpy-exercises-hints-discussions-help/10561 . You can get help with errors, ask for hints, and share your solutions with others.\n",
    "\n",
    "If you're new to Numpy, check out this notebook for a quick tutorial: https://jovian.ml/aakashns/python-numerical-computing-with-numpy\n",
    "\n",
    "\n",
    "#### Saving your work\n",
    "\n",
    "Remember to save a snapshot of your work from time to time using to your Jovian.ml account."
   ]
  },
  {
   "cell_type": "code",
   "execution_count": 24,
   "metadata": {},
   "outputs": [],
   "source": [
    "# !pip install jovian --upgrade --quiet"
   ]
  },
  {
   "cell_type": "code",
   "execution_count": 25,
   "metadata": {},
   "outputs": [],
   "source": [
    "import jovian"
   ]
  },
  {
   "cell_type": "code",
   "execution_count": 28,
   "metadata": {},
   "outputs": [
    {
     "data": {
      "application/javascript": "window.require && require([\"base/js/namespace\"],function(Jupyter){Jupyter.notebook.save_checkpoint()})",
      "text/plain": [
       "<IPython.core.display.Javascript object>"
      ]
     },
     "metadata": {},
     "output_type": "display_data"
    },
    {
     "name": "stdout",
     "output_type": "stream",
     "text": [
      "[jovian] Attempting to save notebook..\u001b[0m\n",
      "[jovian] Updating notebook \"aakashns/100-numpy-exercises\" on https://jovian.ml/\u001b[0m\n",
      "[jovian] Uploading notebook..\u001b[0m\n",
      "[jovian] Capturing environment..\u001b[0m\n",
      "[jovian] Committed successfully! https://jovian.ml/aakashns/100-numpy-exercises\u001b[0m\n"
     ]
    },
    {
     "data": {
      "text/plain": [
       "'https://jovian.ml/aakashns/100-numpy-exercises'"
      ]
     },
     "execution_count": 28,
     "metadata": {},
     "output_type": "execute_result"
    }
   ],
   "source": [
    "jovian.commit(project='100-numpy-exercises')"
   ]
  },
  {
   "cell_type": "markdown",
   "metadata": {},
   "source": [
    "`jovian.commit` uploads the notebook to your Jovian.ml account, captures the Python environment and creates a shareable link for your notebook as shown above. You can use this link to share your work and let anyone (including you) run your notebooks and reproduce your work. Learn more: https://jovian.ml/docs/\n"
   ]
  },
  {
   "cell_type": "code",
   "execution_count": null,
   "metadata": {},
   "outputs": [],
   "source": [
    "# Ucomment the next line if you need install numpy\n",
    "# !pip install numpy --upgrade"
   ]
  },
  {
   "cell_type": "markdown",
   "metadata": {},
   "source": [
    "#### 1. Import the numpy package under the name `np` (★☆☆)"
   ]
  },
  {
   "cell_type": "code",
   "execution_count": 2,
   "metadata": {},
   "outputs": [],
   "source": [
    "import numpy as np"
   ]
  },
  {
   "cell_type": "markdown",
   "metadata": {},
   "source": [
    "#### 2. Print the numpy version and the configuration (★☆☆)"
   ]
  },
  {
   "cell_type": "code",
   "execution_count": 2,
   "metadata": {},
   "outputs": [
    {
     "name": "stdout",
     "output_type": "stream",
     "text": [
      "2.2.1\n",
      "{\n",
      "  \"Compilers\": {\n",
      "    \"c\": {\n",
      "      \"name\": \"msvc\",\n",
      "      \"linker\": \"link\",\n",
      "      \"version\": \"19.29.30157\",\n",
      "      \"commands\": \"cl\"\n",
      "    },\n",
      "    \"cython\": {\n",
      "      \"name\": \"cython\",\n",
      "      \"linker\": \"cython\",\n",
      "      \"version\": \"3.0.11\",\n",
      "      \"commands\": \"cython\"\n",
      "    },\n",
      "    \"c++\": {\n",
      "      \"name\": \"msvc\",\n",
      "      \"linker\": \"link\",\n",
      "      \"version\": \"19.29.30157\",\n",
      "      \"commands\": \"cl\"\n",
      "    }\n",
      "  },\n",
      "  \"Machine Information\": {\n",
      "    \"host\": {\n",
      "      \"cpu\": \"x86_64\",\n",
      "      \"family\": \"x86_64\",\n",
      "      \"endian\": \"little\",\n",
      "      \"system\": \"windows\"\n",
      "    },\n",
      "    \"build\": {\n",
      "      \"cpu\": \"x86_64\",\n",
      "      \"family\": \"x86_64\",\n",
      "      \"endian\": \"little\",\n",
      "      \"system\": \"windows\"\n",
      "    }\n",
      "  },\n",
      "  \"Build Dependencies\": {\n",
      "    \"blas\": {\n",
      "      \"name\": \"scipy-openblas\",\n",
      "      \"found\": true,\n",
      "      \"version\": \"0.3.28\",\n",
      "      \"detection method\": \"pkgconfig\",\n",
      "      \"include directory\": \"C:/Users/runneradmin/AppData/Local/Temp/cibw-run-gf60t9tw/cp313-win_amd64/build/venv/Lib/site-packages/scipy_openblas64/include\",\n",
      "      \"lib directory\": \"C:/Users/runneradmin/AppData/Local/Temp/cibw-run-gf60t9tw/cp313-win_amd64/build/venv/Lib/site-packages/scipy_openblas64/lib\",\n",
      "      \"openblas configuration\": \"OpenBLAS 0.3.28  USE64BITINT DYNAMIC_ARCH NO_AFFINITY Haswell MAX_THREADS=24\",\n",
      "      \"pc file directory\": \"D:/a/numpy/numpy/.openblas\"\n",
      "    },\n",
      "    \"lapack\": {\n",
      "      \"name\": \"scipy-openblas\",\n",
      "      \"found\": true,\n",
      "      \"version\": \"0.3.28\",\n",
      "      \"detection method\": \"pkgconfig\",\n",
      "      \"include directory\": \"C:/Users/runneradmin/AppData/Local/Temp/cibw-run-gf60t9tw/cp313-win_amd64/build/venv/Lib/site-packages/scipy_openblas64/include\",\n",
      "      \"lib directory\": \"C:/Users/runneradmin/AppData/Local/Temp/cibw-run-gf60t9tw/cp313-win_amd64/build/venv/Lib/site-packages/scipy_openblas64/lib\",\n",
      "      \"openblas configuration\": \"OpenBLAS 0.3.28  USE64BITINT DYNAMIC_ARCH NO_AFFINITY Haswell MAX_THREADS=24\",\n",
      "      \"pc file directory\": \"D:/a/numpy/numpy/.openblas\"\n",
      "    }\n",
      "  },\n",
      "  \"Python Information\": {\n",
      "    \"path\": \"C:\\\\Users\\\\runneradmin\\\\AppData\\\\Local\\\\Temp\\\\build-env-t3ehpx05\\\\Scripts\\\\python.exe\",\n",
      "    \"version\": \"3.13\"\n",
      "  },\n",
      "  \"SIMD Extensions\": {\n",
      "    \"baseline\": [\n",
      "      \"SSE\",\n",
      "      \"SSE2\",\n",
      "      \"SSE3\"\n",
      "    ],\n",
      "    \"found\": [\n",
      "      \"SSSE3\",\n",
      "      \"SSE41\",\n",
      "      \"POPCNT\",\n",
      "      \"SSE42\",\n",
      "      \"AVX\",\n",
      "      \"F16C\",\n",
      "      \"FMA3\",\n",
      "      \"AVX2\"\n",
      "    ],\n",
      "    \"not found\": [\n",
      "      \"AVX512F\",\n",
      "      \"AVX512CD\",\n",
      "      \"AVX512_SKX\",\n",
      "      \"AVX512_CLX\",\n",
      "      \"AVX512_CNL\",\n",
      "      \"AVX512_ICL\"\n",
      "    ]\n",
      "  }\n",
      "}\n"
     ]
    },
    {
     "name": "stderr",
     "output_type": "stream",
     "text": [
      "c:\\Users\\chris\\Portofolio\\Course\\Data-Analysis-with-Python-by-Jovian\\.venv\\Lib\\site-packages\\numpy\\__config__.py:155: UserWarning: Install `pyyaml` for better output\n",
      "  warnings.warn(\"Install `pyyaml` for better output\", stacklevel=1)\n"
     ]
    }
   ],
   "source": [
    "print(np.__version__)\n",
    "np.show_config()"
   ]
  },
  {
   "cell_type": "markdown",
   "metadata": {},
   "source": [
    "#### 3. Create a null vector of size 10 (★☆☆)"
   ]
  },
  {
   "cell_type": "code",
   "execution_count": 3,
   "metadata": {},
   "outputs": [
    {
     "name": "stdout",
     "output_type": "stream",
     "text": [
      "[0. 0. 0. 0. 0. 0. 0. 0. 0. 0.]\n"
     ]
    }
   ],
   "source": [
    "null_vector = np.zeros(10)\n",
    "print(null_vector)"
   ]
  },
  {
   "cell_type": "markdown",
   "metadata": {},
   "source": [
    "#### 4. How to find the memory size of any array (★☆☆)"
   ]
  },
  {
   "cell_type": "code",
   "execution_count": 4,
   "metadata": {},
   "outputs": [
    {
     "name": "stdout",
     "output_type": "stream",
     "text": [
      "Memory size of the array: 80 bytes\n"
     ]
    }
   ],
   "source": [
    "memory_size = null_vector.nbytes\n",
    "print(f\"Memory size of the array: {memory_size} bytes\")"
   ]
  },
  {
   "cell_type": "markdown",
   "metadata": {},
   "source": [
    "#### 5. How to get the documentation of the numpy add function from the command line? (★☆☆)"
   ]
  },
  {
   "cell_type": "code",
   "execution_count": 15,
   "metadata": {},
   "outputs": [],
   "source": [
    "# You can use the following methods in Pythons interactive shell:\n",
    "# 1. `help(numpy.add)` - Displays detailed documentation\n",
    "# 2. `numpy.add.__doc__` - Shows the docstring\n",
    "# 3. `print(numpy.info(numpy.add))` - Prints function information\n",
    "\n",
    "# Alternative using IPython:\n",
    "# - Use `?numpy.add` or `??numpy.add` for basic or detailed help\n",
    "# - Use `%help numpy.add` for IPythons help system\n",
    "\n",
    "# Note: Make sure to import numpy first using `import numpy` "
   ]
  },
  {
   "cell_type": "markdown",
   "metadata": {},
   "source": [
    "#### 6. Create a null vector of size 10 but the fifth value which is 1 (★☆☆)"
   ]
  },
  {
   "cell_type": "code",
   "execution_count": 16,
   "metadata": {},
   "outputs": [
    {
     "name": "stdout",
     "output_type": "stream",
     "text": [
      "[0. 0. 0. 0. 1. 0. 0. 0. 0. 0.]\n"
     ]
    }
   ],
   "source": [
    "null_vector_with_one = np.zeros(10)\n",
    "null_vector_with_one[4] = 1\n",
    "print(null_vector_with_one)"
   ]
  },
  {
   "cell_type": "markdown",
   "metadata": {},
   "source": [
    "#### 7. Create a vector with values ranging from 10 to 49 (★☆☆)"
   ]
  },
  {
   "cell_type": "code",
   "execution_count": 17,
   "metadata": {},
   "outputs": [
    {
     "name": "stdout",
     "output_type": "stream",
     "text": [
      "[10 11 12 13 14 15 16 17 18 19 20 21 22 23 24 25 26 27 28 29 30 31 32 33\n",
      " 34 35 36 37 38 39 40 41 42 43 44 45 46 47 48 49]\n"
     ]
    }
   ],
   "source": [
    "vector_10_to_49 = np.arange(10, 50)\n",
    "print(vector_10_to_49)"
   ]
  },
  {
   "cell_type": "markdown",
   "metadata": {},
   "source": [
    "#### 8. Reverse a vector (first element becomes last) (★☆☆)"
   ]
  },
  {
   "cell_type": "code",
   "execution_count": 18,
   "metadata": {},
   "outputs": [
    {
     "name": "stdout",
     "output_type": "stream",
     "text": [
      "[49 48 47 46 45 44 43 42 41 40 39 38 37 36 35 34 33 32 31 30 29 28 27 26\n",
      " 25 24 23 22 21 20 19 18 17 16 15 14 13 12 11 10]\n"
     ]
    }
   ],
   "source": [
    "reversed_vector = vector_10_to_49[::-1]\n",
    "print(reversed_vector)"
   ]
  },
  {
   "cell_type": "markdown",
   "metadata": {},
   "source": [
    "#### 9. Create a 3x3 matrix with values ranging from 0 to 8 (★☆☆)"
   ]
  },
  {
   "cell_type": "code",
   "execution_count": 19,
   "metadata": {},
   "outputs": [
    {
     "name": "stdout",
     "output_type": "stream",
     "text": [
      "[[0 1 2]\n",
      " [3 4 5]\n",
      " [6 7 8]]\n"
     ]
    }
   ],
   "source": [
    "matrix = np.arange(9).reshape(3, 3)\n",
    "print(matrix)"
   ]
  },
  {
   "cell_type": "markdown",
   "metadata": {},
   "source": [
    "#### 10. Find indices of non-zero elements from [1,2,0,0,4,0] (★☆☆)"
   ]
  },
  {
   "cell_type": "code",
   "execution_count": 21,
   "metadata": {},
   "outputs": [
    {
     "name": "stdout",
     "output_type": "stream",
     "text": [
      "(array([0, 1, 4]),)\n"
     ]
    }
   ],
   "source": [
    "# A non-zero element in an array is any element that is not equal to zero. In the context of the provided code, the \n",
    "\n",
    "# The np.nonzero function returns a tuple of arrays, each containing the indices of the non-zero elements in the input array. In this case, it will return the indices of the elements 1, 2, and 4, which are at positions 0, 1, and 4 respectively.\n",
    "array = np.array([1, 2, 0, 0, 4, 0])\n",
    "non_zero_indices = np.nonzero(array)\n",
    "print(non_zero_indices)"
   ]
  },
  {
   "cell_type": "markdown",
   "metadata": {},
   "source": [
    "Save your progress by commiting your work to Jovian"
   ]
  },
  {
   "cell_type": "code",
   "execution_count": 4,
   "metadata": {},
   "outputs": [
    {
     "data": {
      "application/javascript": "if (window.IPython && IPython.notebook.kernel) IPython.notebook.kernel.execute('jovian.utils.jupyter.get_notebook_name_saved = lambda: \"' + IPython.notebook.notebook_name + '\"')",
      "text/plain": [
       "<IPython.core.display.Javascript object>"
      ]
     },
     "metadata": {},
     "output_type": "display_data"
    }
   ],
   "source": [
    "import jovian"
   ]
  },
  {
   "cell_type": "code",
   "execution_count": 27,
   "metadata": {},
   "outputs": [
    {
     "data": {
      "application/javascript": "window.require && require([\"base/js/namespace\"],function(Jupyter){Jupyter.notebook.save_checkpoint()})",
      "text/plain": [
       "<IPython.core.display.Javascript object>"
      ]
     },
     "metadata": {},
     "output_type": "display_data"
    },
    {
     "name": "stdout",
     "output_type": "stream",
     "text": [
      "[jovian] Attempting to save notebook..\u001b[0m\n",
      "[jovian] Updating notebook \"aakashns/numpy-100-exercises\" on https://jovian.ml/\u001b[0m\n",
      "[jovian] Uploading notebook..\u001b[0m\n",
      "[jovian] Capturing environment..\u001b[0m\n",
      "[jovian] Committed successfully! https://jovian.ml/aakashns/numpy-100-exercises\u001b[0m\n"
     ]
    },
    {
     "data": {
      "text/plain": [
       "'https://jovian.ml/aakashns/numpy-100-exercises'"
      ]
     },
     "execution_count": 27,
     "metadata": {},
     "output_type": "execute_result"
    }
   ],
   "source": [
    "jovian.commit(project='numpy-100-exercises')"
   ]
  },
  {
   "cell_type": "markdown",
   "metadata": {},
   "source": [
    "#### 11. Create a 3x3 identity matrix (★☆☆)"
   ]
  },
  {
   "cell_type": "code",
   "execution_count": 22,
   "metadata": {},
   "outputs": [
    {
     "name": "stdout",
     "output_type": "stream",
     "text": [
      "[[1. 0. 0.]\n",
      " [0. 1. 0.]\n",
      " [0. 0. 1.]]\n"
     ]
    }
   ],
   "source": [
    "identity_matrix = np.eye(3)\n",
    "print(identity_matrix)"
   ]
  },
  {
   "cell_type": "markdown",
   "metadata": {},
   "source": [
    "#### 12. Create a 3x3x3 array with random values (★☆☆)"
   ]
  },
  {
   "cell_type": "code",
   "execution_count": 23,
   "metadata": {},
   "outputs": [
    {
     "name": "stdout",
     "output_type": "stream",
     "text": [
      "[[[0.07962889 0.45390379 0.19993879]\n",
      "  [0.9797109  0.78149956 0.8184778 ]\n",
      "  [0.41643747 0.17349432 0.88358449]]\n",
      "\n",
      " [[0.51439548 0.24206136 0.37999947]\n",
      "  [0.8773817  0.91553853 0.5698833 ]\n",
      "  [0.05313742 0.88468978 0.43155208]]\n",
      "\n",
      " [[0.77626197 0.71691756 0.98438682]\n",
      "  [0.72910335 0.42514799 0.36522376]\n",
      "  [0.87766247 0.55478823 0.88913399]]]\n"
     ]
    }
   ],
   "source": [
    "random_3x3x3_array = np.random.random((3, 3, 3))\n",
    "print(random_3x3x3_array)"
   ]
  },
  {
   "cell_type": "markdown",
   "metadata": {},
   "source": [
    "#### 13. Create a 10x10 array with random values and find the minimum and maximum values (★☆☆)"
   ]
  },
  {
   "cell_type": "code",
   "execution_count": 24,
   "metadata": {},
   "outputs": [
    {
     "name": "stdout",
     "output_type": "stream",
     "text": [
      "Random 10x10 array:\n",
      " [[0.09014106 0.0282667  0.96428967 0.45721199 0.39045966 0.41922425\n",
      "  0.40772543 0.98773885 0.25645693 0.13083051]\n",
      " [0.44406309 0.29534263 0.2167273  0.20747692 0.54066004 0.87887511\n",
      "  0.193235   0.38403283 0.97383346 0.19833655]\n",
      " [0.87191662 0.54532794 0.24666299 0.40845643 0.82737499 0.7777214\n",
      "  0.18251832 0.67453424 0.07099332 0.7797825 ]\n",
      " [0.33254086 0.63669439 0.88656483 0.53472006 0.50421253 0.43060782\n",
      "  0.92318212 0.46102954 0.77575533 0.14629618]\n",
      " [0.24161342 0.09807972 0.71040745 0.14069246 0.66109865 0.31794487\n",
      "  0.2711011  0.74973418 0.10701666 0.1634898 ]\n",
      " [0.13602361 0.05270729 0.2693508  0.33261473 0.26388578 0.62462663\n",
      "  0.7586921  0.49004818 0.06017178 0.74963597]\n",
      " [0.35212847 0.65024363 0.72539603 0.13491111 0.8570242  0.21786975\n",
      "  0.22370254 0.88244501 0.86472431 0.4094618 ]\n",
      " [0.71595889 0.47519689 0.23170193 0.81630818 0.76439529 0.05672482\n",
      "  0.47893911 0.87252441 0.4617118  0.00361506]\n",
      " [0.09535104 0.65952003 0.81898111 0.15635932 0.59333924 0.38269262\n",
      "  0.79696827 0.61884533 0.00211953 0.49470501]\n",
      " [0.24512088 0.79123372 0.4190933  0.57351905 0.79085083 0.79088946\n",
      "  0.60542432 0.553915   0.02768096 0.31704851]]\n",
      "Minimum value: 0.0021195327963975386\n",
      "Maximum value: 0.9877388475925416\n"
     ]
    }
   ],
   "source": [
    "random_10x10_array = np.random.random((10, 10))\n",
    "min_value = random_10x10_array.min()\n",
    "max_value = random_10x10_array.max()\n",
    "print(\"Random 10x10 array:\\n\", random_10x10_array)\n",
    "print(\"Minimum value:\", min_value)\n",
    "print(\"Maximum value:\", max_value)"
   ]
  },
  {
   "cell_type": "markdown",
   "metadata": {},
   "source": [
    "#### 14. Create a random vector of size 30 and find the mean value (★☆☆)"
   ]
  },
  {
   "cell_type": "code",
   "execution_count": 25,
   "metadata": {},
   "outputs": [
    {
     "name": "stdout",
     "output_type": "stream",
     "text": [
      "Random vector: [0.7920801  0.12213534 0.5194166  0.56470574 0.3955325  0.90588674\n",
      " 0.75449755 0.93143889 0.99077496 0.23560347 0.1251017  0.30962601\n",
      " 0.13552396 0.04208607 0.67647648 0.93884198 0.00743207 0.85972307\n",
      " 0.35521555 0.17853259 0.99448439 0.16368155 0.90768491 0.17575086\n",
      " 0.54484236 0.12720116 0.59432956 0.97972619 0.69892278 0.09846266]\n",
      "Mean value: 0.5041905926076061\n"
     ]
    }
   ],
   "source": [
    "random_vector = np.random.random(30)\n",
    "mean_value = random_vector.mean()\n",
    "print(\"Random vector:\", random_vector)\n",
    "print(\"Mean value:\", mean_value)"
   ]
  },
  {
   "cell_type": "markdown",
   "metadata": {},
   "source": [
    "#### 15. Create a 2d array with 1 on the border and 0 inside (★☆☆)"
   ]
  },
  {
   "cell_type": "code",
   "execution_count": 26,
   "metadata": {},
   "outputs": [
    {
     "name": "stdout",
     "output_type": "stream",
     "text": [
      "[[1. 1. 1. 1. 1.]\n",
      " [1. 0. 0. 0. 1.]\n",
      " [1. 0. 0. 0. 1.]\n",
      " [1. 0. 0. 0. 1.]\n",
      " [1. 1. 1. 1. 1.]]\n"
     ]
    }
   ],
   "source": [
    "array_2d = np.ones((5, 5))\n",
    "array_2d[1:-1, 1:-1] = 0\n",
    "print(array_2d)"
   ]
  },
  {
   "cell_type": "markdown",
   "metadata": {},
   "source": [
    "#### 16. How to add a border (filled with 0's) around an existing array? (★☆☆)"
   ]
  },
  {
   "cell_type": "code",
   "execution_count": 27,
   "metadata": {},
   "outputs": [
    {
     "name": "stdout",
     "output_type": "stream",
     "text": [
      "[[0. 0. 0. 0. 0. 0. 0.]\n",
      " [0. 1. 1. 1. 1. 1. 0.]\n",
      " [0. 1. 0. 0. 0. 1. 0.]\n",
      " [0. 1. 0. 0. 0. 1. 0.]\n",
      " [0. 1. 0. 0. 0. 1. 0.]\n",
      " [0. 1. 1. 1. 1. 1. 0.]\n",
      " [0. 0. 0. 0. 0. 0. 0.]]\n"
     ]
    }
   ],
   "source": [
    "bordered_array = np.pad(array_2d, pad_width=1, mode='constant', constant_values=0)\n",
    "print(bordered_array)"
   ]
  },
  {
   "cell_type": "markdown",
   "metadata": {},
   "source": [
    "#### 17. What is the result of the following expression? (★☆☆)\n",
    "```python\n",
    "0 * np.nan\n",
    "np.nan == np.nan\n",
    "np.inf > np.nan\n",
    "np.nan - np.nan\n",
    "np.nan in set([np.nan])\n",
    "0.3 == 3 * 0.1\n",
    "```"
   ]
  },
  {
   "cell_type": "code",
   "execution_count": 28,
   "metadata": {},
   "outputs": [
    {
     "name": "stdout",
     "output_type": "stream",
     "text": [
      "nan\n",
      "False\n",
      "False\n",
      "nan\n",
      "True\n",
      "False\n"
     ]
    }
   ],
   "source": [
    "# 0 multiplied by np.nan results in np.nan\n",
    "result_1 = 0 * np.nan  # Output: nan\n",
    "\n",
    "# np.nan is not equal to np.nan\n",
    "result_2 = np.nan == np.nan  # Output: False\n",
    "\n",
    "# np.inf is not greater than np.nan\n",
    "result_3 = np.inf > np.nan  # Output: False\n",
    "\n",
    "# np.nan minus np.nan results in np.nan\n",
    "result_4 = np.nan - np.nan  # Output: nan\n",
    "\n",
    "# np.nan is considered in a set containing np.nan\n",
    "result_5 = np.nan in set([np.nan])  # Output: True\n",
    "\n",
    "# 0.3 is not exactly equal to 3 times 0.1 due to floating-point precision issues\n",
    "result_6 = 0.3 == 3 * 0.1  # Output: False\n",
    "\n",
    "# Print the results\n",
    "print(result_1)\n",
    "print(result_2)\n",
    "print(result_3)\n",
    "print(result_4)\n",
    "print(result_5)\n",
    "print(result_6)"
   ]
  },
  {
   "cell_type": "markdown",
   "metadata": {},
   "source": [
    "#### 18. Create a 5x5 matrix with values 1,2,3,4 just below the diagonal (★☆☆)"
   ]
  },
  {
   "cell_type": "code",
   "execution_count": 29,
   "metadata": {},
   "outputs": [
    {
     "name": "stdout",
     "output_type": "stream",
     "text": [
      "[[0 0 0 0 0]\n",
      " [1 0 0 0 0]\n",
      " [0 2 0 0 0]\n",
      " [0 0 3 0 0]\n",
      " [0 0 0 4 0]]\n"
     ]
    }
   ],
   "source": [
    "matrix_with_diag = np.diag([1, 2, 3, 4], k=-1)\n",
    "print(matrix_with_diag)"
   ]
  },
  {
   "cell_type": "markdown",
   "metadata": {},
   "source": [
    "#### 19. Create a 8x8 matrix and fill it with a checkerboard pattern (★☆☆)"
   ]
  },
  {
   "cell_type": "code",
   "execution_count": 30,
   "metadata": {},
   "outputs": [
    {
     "name": "stdout",
     "output_type": "stream",
     "text": [
      "[[0. 1. 0. 1. 0. 1. 0. 1.]\n",
      " [1. 0. 1. 0. 1. 0. 1. 0.]\n",
      " [0. 1. 0. 1. 0. 1. 0. 1.]\n",
      " [1. 0. 1. 0. 1. 0. 1. 0.]\n",
      " [0. 1. 0. 1. 0. 1. 0. 1.]\n",
      " [1. 0. 1. 0. 1. 0. 1. 0.]\n",
      " [0. 1. 0. 1. 0. 1. 0. 1.]\n",
      " [1. 0. 1. 0. 1. 0. 1. 0.]]\n"
     ]
    }
   ],
   "source": [
    "checkerboard = np.zeros((8, 8))\n",
    "checkerboard[1::2, ::2] = 1\n",
    "checkerboard[::2, 1::2] = 1\n",
    "print(checkerboard)"
   ]
  },
  {
   "cell_type": "markdown",
   "metadata": {},
   "source": [
    "#### 20. Consider a (6,7,8) shape array, what is the index (x,y,z) of the 100th element?"
   ]
  },
  {
   "cell_type": "code",
   "execution_count": 31,
   "metadata": {},
   "outputs": [
    {
     "name": "stdout",
     "output_type": "stream",
     "text": [
      "(np.int64(1), np.int64(5), np.int64(4))\n"
     ]
    }
   ],
   "source": [
    "index_100th_element = np.unravel_index(100, (6, 7, 8))\n",
    "print(index_100th_element)"
   ]
  },
  {
   "cell_type": "markdown",
   "metadata": {},
   "source": [
    "Save your progress by commiting your work to Jovian"
   ]
  },
  {
   "cell_type": "code",
   "execution_count": 7,
   "metadata": {},
   "outputs": [],
   "source": [
    "import jovian"
   ]
  },
  {
   "cell_type": "code",
   "execution_count": 6,
   "metadata": {},
   "outputs": [
    {
     "data": {
      "application/javascript": "window.require && require([\"base/js/namespace\"],function(Jupyter){Jupyter.notebook.save_checkpoint()})",
      "text/plain": [
       "<IPython.core.display.Javascript object>"
      ]
     },
     "metadata": {},
     "output_type": "display_data"
    },
    {
     "name": "stdout",
     "output_type": "stream",
     "text": [
      "[jovian] Attempting to save notebook..\u001b[0m\n",
      "[jovian] Updating notebook \"aakashns/numpy-100-exercises\" on https://jovian.ml/\u001b[0m\n",
      "[jovian] Uploading notebook..\u001b[0m\n",
      "[jovian] Capturing environment..\u001b[0m\n",
      "[jovian] Committed successfully! https://jovian.ml/aakashns/numpy-100-exercises\u001b[0m\n"
     ]
    },
    {
     "data": {
      "text/plain": [
       "'https://jovian.ml/aakashns/numpy-100-exercises'"
      ]
     },
     "execution_count": 6,
     "metadata": {},
     "output_type": "execute_result"
    }
   ],
   "source": [
    "jovian.commit()"
   ]
  },
  {
   "cell_type": "markdown",
   "metadata": {},
   "source": [
    "#### 21. Create a checkerboard 8x8 matrix using the tile function (★☆☆)"
   ]
  },
  {
   "cell_type": "code",
   "execution_count": 32,
   "metadata": {},
   "outputs": [
    {
     "name": "stdout",
     "output_type": "stream",
     "text": [
      "[[0 1 0 1 0 1 0 1]\n",
      " [1 0 1 0 1 0 1 0]\n",
      " [0 1 0 1 0 1 0 1]\n",
      " [1 0 1 0 1 0 1 0]\n",
      " [0 1 0 1 0 1 0 1]\n",
      " [1 0 1 0 1 0 1 0]\n",
      " [0 1 0 1 0 1 0 1]\n",
      " [1 0 1 0 1 0 1 0]]\n"
     ]
    }
   ],
   "source": [
    "pattern = np.array([[0,1], [1,0]])\n",
    "checkerboard_tile = np.tile(pattern, (4,4))\n",
    "print(checkerboard_tile)"
   ]
  },
  {
   "cell_type": "markdown",
   "metadata": {},
   "source": [
    "#### 22. Normalize a 5x5 random matrix (★☆☆)"
   ]
  },
  {
   "cell_type": "code",
   "execution_count": 33,
   "metadata": {},
   "outputs": [
    {
     "name": "stdout",
     "output_type": "stream",
     "text": [
      "Random matrix:\n",
      " [[0.78080545 0.83870546 0.81434963 0.45260504 0.9320642 ]\n",
      " [0.94457936 0.2267516  0.67454864 0.87149177 0.96511036]\n",
      " [0.72401843 0.72395031 0.75666569 0.20902953 0.50277613]\n",
      " [0.74268546 0.9906677  0.38597834 0.77136607 0.02676395]\n",
      " [0.16051296 0.74855481 0.14801104 0.29537991 0.60854951]]\n",
      "Normalized matrix:\n",
      " [[0.78227884 0.84234708 0.81707918 0.44178798 0.93920192]\n",
      " [0.95218575 0.20747678 0.67204292 0.87636117 0.9734856 ]\n",
      " [0.72336525 0.72329458 0.75723509 0.18909105 0.49383788]\n",
      " [0.74273133 1.         0.37266624 0.77248597 0.        ]\n",
      " [0.13875764 0.74882048 0.12578755 0.27867508 0.60357226]]\n"
     ]
    }
   ],
   "source": [
    "# Create a 5x5 random matrix\n",
    "random_matrix = np.random.random((5, 5))\n",
    "\n",
    "# Normalize the matrix\n",
    "# Subtract the minimum value from each element\n",
    "# Divide by the range (maximum value - minimum value)\n",
    "normalized_matrix = (random_matrix - random_matrix.min()) / (random_matrix.max() - random_matrix.min())\n",
    "\n",
    "print(\"Random matrix:\\n\", random_matrix)\n",
    "print(\"Normalized matrix:\\n\", normalized_matrix)"
   ]
  },
  {
   "cell_type": "markdown",
   "metadata": {},
   "source": [
    "#### 23. Create a custom dtype that describes a color as four unsigned bytes (RGBA) (★☆☆)"
   ]
  },
  {
   "cell_type": "code",
   "execution_count": 34,
   "metadata": {},
   "outputs": [
    {
     "name": "stdout",
     "output_type": "stream",
     "text": [
      "(255, 0, 0, 128)\n"
     ]
    }
   ],
   "source": [
    "# Create a custom dtype for RGBA color\n",
    "# Each component (Red, Green, Blue, Alpha) is represented as an unsigned byte (uint8)\n",
    "# uint8 ranges from 0 to 255, perfect for color components\n",
    "color_dtype = np.dtype([('R', np.uint8), \n",
    "                       ('G', np.uint8),\n",
    "                       ('B', np.uint8), \n",
    "                       ('A', np.uint8)])\n",
    "\n",
    "# Create a color array using the custom dtype\n",
    "# Create one color as example: red with 50% transparency\n",
    "color = np.array((255, 0, 0, 128), dtype=color_dtype)\n",
    "print(color)"
   ]
  },
  {
   "cell_type": "markdown",
   "metadata": {},
   "source": [
    "#### 24. Multiply a 5x3 matrix by a 3x2 matrix (real matrix product) (★☆☆)"
   ]
  },
  {
   "cell_type": "code",
   "execution_count": 35,
   "metadata": {},
   "outputs": [
    {
     "name": "stdout",
     "output_type": "stream",
     "text": [
      "5x3 matrix:\n",
      " [[0.50735487 0.64930988 0.17377111]\n",
      " [0.46117249 0.75036188 0.11096941]\n",
      " [0.39000378 0.01949046 0.97995703]\n",
      " [0.01489791 0.77654789 0.95690973]\n",
      " [0.735702   0.78411492 0.20869803]]\n",
      "3x2 matrix:\n",
      " [[0.72534102 0.88259177]\n",
      " [0.0895083  0.43867142]\n",
      " [0.6945347  0.53551982]]\n",
      "Result of multiplication (5x2 matrix):\n",
      " [[0.54681399 0.82567879]\n",
      " [0.47874305 0.79561567]\n",
      " [0.96524446 0.87755045]\n",
      " [0.74492056 0.86624227]\n",
      " [0.74876765 1.10505526]]\n"
     ]
    }
   ],
   "source": [
    "# Create a 5x3 matrix with random values\n",
    "matrix_5x3 = np.random.random((5, 3))\n",
    "\n",
    "# Create a 3x2 matrix with random values\n",
    "matrix_3x2 = np.random.random((3, 2))\n",
    "\n",
    "# Perform matrix multiplication (dot product)\n",
    "# The result will be a 5x2 matrix\n",
    "result_matrix = np.dot(matrix_5x3, matrix_3x2)\n",
    "\n",
    "print(\"5x3 matrix:\\n\", matrix_5x3)\n",
    "print(\"3x2 matrix:\\n\", matrix_3x2)\n",
    "print(\"Result of multiplication (5x2 matrix):\\n\", result_matrix)"
   ]
  },
  {
   "cell_type": "markdown",
   "metadata": {},
   "source": [
    "#### 25. Given a 1D array, negate all elements which are between 3 and 8, in place. (★☆☆)"
   ]
  },
  {
   "cell_type": "code",
   "execution_count": 36,
   "metadata": {},
   "outputs": [
    {
     "name": "stdout",
     "output_type": "stream",
     "text": [
      "[ 1  2 -3 -4 -5 -6 -7 -8  9 10]\n"
     ]
    }
   ],
   "source": [
    "# Create a sample 1D array\n",
    "Z = np.array([1, 2, 3, 4, 5, 6, 7, 8, 9, 10])\n",
    "\n",
    "# Negate elements between 3 and 8 (inclusive)\n",
    "# Using boolean masking to identify elements between 3 and 8\n",
    "# The & operator performs element-wise AND operation\n",
    "# Z[condition] selects elements where condition is True\n",
    "Z[(Z >= 3) & (Z <= 8)] *= -1\n",
    "\n",
    "print(Z)"
   ]
  },
  {
   "cell_type": "markdown",
   "metadata": {},
   "source": [
    "#### 26. What is the output of the following script? (★☆☆)\n",
    "```python\n",
    "# Author: Jake VanderPlas\n",
    "\n",
    "print(sum(range(5),-1))\n",
    "from numpy import *\n",
    "print(sum(range(5),-1))\n",
    "```"
   ]
  },
  {
   "cell_type": "code",
   "execution_count": 37,
   "metadata": {},
   "outputs": [
    {
     "name": "stdout",
     "output_type": "stream",
     "text": [
      "9\n",
      "10\n"
     ]
    }
   ],
   "source": [
    "# The first print statement uses Python's built-in sum function.\n",
    "# sum(range(5), -1) calculates the sum of the range(5) which is [0, 1, 2, 3, 4] and adds -1 to it.\n",
    "# So, sum([0, 1, 2, 3, 4]) = 10, and 10 + (-1) = 9.\n",
    "print(sum(range(5), -1))  # Output: 9\n",
    "\n",
    "# The second print statement uses numpy's sum function.\n",
    "# When using numpy's sum function, the second argument is interpreted as the axis along which to sum.\n",
    "# Since range(5) produces a 1D array [0, 1, 2, 3, 4], specifying axis=-1 sums along the last axis.\n",
    "# Therefore, it sums all elements in the array [0, 1, 2, 3, 4], resulting in 10.\n",
    "from numpy import *\n",
    "print(sum(range(5), -1))  # Output: 10"
   ]
  },
  {
   "cell_type": "markdown",
   "metadata": {},
   "source": [
    "#### 27. Consider an integer vector Z, which of these expressions are legal? (★☆☆)\n",
    "```python\n",
    "Z**Z\n",
    "2 << Z >> 2\n",
    "Z <- Z\n",
    "1j*Z\n",
    "Z/1/1\n",
    "Z<Z>Z\n",
    "```"
   ]
  },
  {
   "cell_type": "code",
   "execution_count": 38,
   "metadata": {},
   "outputs": [
    {
     "name": "stdout",
     "output_type": "stream",
     "text": [
      "Z**Z: [ 4 27]\n",
      "2 << Z >> 2: [2 4]\n",
      "1j*Z: [0.+2.j 0.+3.j]\n",
      "Z/1/1: [2. 3.]\n"
     ]
    }
   ],
   "source": [
    "# Let's analyze each expression:\n",
    "\n",
    "# 1. Z**Z \n",
    "# Legal: Element-wise exponentiation where each element is raised to power of itself\n",
    "# Example: if Z = [2,3], result = [4,27]\n",
    "\n",
    "# 2. 2 << Z >> 2\n",
    "# Legal: Bitwise shift operations \n",
    "# First shifts 2 left by Z positions, then shifts result right by 2\n",
    "# Note: Be careful with large values as shifts can overflow\n",
    "\n",
    "# 3. Z <- Z\n",
    "# Illegal in Python: '<-' is not a valid operator in Python\n",
    "# This is valid in R but not in Python. Use '=' or '==' instead\n",
    "\n",
    "# 4. 1j*Z\n",
    "# Legal: Multiplies Z by complex number 1j\n",
    "# Converts integer vector to complex vector\n",
    "# Example: if Z = [1,2], result = [1j,2j]\n",
    "\n",
    "# 5. Z/1/1\n",
    "# Legal: Double division\n",
    "# Equivalent to (Z/1)/1, which is same as Z\n",
    "# Note: Division converts integers to floating point\n",
    "\n",
    "# 6. Z<Z>Z\n",
    "# Illegal: Invalid syntax\n",
    "# Cannot chain comparison operators this way\n",
    "# Should be written as (Z<Z) or (Z>Z) separately\n",
    "\n",
    "Z = np.array([2, 3])\n",
    "\n",
    "print(\"Z**Z:\", Z**Z)  # [4 27]\n",
    "print(\"2 << Z >> 2:\", 2 << Z >> 2)  # [2 8]\n",
    "print(\"1j*Z:\", 1j*Z)  # [2.j 3.j]\n",
    "print(\"Z/1/1:\", Z/1/1)  # [2. 3.]"
   ]
  },
  {
   "cell_type": "markdown",
   "metadata": {},
   "source": [
    "#### 28. What are the result of the following expressions?\n",
    "```python\n",
    "np.array(0) / np.array(0)\n",
    "np.array(0) // np.array(0)\n",
    "np.array([np.nan]).astype(int).astype(float)\n",
    "```"
   ]
  },
  {
   "cell_type": "code",
   "execution_count": 40,
   "metadata": {},
   "outputs": [
    {
     "name": "stderr",
     "output_type": "stream",
     "text": [
      "C:\\Users\\chris\\AppData\\Local\\Temp\\ipykernel_6340\\548293649.py:1: RuntimeWarning: invalid value encountered in divide\n",
      "  np.array(0) / np.array(0)\n",
      "C:\\Users\\chris\\AppData\\Local\\Temp\\ipykernel_6340\\548293649.py:2: RuntimeWarning: divide by zero encountered in floor_divide\n",
      "  np.array(0) // np.array(0)\n",
      "C:\\Users\\chris\\AppData\\Local\\Temp\\ipykernel_6340\\548293649.py:3: RuntimeWarning: invalid value encountered in cast\n",
      "  np.array([np.nan]).astype(int).astype(float)\n"
     ]
    },
    {
     "data": {
      "text/plain": [
       "array([-9.22337204e+18])"
      ]
     },
     "execution_count": 40,
     "metadata": {},
     "output_type": "execute_result"
    }
   ],
   "source": [
    "np.array(0) / np.array(0)\n",
    "np.array(0) // np.array(0)\n",
    "np.array([np.nan]).astype(int).astype(float)"
   ]
  },
  {
   "cell_type": "markdown",
   "metadata": {},
   "source": [
    "#### 29. How to round away from zero a float array ? (★☆☆)"
   ]
  },
  {
   "cell_type": "code",
   "execution_count": 41,
   "metadata": {},
   "outputs": [
    {
     "name": "stdout",
     "output_type": "stream",
     "text": [
      "[-3. -2. -1.  1.  2.  3.]\n"
     ]
    }
   ],
   "source": [
    "float_array = np.array([-2.7, -1.5, -0.2, 0.2, 1.5, 2.7])\n",
    "rounded_array = np.copysign(np.ceil(np.abs(float_array)), float_array)\n",
    "print(rounded_array)"
   ]
  },
  {
   "cell_type": "markdown",
   "metadata": {},
   "source": [
    "#### 30. How to find common values between two arrays? (★☆☆)"
   ]
  },
  {
   "cell_type": "code",
   "execution_count": 42,
   "metadata": {},
   "outputs": [
    {
     "name": "stdout",
     "output_type": "stream",
     "text": [
      "Array 1: [1 2 3 4 5]\n",
      "Array 2: [4 5 6 7 8]\n",
      "Common values: [4 5]\n"
     ]
    }
   ],
   "source": [
    "# Create two test arrays\n",
    "arr1 = np.array([1, 2, 3, 4, 5])\n",
    "arr2 = np.array([4, 5, 6, 7, 8])\n",
    "\n",
    "# Find common values between the two arrays\n",
    "common_values = np.intersect1d(arr1, arr2)\n",
    "\n",
    "print(\"Array 1:\", arr1)\n",
    "print(\"Array 2:\", arr2)\n",
    "print(\"Common values:\", common_values)"
   ]
  },
  {
   "cell_type": "markdown",
   "metadata": {},
   "source": [
    "Save your progress by commiting your work to Jovian"
   ]
  },
  {
   "cell_type": "code",
   "execution_count": 8,
   "metadata": {},
   "outputs": [],
   "source": [
    "import jovian"
   ]
  },
  {
   "cell_type": "code",
   "execution_count": 9,
   "metadata": {},
   "outputs": [
    {
     "data": {
      "application/javascript": "window.require && require([\"base/js/namespace\"],function(Jupyter){Jupyter.notebook.save_checkpoint()})",
      "text/plain": [
       "<IPython.core.display.Javascript object>"
      ]
     },
     "metadata": {},
     "output_type": "display_data"
    },
    {
     "name": "stdout",
     "output_type": "stream",
     "text": [
      "[jovian] Attempting to save notebook..\u001b[0m\n",
      "[jovian] Updating notebook \"aakashns/numpy-100-exercises\" on https://jovian.ml/\u001b[0m\n",
      "[jovian] Uploading notebook..\u001b[0m\n",
      "[jovian] Capturing environment..\u001b[0m\n",
      "[jovian] Committed successfully! https://jovian.ml/aakashns/numpy-100-exercises\u001b[0m\n"
     ]
    },
    {
     "data": {
      "text/plain": [
       "'https://jovian.ml/aakashns/numpy-100-exercises'"
      ]
     },
     "execution_count": 9,
     "metadata": {},
     "output_type": "execute_result"
    }
   ],
   "source": [
    "jovian.commit()"
   ]
  },
  {
   "cell_type": "markdown",
   "metadata": {},
   "source": [
    "#### 31. How to ignore all numpy warnings (not recommended)? (★☆☆)"
   ]
  },
  {
   "cell_type": "code",
   "execution_count": 43,
   "metadata": {},
   "outputs": [
    {
     "name": "stdout",
     "output_type": "stream",
     "text": [
      "nan\n",
      "0\n",
      "[-9.22337204e+18]\n"
     ]
    }
   ],
   "source": [
    "# Ignore all numpy warnings\n",
    "np.seterr(all='ignore')\n",
    "\n",
    "# Example code that would normally generate warnings\n",
    "print(np.array(0) / np.array(0))\n",
    "print(np.array(0) // np.array(0))\n",
    "print(np.array([np.nan]).astype(int).astype(float))"
   ]
  },
  {
   "cell_type": "markdown",
   "metadata": {},
   "source": [
    "#### 32. Is the following expressions true? (★☆☆)\n",
    "```python\n",
    "np.sqrt(-1) == np.emath.sqrt(-1)\n",
    "```"
   ]
  },
  {
   "cell_type": "code",
   "execution_count": 44,
   "metadata": {},
   "outputs": [
    {
     "name": "stdout",
     "output_type": "stream",
     "text": [
      "False\n"
     ]
    }
   ],
   "source": [
    "# Let's break down the expressions to understand if they are true.\n",
    "\n",
    "# np.sqrt(-1):\n",
    "\n",
    "# np.sqrt is a function from the NumPy library that computes the square root of a number.\n",
    "# When you pass a negative number to np.sqrt, it returns nan (Not a Number) because the square root of a negative number is not defined in the set of real numbers.\n",
    "# np.emath.sqrt(-1):\n",
    "\n",
    "# np.emath.sqrt is a function from the NumPy library that computes the square root of a number, but it is part of the emath module which handles complex numbers.\n",
    "# When you pass a negative number to np.emath.sqrt, it returns a complex number. In this case, np.emath.sqrt(-1) returns 1j, which is the imaginary unit.\n",
    "\n",
    "\n",
    "result = np.sqrt(-1) == np.emath.sqrt(-1)\n",
    "print(result)"
   ]
  },
  {
   "cell_type": "markdown",
   "metadata": {},
   "source": [
    "#### 33. How to get the dates of yesterday, today and tomorrow? (★☆☆)"
   ]
  },
  {
   "cell_type": "code",
   "execution_count": 46,
   "metadata": {},
   "outputs": [
    {
     "name": "stdout",
     "output_type": "stream",
     "text": [
      "Yesterday: 2025-01-03\n",
      "Today: 2025-01-04\n",
      "Tomorrow: 2025-01-05\n"
     ]
    }
   ],
   "source": [
    "yesterday = np.datetime64('today', 'D') - np.timedelta64(1, 'D')\n",
    "today = np.datetime64('today', 'D')\n",
    "tomorrow = np.datetime64('today', 'D') + np.timedelta64(1, 'D')\n",
    "\n",
    "print(\"Yesterday:\", yesterday)\n",
    "print(\"Today:\", today)\n",
    "print(\"Tomorrow:\", tomorrow)"
   ]
  },
  {
   "cell_type": "markdown",
   "metadata": {},
   "source": [
    "#### 34. How to get all the dates corresponding to the month of July 2016? (★★☆)"
   ]
  },
  {
   "cell_type": "code",
   "execution_count": 47,
   "metadata": {},
   "outputs": [
    {
     "name": "stdout",
     "output_type": "stream",
     "text": [
      "['2016-07-01' '2016-07-02' '2016-07-03' '2016-07-04' '2016-07-05'\n",
      " '2016-07-06' '2016-07-07' '2016-07-08' '2016-07-09' '2016-07-10'\n",
      " '2016-07-11' '2016-07-12' '2016-07-13' '2016-07-14' '2016-07-15'\n",
      " '2016-07-16' '2016-07-17' '2016-07-18' '2016-07-19' '2016-07-20'\n",
      " '2016-07-21' '2016-07-22' '2016-07-23' '2016-07-24' '2016-07-25'\n",
      " '2016-07-26' '2016-07-27' '2016-07-28' '2016-07-29' '2016-07-30'\n",
      " '2016-07-31']\n"
     ]
    }
   ],
   "source": [
    "july_2016 = np.arange('2016-07-01', '2016-08-01', dtype='datetime64[D]')\n",
    "print(july_2016)"
   ]
  },
  {
   "cell_type": "markdown",
   "metadata": {},
   "source": [
    "#### 35. How to compute ((A+B)*(-A/2)) in place (without copy)? (★★☆)"
   ]
  },
  {
   "cell_type": "code",
   "execution_count": 48,
   "metadata": {},
   "outputs": [
    {
     "name": "stdout",
     "output_type": "stream",
     "text": [
      "[-0.25 -0.25 -0.25]\n"
     ]
    }
   ],
   "source": [
    "# Create sample arrays A and B\n",
    "A = np.ones(3)\n",
    "B = np.ones(3)\n",
    "\n",
    "# Compute ((A+B)*(-A/2)) in place without creating temporary arrays\n",
    "# 1. First compute A/2 and store in A itself\n",
    "A /= 2.0\n",
    "# 2. Negate A in place\n",
    "A *= -1\n",
    "# 3. Add B to A and multiply the result with original A\n",
    "A *= (A + B)\n",
    "\n",
    "print(A)\n",
    "\n",
    "# The above computation breaks down the formula ((A+B)*(-A/2)) into steps:\n",
    "# 1. A = A/2 \n",
    "# 2. A = -A\n",
    "# 3. A = A * (A + B)\n",
    "# Each step modifies A in place without creating new arrays\n",
    "# This saves memory as we reuse the same array instead of creating temporary ones"
   ]
  },
  {
   "cell_type": "markdown",
   "metadata": {},
   "source": [
    "#### 36. Extract the integer part of a random array of positive numbers using 4 different methods (★★☆)"
   ]
  },
  {
   "cell_type": "code",
   "execution_count": 52,
   "metadata": {},
   "outputs": [
    {
     "name": "stdout",
     "output_type": "stream",
     "text": [
      "Original array: [50.17167894 53.92595714 42.72495773 48.22982292 81.02331564 70.09155866\n",
      " 61.74884683 91.68134541 73.65955191 79.81699573]\n",
      "Integer part using np.floor: [50. 53. 42. 48. 81. 70. 61. 91. 73. 79.]\n",
      "Integer part using np.trunc: [50. 53. 42. 48. 81. 70. 61. 91. 73. 79.]\n",
      "Integer part using astype(int): [50 53 42 48 81 70 61 91 73 79]\n",
      "Integer part using np.floor_divide: [50. 53. 42. 48. 81. 70. 61. 91. 73. 79.]\n"
     ]
    }
   ],
   "source": [
    "# Create a random array of positive numbers\n",
    "random_array = np.random.random(10) * 100\n",
    "print(\"Original array:\", random_array)\n",
    "\n",
    "# Method 1: Using np.floor\n",
    "integer_part_floor = np.floor(random_array)\n",
    "print(\"Integer part using np.floor:\", integer_part_floor)\n",
    "\n",
    "# Method 2: Using np.trunc\n",
    "integer_part_trunc = np.trunc(random_array)\n",
    "print(\"Integer part using np.trunc:\", integer_part_trunc)\n",
    "\n",
    "# Method 3: Using astype(int)\n",
    "integer_part_astype = random_array.astype(int)\n",
    "print(\"Integer part using astype(int):\", integer_part_astype)\n",
    "\n",
    "# Method 4: Using np.floor_divide\n",
    "integer_part_floor_divide = np.floor_divide(random_array, 1)\n",
    "print(\"Integer part using np.floor_divide:\", integer_part_floor_divide)\n"
   ]
  },
  {
   "cell_type": "markdown",
   "metadata": {},
   "source": [
    "#### 37. Create a 5x5 matrix with row values ranging from 0 to 4 (★★☆)"
   ]
  },
  {
   "cell_type": "code",
   "execution_count": 50,
   "metadata": {},
   "outputs": [
    {
     "name": "stdout",
     "output_type": "stream",
     "text": [
      "[[0. 1. 2. 3. 4.]\n",
      " [0. 1. 2. 3. 4.]\n",
      " [0. 1. 2. 3. 4.]\n",
      " [0. 1. 2. 3. 4.]\n",
      " [0. 1. 2. 3. 4.]]\n"
     ]
    }
   ],
   "source": [
    "# Create a 5x5 matrix where each row contains values from 0 to 4\n",
    "# Method 1: Using np.tile and np.arange\n",
    "# 1. Create array [0,1,2,3,4] using np.arange\n",
    "# 2. Create 5 copies of this array using np.tile \n",
    "# 3. Reshape into 5x5 matrix\n",
    "matrix = np.tile(np.arange(5), 5).reshape(5, 5)\n",
    "\n",
    "# Method 2: Using broadcasting with mgrid\n",
    "# This creates a matrix where each row is [0,1,2,3,4]\n",
    "matrix = np.zeros((5, 5)) + np.arange(5)\n",
    "\n",
    "print(matrix)"
   ]
  },
  {
   "cell_type": "markdown",
   "metadata": {},
   "source": [
    "#### 38. Consider a generator function that generates 10 integers and use it to build an array (★☆☆)"
   ]
  },
  {
   "cell_type": "code",
   "execution_count": 51,
   "metadata": {},
   "outputs": [
    {
     "name": "stdout",
     "output_type": "stream",
     "text": [
      "[0 1 2 3 4 5 6 7 8 9]\n"
     ]
    }
   ],
   "source": [
    "def generate_integers():\n",
    "    for i in range(10):\n",
    "        yield i\n",
    "\n",
    "# Use the generator to build an array\n",
    "generated_array = np.fromiter(generate_integers(), dtype=int)\n",
    "print(generated_array)"
   ]
  },
  {
   "cell_type": "markdown",
   "metadata": {},
   "source": [
    "#### 39. Create a vector of size 10 with values ranging from 0 to 1, both excluded (★★☆)"
   ]
  },
  {
   "cell_type": "code",
   "execution_count": 53,
   "metadata": {},
   "outputs": [
    {
     "name": "stdout",
     "output_type": "stream",
     "text": [
      "[0.09090909 0.18181818 0.27272727 0.36363636 0.45454545 0.54545455\n",
      " 0.63636364 0.72727273 0.81818182 0.90909091]\n"
     ]
    }
   ],
   "source": [
    "# Create a vector of size 10 with values ranging from 0 to 1, both excluded\n",
    "# We can use the linspace function to generate evenly spaced values within a specified range\n",
    "# However, linspace includes the endpoints by default, so we need to exclude them\n",
    "# We can achieve this by specifying the start and stop parameters slightly inside the desired range\n",
    "\n",
    "vector_0_to_1_excluded = np.linspace(0, 1, 12)[1:-1]\n",
    "print(vector_0_to_1_excluded)"
   ]
  },
  {
   "cell_type": "markdown",
   "metadata": {},
   "source": [
    "#### 40. Create a random vector of size 10 and sort it (★★☆)"
   ]
  },
  {
   "cell_type": "code",
   "execution_count": 54,
   "metadata": {},
   "outputs": [
    {
     "name": "stdout",
     "output_type": "stream",
     "text": [
      "Original random vector: [0.52184988 0.65267868 0.0457879  0.50065808 0.48236715 0.36282085\n",
      " 0.00175523 0.25255608 0.79525598 0.96855907]\n",
      "Sorted vector: [0.00175523 0.0457879  0.25255608 0.36282085 0.48236715 0.50065808\n",
      " 0.52184988 0.65267868 0.79525598 0.96855907]\n"
     ]
    }
   ],
   "source": [
    "# Create a random vector of size 10\n",
    "random_vector = np.random.random(10)\n",
    "print(\"Original random vector:\", random_vector)\n",
    "\n",
    "# Sort the vector\n",
    "sorted_vector = np.sort(random_vector)\n",
    "print(\"Sorted vector:\", sorted_vector)"
   ]
  },
  {
   "cell_type": "markdown",
   "metadata": {},
   "source": [
    "Save your progress by commiting your work to Jovian"
   ]
  },
  {
   "cell_type": "code",
   "execution_count": 45,
   "metadata": {},
   "outputs": [
    {
     "ename": "ModuleNotFoundError",
     "evalue": "No module named 'jovian'",
     "output_type": "error",
     "traceback": [
      "\u001b[1;31m---------------------------------------------------------------------------\u001b[0m",
      "\u001b[1;31mModuleNotFoundError\u001b[0m                       Traceback (most recent call last)",
      "Cell \u001b[1;32mIn[45], line 1\u001b[0m\n\u001b[1;32m----> 1\u001b[0m \u001b[38;5;28;01mimport\u001b[39;00m \u001b[38;5;21;01mjovian\u001b[39;00m\n",
      "\u001b[1;31mModuleNotFoundError\u001b[0m: No module named 'jovian'"
     ]
    }
   ],
   "source": [
    "import jovian"
   ]
  },
  {
   "cell_type": "code",
   "execution_count": 11,
   "metadata": {},
   "outputs": [
    {
     "data": {
      "application/javascript": "window.require && require([\"base/js/namespace\"],function(Jupyter){Jupyter.notebook.save_checkpoint()})",
      "text/plain": [
       "<IPython.core.display.Javascript object>"
      ]
     },
     "metadata": {},
     "output_type": "display_data"
    },
    {
     "name": "stdout",
     "output_type": "stream",
     "text": [
      "[jovian] Attempting to save notebook..\u001b[0m\n",
      "[jovian] Updating notebook \"aakashns/numpy-100-exercises\" on https://jovian.ml/\u001b[0m\n",
      "[jovian] Uploading notebook..\u001b[0m\n",
      "[jovian] Capturing environment..\u001b[0m\n",
      "[jovian] Committed successfully! https://jovian.ml/aakashns/numpy-100-exercises\u001b[0m\n"
     ]
    },
    {
     "data": {
      "text/plain": [
       "'https://jovian.ml/aakashns/numpy-100-exercises'"
      ]
     },
     "execution_count": 11,
     "metadata": {},
     "output_type": "execute_result"
    }
   ],
   "source": [
    "jovian.commit()"
   ]
  },
  {
   "cell_type": "markdown",
   "metadata": {},
   "source": [
    "#### 41. How to sum a small array faster than np.sum? (★★☆)"
   ]
  },
  {
   "cell_type": "code",
   "execution_count": 55,
   "metadata": {},
   "outputs": [
    {
     "name": "stdout",
     "output_type": "stream",
     "text": [
      "Results:\n",
      "np.sum(): 10\n",
      "built-in sum(): 10\n",
      "array.sum(): 10\n",
      "np.add.reduce(): 10\n"
     ]
    }
   ],
   "source": [
    "# Create a small array for testing\n",
    "small_array = np.array([1, 2, 3, 4])\n",
    "\n",
    "# Method 1: Using np.sum\n",
    "# This is the standard way but may have overhead for small arrays\n",
    "sum1 = np.sum(small_array)\n",
    "\n",
    "# Method 2: Using Python's built-in sum\n",
    "# This can be faster for very small arrays\n",
    "sum2 = sum(small_array)\n",
    "\n",
    "# Method 3: Using array.sum()\n",
    "# This is a method of the array object\n",
    "sum3 = small_array.sum()\n",
    "\n",
    "# Method 4: Using reduce and add\n",
    "# This can be faster for small arrays\n",
    "sum4 = np.add.reduce(small_array)\n",
    "\n",
    "print(\"Results:\")\n",
    "print(\"np.sum():\", sum1)\n",
    "print(\"built-in sum():\", sum2)\n",
    "print(\"array.sum():\", sum3)\n",
    "print(\"np.add.reduce():\", sum4)\n",
    "\n",
    "# Note: For very small arrays, Python's built-in sum() might be faster\n",
    "# because numpy's sum has some overhead for setting up the calculation"
   ]
  },
  {
   "cell_type": "markdown",
   "metadata": {},
   "source": [
    "#### 42. Consider two random array A and B, check if they are equal (★★☆)"
   ]
  },
  {
   "cell_type": "code",
   "execution_count": 56,
   "metadata": {},
   "outputs": [
    {
     "name": "stdout",
     "output_type": "stream",
     "text": [
      "Are arrays A and B equal? False\n"
     ]
    }
   ],
   "source": [
    "are_equal = np.array_equal(A, B)\n",
    "print(\"Are arrays A and B equal?\", are_equal)"
   ]
  },
  {
   "cell_type": "markdown",
   "metadata": {},
   "source": [
    "#### 43. Make an array immutable (read-only) (★★☆)"
   ]
  },
  {
   "cell_type": "code",
   "execution_count": 57,
   "metadata": {},
   "outputs": [
    {
     "name": "stdout",
     "output_type": "stream",
     "text": [
      "[1 2 3 4 5]\n"
     ]
    }
   ],
   "source": [
    "# Create a sample array\n",
    "immutable_array = np.array([1, 2, 3, 4, 5])\n",
    "\n",
    "# Make the array immutable (read-only)\n",
    "immutable_array.flags.writeable = False\n",
    "\n",
    "print(immutable_array)\n",
    "\n",
    "# Trying to modify the array will now raise an error\n",
    "# immutable_array[0] = 10  # Uncommenting this line will raise a ValueError"
   ]
  },
  {
   "cell_type": "markdown",
   "metadata": {},
   "source": [
    "#### 44. Consider a random 10x2 matrix representing cartesian coordinates, convert them to polar coordinates (★★☆)"
   ]
  },
  {
   "cell_type": "code",
   "execution_count": 58,
   "metadata": {},
   "outputs": [
    {
     "name": "stdout",
     "output_type": "stream",
     "text": [
      "Cartesian coordinates:\n",
      " [[0.89937124 0.03188155]\n",
      " [0.26624015 0.11797186]\n",
      " [0.85753592 0.63471683]\n",
      " [0.74021786 0.68049063]\n",
      " [0.34482378 0.09082762]\n",
      " [0.57506482 0.4851021 ]\n",
      " [0.31128173 0.34462879]\n",
      " [0.01149208 0.00620273]\n",
      " [0.36009199 0.87001635]\n",
      " [0.38794276 0.09053662]]\n",
      "Polar coordinates:\n",
      " [[0.89993614 0.03543387]\n",
      " [0.29120642 0.41710375]\n",
      " [1.06688018 0.63717599]\n",
      " [1.00547998 0.74338245]\n",
      " [0.35658533 0.25755294]\n",
      " [0.7523454  0.70074384]\n",
      " [0.4643978  0.8361953 ]\n",
      " [0.01305916 0.49493163]\n",
      " [0.94159157 1.17837255]\n",
      " [0.39836725 0.22927261]]\n"
     ]
    }
   ],
   "source": [
    "# Create a random 10x2 matrix representing Cartesian coordinates\n",
    "cartesian_coords = np.random.random((10, 2))\n",
    "print(\"Cartesian coordinates:\\n\", cartesian_coords)\n",
    "\n",
    "# Convert to polar coordinates\n",
    "# Radius r is calculated as the Euclidean distance from the origin\n",
    "r = np.sqrt(cartesian_coords[:, 0]**2 + cartesian_coords[:, 1]**2)\n",
    "\n",
    "# Angle theta is calculated using the arctan2 function\n",
    "theta = np.arctan2(cartesian_coords[:, 1], cartesian_coords[:, 0])\n",
    "\n",
    "# Combine r and theta into a single array\n",
    "polar_coords = np.column_stack((r, theta))\n",
    "print(\"Polar coordinates:\\n\", polar_coords)"
   ]
  },
  {
   "cell_type": "markdown",
   "metadata": {},
   "source": [
    "#### 45. Create random vector of size 10 and replace the maximum value by 0 (★★☆)"
   ]
  },
  {
   "cell_type": "code",
   "execution_count": 59,
   "metadata": {},
   "outputs": [
    {
     "name": "stdout",
     "output_type": "stream",
     "text": [
      "Original random vector: [0.31322507 0.35756986 0.82429182 0.00801343 0.74149814 0.46253861\n",
      " 0.32501379 0.74263528 0.24802952 0.74086468]\n",
      "Modified vector with maximum value replaced by 0: [0.31322507 0.35756986 0.         0.00801343 0.74149814 0.46253861\n",
      " 0.32501379 0.74263528 0.24802952 0.74086468]\n"
     ]
    }
   ],
   "source": [
    "# Create a random vector of size 10\n",
    "random_vector = np.random.random(10)\n",
    "print(\"Original random vector:\", random_vector)\n",
    "\n",
    "# Find the index of the maximum value in the vector\n",
    "max_index = np.argmax(random_vector)\n",
    "\n",
    "# Replace the maximum value with 0\n",
    "random_vector[max_index] = 0\n",
    "\n",
    "print(\"Modified vector with maximum value replaced by 0:\", random_vector)"
   ]
  },
  {
   "cell_type": "markdown",
   "metadata": {},
   "source": [
    "#### 46. Create a structured array with `x` and `y` coordinates covering the [0,1]x[0,1] area (★★☆)"
   ]
  },
  {
   "cell_type": "code",
   "execution_count": 60,
   "metadata": {},
   "outputs": [
    {
     "name": "stdout",
     "output_type": "stream",
     "text": [
      "[[(0.  , 0.  ) (0.  , 0.25) (0.  , 0.5 ) (0.  , 0.75) (0.  , 1.  )]\n",
      " [(0.25, 0.  ) (0.25, 0.25) (0.25, 0.5 ) (0.25, 0.75) (0.25, 1.  )]\n",
      " [(0.5 , 0.  ) (0.5 , 0.25) (0.5 , 0.5 ) (0.5 , 0.75) (0.5 , 1.  )]\n",
      " [(0.75, 0.  ) (0.75, 0.25) (0.75, 0.5 ) (0.75, 0.75) (0.75, 1.  )]\n",
      " [(1.  , 0.  ) (1.  , 0.25) (1.  , 0.5 ) (1.  , 0.75) (1.  , 1.  )]]\n"
     ]
    }
   ],
   "source": [
    "# Create a structured array with `x` and `y` coordinates covering the [0,1]x[0,1] area\n",
    "\n",
    "# Define the structured data type with fields 'x' and 'y', both of type float\n",
    "dtype = np.dtype([('x', np.float64), ('y', np.float64)])\n",
    "\n",
    "# Generate a grid of coordinates using np.mgrid\n",
    "# np.mgrid[0:1:5j, 0:1:5j] generates a 5x5 grid of coordinates from 0 to 1\n",
    "# The 'j' indicates that the range should be divided into 5 equal intervals\n",
    "x, y = np.mgrid[0:1:5j, 0:1:5j]\n",
    "\n",
    "# Combine the x and y coordinates into a structured array\n",
    "# Use np.zeros to create an empty array with the desired shape and dtype\n",
    "# Assign the x and y coordinates to the respective fields\n",
    "structured_array = np.zeros(x.shape, dtype=dtype)\n",
    "structured_array['x'], structured_array['y'] = x, y\n",
    "\n",
    "print(structured_array)"
   ]
  },
  {
   "cell_type": "markdown",
   "metadata": {},
   "source": [
    "#### 47. Given two arrays, X and Y, construct the Cauchy matrix C (Cij =1/(xi - yj))"
   ]
  },
  {
   "cell_type": "code",
   "execution_count": 61,
   "metadata": {},
   "outputs": [
    {
     "name": "stdout",
     "output_type": "stream",
     "text": [
      "[[-0.33333333 -0.25       -0.2       ]\n",
      " [-0.5        -0.33333333 -0.25      ]\n",
      " [-1.         -0.5        -0.33333333]]\n"
     ]
    }
   ],
   "source": [
    "# Given two arrays X and Y\n",
    "X = np.array([1, 2, 3])\n",
    "Y = np.array([4, 5, 6])\n",
    "\n",
    "# Construct the Cauchy matrix C\n",
    "C = 1.0 / (X[:, np.newaxis] - Y[np.newaxis, :])\n",
    "print(C)"
   ]
  },
  {
   "cell_type": "markdown",
   "metadata": {},
   "source": [
    "#### 48. Print the minimum and maximum representable value for each numpy scalar type (★★☆)"
   ]
  },
  {
   "cell_type": "code",
   "execution_count": 62,
   "metadata": {},
   "outputs": [
    {
     "name": "stdout",
     "output_type": "stream",
     "text": [
      "int8: min=-128, max=127\n",
      "int16: min=-32768, max=32767\n",
      "int32: min=-2147483648, max=2147483647\n",
      "int64: min=-9223372036854775808, max=9223372036854775807\n",
      "uint8: min=0, max=255\n",
      "uint16: min=0, max=65535\n",
      "uint32: min=0, max=4294967295\n",
      "uint64: min=0, max=18446744073709551615\n",
      "float16: min=-65504.0, max=65504.0\n",
      "float32: min=-3.4028234663852886e+38, max=3.4028234663852886e+38\n",
      "float64: min=-1.7976931348623157e+308, max=1.7976931348623157e+308\n"
     ]
    }
   ],
   "source": [
    "# List of numpy scalar types\n",
    "scalar_types = [np.int8, np.int16, np.int32, np.int64, \n",
    "                np.uint8, np.uint16, np.uint32, np.uint64, \n",
    "                np.float16, np.float32, np.float64]\n",
    "\n",
    "# Print the minimum and maximum representable values for each type\n",
    "for dtype in scalar_types:\n",
    "    if np.issubdtype(dtype, np.integer):\n",
    "        info = np.iinfo(dtype)\n",
    "    else:\n",
    "        info = np.finfo(dtype)\n",
    "    print(f\"{dtype.__name__}: min={info.min}, max={info.max}\")"
   ]
  },
  {
   "cell_type": "markdown",
   "metadata": {},
   "source": [
    "#### 49. How to print all the values of an array? (★★☆)"
   ]
  },
  {
   "cell_type": "code",
   "execution_count": 63,
   "metadata": {},
   "outputs": [
    {
     "name": "stdout",
     "output_type": "stream",
     "text": [
      "[[   0    1    2    3    4    5    6    7    8    9   10   11   12   13\n",
      "    14   15   16   17   18   19   20   21   22   23   24   25   26   27\n",
      "    28   29   30   31   32   33   34   35   36   37   38   39   40   41\n",
      "    42   43   44   45   46   47   48   49   50   51   52   53   54   55\n",
      "    56   57   58   59   60   61   62   63   64   65   66   67   68   69\n",
      "    70   71   72   73   74   75   76   77   78   79   80   81   82   83\n",
      "    84   85   86   87   88   89   90   91   92   93   94   95   96   97\n",
      "    98   99]\n",
      " [ 100  101  102  103  104  105  106  107  108  109  110  111  112  113\n",
      "   114  115  116  117  118  119  120  121  122  123  124  125  126  127\n",
      "   128  129  130  131  132  133  134  135  136  137  138  139  140  141\n",
      "   142  143  144  145  146  147  148  149  150  151  152  153  154  155\n",
      "   156  157  158  159  160  161  162  163  164  165  166  167  168  169\n",
      "   170  171  172  173  174  175  176  177  178  179  180  181  182  183\n",
      "   184  185  186  187  188  189  190  191  192  193  194  195  196  197\n",
      "   198  199]\n",
      " [ 200  201  202  203  204  205  206  207  208  209  210  211  212  213\n",
      "   214  215  216  217  218  219  220  221  222  223  224  225  226  227\n",
      "   228  229  230  231  232  233  234  235  236  237  238  239  240  241\n",
      "   242  243  244  245  246  247  248  249  250  251  252  253  254  255\n",
      "   256  257  258  259  260  261  262  263  264  265  266  267  268  269\n",
      "   270  271  272  273  274  275  276  277  278  279  280  281  282  283\n",
      "   284  285  286  287  288  289  290  291  292  293  294  295  296  297\n",
      "   298  299]\n",
      " [ 300  301  302  303  304  305  306  307  308  309  310  311  312  313\n",
      "   314  315  316  317  318  319  320  321  322  323  324  325  326  327\n",
      "   328  329  330  331  332  333  334  335  336  337  338  339  340  341\n",
      "   342  343  344  345  346  347  348  349  350  351  352  353  354  355\n",
      "   356  357  358  359  360  361  362  363  364  365  366  367  368  369\n",
      "   370  371  372  373  374  375  376  377  378  379  380  381  382  383\n",
      "   384  385  386  387  388  389  390  391  392  393  394  395  396  397\n",
      "   398  399]\n",
      " [ 400  401  402  403  404  405  406  407  408  409  410  411  412  413\n",
      "   414  415  416  417  418  419  420  421  422  423  424  425  426  427\n",
      "   428  429  430  431  432  433  434  435  436  437  438  439  440  441\n",
      "   442  443  444  445  446  447  448  449  450  451  452  453  454  455\n",
      "   456  457  458  459  460  461  462  463  464  465  466  467  468  469\n",
      "   470  471  472  473  474  475  476  477  478  479  480  481  482  483\n",
      "   484  485  486  487  488  489  490  491  492  493  494  495  496  497\n",
      "   498  499]\n",
      " [ 500  501  502  503  504  505  506  507  508  509  510  511  512  513\n",
      "   514  515  516  517  518  519  520  521  522  523  524  525  526  527\n",
      "   528  529  530  531  532  533  534  535  536  537  538  539  540  541\n",
      "   542  543  544  545  546  547  548  549  550  551  552  553  554  555\n",
      "   556  557  558  559  560  561  562  563  564  565  566  567  568  569\n",
      "   570  571  572  573  574  575  576  577  578  579  580  581  582  583\n",
      "   584  585  586  587  588  589  590  591  592  593  594  595  596  597\n",
      "   598  599]\n",
      " [ 600  601  602  603  604  605  606  607  608  609  610  611  612  613\n",
      "   614  615  616  617  618  619  620  621  622  623  624  625  626  627\n",
      "   628  629  630  631  632  633  634  635  636  637  638  639  640  641\n",
      "   642  643  644  645  646  647  648  649  650  651  652  653  654  655\n",
      "   656  657  658  659  660  661  662  663  664  665  666  667  668  669\n",
      "   670  671  672  673  674  675  676  677  678  679  680  681  682  683\n",
      "   684  685  686  687  688  689  690  691  692  693  694  695  696  697\n",
      "   698  699]\n",
      " [ 700  701  702  703  704  705  706  707  708  709  710  711  712  713\n",
      "   714  715  716  717  718  719  720  721  722  723  724  725  726  727\n",
      "   728  729  730  731  732  733  734  735  736  737  738  739  740  741\n",
      "   742  743  744  745  746  747  748  749  750  751  752  753  754  755\n",
      "   756  757  758  759  760  761  762  763  764  765  766  767  768  769\n",
      "   770  771  772  773  774  775  776  777  778  779  780  781  782  783\n",
      "   784  785  786  787  788  789  790  791  792  793  794  795  796  797\n",
      "   798  799]\n",
      " [ 800  801  802  803  804  805  806  807  808  809  810  811  812  813\n",
      "   814  815  816  817  818  819  820  821  822  823  824  825  826  827\n",
      "   828  829  830  831  832  833  834  835  836  837  838  839  840  841\n",
      "   842  843  844  845  846  847  848  849  850  851  852  853  854  855\n",
      "   856  857  858  859  860  861  862  863  864  865  866  867  868  869\n",
      "   870  871  872  873  874  875  876  877  878  879  880  881  882  883\n",
      "   884  885  886  887  888  889  890  891  892  893  894  895  896  897\n",
      "   898  899]\n",
      " [ 900  901  902  903  904  905  906  907  908  909  910  911  912  913\n",
      "   914  915  916  917  918  919  920  921  922  923  924  925  926  927\n",
      "   928  929  930  931  932  933  934  935  936  937  938  939  940  941\n",
      "   942  943  944  945  946  947  948  949  950  951  952  953  954  955\n",
      "   956  957  958  959  960  961  962  963  964  965  966  967  968  969\n",
      "   970  971  972  973  974  975  976  977  978  979  980  981  982  983\n",
      "   984  985  986  987  988  989  990  991  992  993  994  995  996  997\n",
      "   998  999]\n",
      " [1000 1001 1002 1003 1004 1005 1006 1007 1008 1009 1010 1011 1012 1013\n",
      "  1014 1015 1016 1017 1018 1019 1020 1021 1022 1023 1024 1025 1026 1027\n",
      "  1028 1029 1030 1031 1032 1033 1034 1035 1036 1037 1038 1039 1040 1041\n",
      "  1042 1043 1044 1045 1046 1047 1048 1049 1050 1051 1052 1053 1054 1055\n",
      "  1056 1057 1058 1059 1060 1061 1062 1063 1064 1065 1066 1067 1068 1069\n",
      "  1070 1071 1072 1073 1074 1075 1076 1077 1078 1079 1080 1081 1082 1083\n",
      "  1084 1085 1086 1087 1088 1089 1090 1091 1092 1093 1094 1095 1096 1097\n",
      "  1098 1099]\n",
      " [1100 1101 1102 1103 1104 1105 1106 1107 1108 1109 1110 1111 1112 1113\n",
      "  1114 1115 1116 1117 1118 1119 1120 1121 1122 1123 1124 1125 1126 1127\n",
      "  1128 1129 1130 1131 1132 1133 1134 1135 1136 1137 1138 1139 1140 1141\n",
      "  1142 1143 1144 1145 1146 1147 1148 1149 1150 1151 1152 1153 1154 1155\n",
      "  1156 1157 1158 1159 1160 1161 1162 1163 1164 1165 1166 1167 1168 1169\n",
      "  1170 1171 1172 1173 1174 1175 1176 1177 1178 1179 1180 1181 1182 1183\n",
      "  1184 1185 1186 1187 1188 1189 1190 1191 1192 1193 1194 1195 1196 1197\n",
      "  1198 1199]\n",
      " [1200 1201 1202 1203 1204 1205 1206 1207 1208 1209 1210 1211 1212 1213\n",
      "  1214 1215 1216 1217 1218 1219 1220 1221 1222 1223 1224 1225 1226 1227\n",
      "  1228 1229 1230 1231 1232 1233 1234 1235 1236 1237 1238 1239 1240 1241\n",
      "  1242 1243 1244 1245 1246 1247 1248 1249 1250 1251 1252 1253 1254 1255\n",
      "  1256 1257 1258 1259 1260 1261 1262 1263 1264 1265 1266 1267 1268 1269\n",
      "  1270 1271 1272 1273 1274 1275 1276 1277 1278 1279 1280 1281 1282 1283\n",
      "  1284 1285 1286 1287 1288 1289 1290 1291 1292 1293 1294 1295 1296 1297\n",
      "  1298 1299]\n",
      " [1300 1301 1302 1303 1304 1305 1306 1307 1308 1309 1310 1311 1312 1313\n",
      "  1314 1315 1316 1317 1318 1319 1320 1321 1322 1323 1324 1325 1326 1327\n",
      "  1328 1329 1330 1331 1332 1333 1334 1335 1336 1337 1338 1339 1340 1341\n",
      "  1342 1343 1344 1345 1346 1347 1348 1349 1350 1351 1352 1353 1354 1355\n",
      "  1356 1357 1358 1359 1360 1361 1362 1363 1364 1365 1366 1367 1368 1369\n",
      "  1370 1371 1372 1373 1374 1375 1376 1377 1378 1379 1380 1381 1382 1383\n",
      "  1384 1385 1386 1387 1388 1389 1390 1391 1392 1393 1394 1395 1396 1397\n",
      "  1398 1399]\n",
      " [1400 1401 1402 1403 1404 1405 1406 1407 1408 1409 1410 1411 1412 1413\n",
      "  1414 1415 1416 1417 1418 1419 1420 1421 1422 1423 1424 1425 1426 1427\n",
      "  1428 1429 1430 1431 1432 1433 1434 1435 1436 1437 1438 1439 1440 1441\n",
      "  1442 1443 1444 1445 1446 1447 1448 1449 1450 1451 1452 1453 1454 1455\n",
      "  1456 1457 1458 1459 1460 1461 1462 1463 1464 1465 1466 1467 1468 1469\n",
      "  1470 1471 1472 1473 1474 1475 1476 1477 1478 1479 1480 1481 1482 1483\n",
      "  1484 1485 1486 1487 1488 1489 1490 1491 1492 1493 1494 1495 1496 1497\n",
      "  1498 1499]\n",
      " [1500 1501 1502 1503 1504 1505 1506 1507 1508 1509 1510 1511 1512 1513\n",
      "  1514 1515 1516 1517 1518 1519 1520 1521 1522 1523 1524 1525 1526 1527\n",
      "  1528 1529 1530 1531 1532 1533 1534 1535 1536 1537 1538 1539 1540 1541\n",
      "  1542 1543 1544 1545 1546 1547 1548 1549 1550 1551 1552 1553 1554 1555\n",
      "  1556 1557 1558 1559 1560 1561 1562 1563 1564 1565 1566 1567 1568 1569\n",
      "  1570 1571 1572 1573 1574 1575 1576 1577 1578 1579 1580 1581 1582 1583\n",
      "  1584 1585 1586 1587 1588 1589 1590 1591 1592 1593 1594 1595 1596 1597\n",
      "  1598 1599]\n",
      " [1600 1601 1602 1603 1604 1605 1606 1607 1608 1609 1610 1611 1612 1613\n",
      "  1614 1615 1616 1617 1618 1619 1620 1621 1622 1623 1624 1625 1626 1627\n",
      "  1628 1629 1630 1631 1632 1633 1634 1635 1636 1637 1638 1639 1640 1641\n",
      "  1642 1643 1644 1645 1646 1647 1648 1649 1650 1651 1652 1653 1654 1655\n",
      "  1656 1657 1658 1659 1660 1661 1662 1663 1664 1665 1666 1667 1668 1669\n",
      "  1670 1671 1672 1673 1674 1675 1676 1677 1678 1679 1680 1681 1682 1683\n",
      "  1684 1685 1686 1687 1688 1689 1690 1691 1692 1693 1694 1695 1696 1697\n",
      "  1698 1699]\n",
      " [1700 1701 1702 1703 1704 1705 1706 1707 1708 1709 1710 1711 1712 1713\n",
      "  1714 1715 1716 1717 1718 1719 1720 1721 1722 1723 1724 1725 1726 1727\n",
      "  1728 1729 1730 1731 1732 1733 1734 1735 1736 1737 1738 1739 1740 1741\n",
      "  1742 1743 1744 1745 1746 1747 1748 1749 1750 1751 1752 1753 1754 1755\n",
      "  1756 1757 1758 1759 1760 1761 1762 1763 1764 1765 1766 1767 1768 1769\n",
      "  1770 1771 1772 1773 1774 1775 1776 1777 1778 1779 1780 1781 1782 1783\n",
      "  1784 1785 1786 1787 1788 1789 1790 1791 1792 1793 1794 1795 1796 1797\n",
      "  1798 1799]\n",
      " [1800 1801 1802 1803 1804 1805 1806 1807 1808 1809 1810 1811 1812 1813\n",
      "  1814 1815 1816 1817 1818 1819 1820 1821 1822 1823 1824 1825 1826 1827\n",
      "  1828 1829 1830 1831 1832 1833 1834 1835 1836 1837 1838 1839 1840 1841\n",
      "  1842 1843 1844 1845 1846 1847 1848 1849 1850 1851 1852 1853 1854 1855\n",
      "  1856 1857 1858 1859 1860 1861 1862 1863 1864 1865 1866 1867 1868 1869\n",
      "  1870 1871 1872 1873 1874 1875 1876 1877 1878 1879 1880 1881 1882 1883\n",
      "  1884 1885 1886 1887 1888 1889 1890 1891 1892 1893 1894 1895 1896 1897\n",
      "  1898 1899]\n",
      " [1900 1901 1902 1903 1904 1905 1906 1907 1908 1909 1910 1911 1912 1913\n",
      "  1914 1915 1916 1917 1918 1919 1920 1921 1922 1923 1924 1925 1926 1927\n",
      "  1928 1929 1930 1931 1932 1933 1934 1935 1936 1937 1938 1939 1940 1941\n",
      "  1942 1943 1944 1945 1946 1947 1948 1949 1950 1951 1952 1953 1954 1955\n",
      "  1956 1957 1958 1959 1960 1961 1962 1963 1964 1965 1966 1967 1968 1969\n",
      "  1970 1971 1972 1973 1974 1975 1976 1977 1978 1979 1980 1981 1982 1983\n",
      "  1984 1985 1986 1987 1988 1989 1990 1991 1992 1993 1994 1995 1996 1997\n",
      "  1998 1999]\n",
      " [2000 2001 2002 2003 2004 2005 2006 2007 2008 2009 2010 2011 2012 2013\n",
      "  2014 2015 2016 2017 2018 2019 2020 2021 2022 2023 2024 2025 2026 2027\n",
      "  2028 2029 2030 2031 2032 2033 2034 2035 2036 2037 2038 2039 2040 2041\n",
      "  2042 2043 2044 2045 2046 2047 2048 2049 2050 2051 2052 2053 2054 2055\n",
      "  2056 2057 2058 2059 2060 2061 2062 2063 2064 2065 2066 2067 2068 2069\n",
      "  2070 2071 2072 2073 2074 2075 2076 2077 2078 2079 2080 2081 2082 2083\n",
      "  2084 2085 2086 2087 2088 2089 2090 2091 2092 2093 2094 2095 2096 2097\n",
      "  2098 2099]\n",
      " [2100 2101 2102 2103 2104 2105 2106 2107 2108 2109 2110 2111 2112 2113\n",
      "  2114 2115 2116 2117 2118 2119 2120 2121 2122 2123 2124 2125 2126 2127\n",
      "  2128 2129 2130 2131 2132 2133 2134 2135 2136 2137 2138 2139 2140 2141\n",
      "  2142 2143 2144 2145 2146 2147 2148 2149 2150 2151 2152 2153 2154 2155\n",
      "  2156 2157 2158 2159 2160 2161 2162 2163 2164 2165 2166 2167 2168 2169\n",
      "  2170 2171 2172 2173 2174 2175 2176 2177 2178 2179 2180 2181 2182 2183\n",
      "  2184 2185 2186 2187 2188 2189 2190 2191 2192 2193 2194 2195 2196 2197\n",
      "  2198 2199]\n",
      " [2200 2201 2202 2203 2204 2205 2206 2207 2208 2209 2210 2211 2212 2213\n",
      "  2214 2215 2216 2217 2218 2219 2220 2221 2222 2223 2224 2225 2226 2227\n",
      "  2228 2229 2230 2231 2232 2233 2234 2235 2236 2237 2238 2239 2240 2241\n",
      "  2242 2243 2244 2245 2246 2247 2248 2249 2250 2251 2252 2253 2254 2255\n",
      "  2256 2257 2258 2259 2260 2261 2262 2263 2264 2265 2266 2267 2268 2269\n",
      "  2270 2271 2272 2273 2274 2275 2276 2277 2278 2279 2280 2281 2282 2283\n",
      "  2284 2285 2286 2287 2288 2289 2290 2291 2292 2293 2294 2295 2296 2297\n",
      "  2298 2299]\n",
      " [2300 2301 2302 2303 2304 2305 2306 2307 2308 2309 2310 2311 2312 2313\n",
      "  2314 2315 2316 2317 2318 2319 2320 2321 2322 2323 2324 2325 2326 2327\n",
      "  2328 2329 2330 2331 2332 2333 2334 2335 2336 2337 2338 2339 2340 2341\n",
      "  2342 2343 2344 2345 2346 2347 2348 2349 2350 2351 2352 2353 2354 2355\n",
      "  2356 2357 2358 2359 2360 2361 2362 2363 2364 2365 2366 2367 2368 2369\n",
      "  2370 2371 2372 2373 2374 2375 2376 2377 2378 2379 2380 2381 2382 2383\n",
      "  2384 2385 2386 2387 2388 2389 2390 2391 2392 2393 2394 2395 2396 2397\n",
      "  2398 2399]\n",
      " [2400 2401 2402 2403 2404 2405 2406 2407 2408 2409 2410 2411 2412 2413\n",
      "  2414 2415 2416 2417 2418 2419 2420 2421 2422 2423 2424 2425 2426 2427\n",
      "  2428 2429 2430 2431 2432 2433 2434 2435 2436 2437 2438 2439 2440 2441\n",
      "  2442 2443 2444 2445 2446 2447 2448 2449 2450 2451 2452 2453 2454 2455\n",
      "  2456 2457 2458 2459 2460 2461 2462 2463 2464 2465 2466 2467 2468 2469\n",
      "  2470 2471 2472 2473 2474 2475 2476 2477 2478 2479 2480 2481 2482 2483\n",
      "  2484 2485 2486 2487 2488 2489 2490 2491 2492 2493 2494 2495 2496 2497\n",
      "  2498 2499]\n",
      " [2500 2501 2502 2503 2504 2505 2506 2507 2508 2509 2510 2511 2512 2513\n",
      "  2514 2515 2516 2517 2518 2519 2520 2521 2522 2523 2524 2525 2526 2527\n",
      "  2528 2529 2530 2531 2532 2533 2534 2535 2536 2537 2538 2539 2540 2541\n",
      "  2542 2543 2544 2545 2546 2547 2548 2549 2550 2551 2552 2553 2554 2555\n",
      "  2556 2557 2558 2559 2560 2561 2562 2563 2564 2565 2566 2567 2568 2569\n",
      "  2570 2571 2572 2573 2574 2575 2576 2577 2578 2579 2580 2581 2582 2583\n",
      "  2584 2585 2586 2587 2588 2589 2590 2591 2592 2593 2594 2595 2596 2597\n",
      "  2598 2599]\n",
      " [2600 2601 2602 2603 2604 2605 2606 2607 2608 2609 2610 2611 2612 2613\n",
      "  2614 2615 2616 2617 2618 2619 2620 2621 2622 2623 2624 2625 2626 2627\n",
      "  2628 2629 2630 2631 2632 2633 2634 2635 2636 2637 2638 2639 2640 2641\n",
      "  2642 2643 2644 2645 2646 2647 2648 2649 2650 2651 2652 2653 2654 2655\n",
      "  2656 2657 2658 2659 2660 2661 2662 2663 2664 2665 2666 2667 2668 2669\n",
      "  2670 2671 2672 2673 2674 2675 2676 2677 2678 2679 2680 2681 2682 2683\n",
      "  2684 2685 2686 2687 2688 2689 2690 2691 2692 2693 2694 2695 2696 2697\n",
      "  2698 2699]\n",
      " [2700 2701 2702 2703 2704 2705 2706 2707 2708 2709 2710 2711 2712 2713\n",
      "  2714 2715 2716 2717 2718 2719 2720 2721 2722 2723 2724 2725 2726 2727\n",
      "  2728 2729 2730 2731 2732 2733 2734 2735 2736 2737 2738 2739 2740 2741\n",
      "  2742 2743 2744 2745 2746 2747 2748 2749 2750 2751 2752 2753 2754 2755\n",
      "  2756 2757 2758 2759 2760 2761 2762 2763 2764 2765 2766 2767 2768 2769\n",
      "  2770 2771 2772 2773 2774 2775 2776 2777 2778 2779 2780 2781 2782 2783\n",
      "  2784 2785 2786 2787 2788 2789 2790 2791 2792 2793 2794 2795 2796 2797\n",
      "  2798 2799]\n",
      " [2800 2801 2802 2803 2804 2805 2806 2807 2808 2809 2810 2811 2812 2813\n",
      "  2814 2815 2816 2817 2818 2819 2820 2821 2822 2823 2824 2825 2826 2827\n",
      "  2828 2829 2830 2831 2832 2833 2834 2835 2836 2837 2838 2839 2840 2841\n",
      "  2842 2843 2844 2845 2846 2847 2848 2849 2850 2851 2852 2853 2854 2855\n",
      "  2856 2857 2858 2859 2860 2861 2862 2863 2864 2865 2866 2867 2868 2869\n",
      "  2870 2871 2872 2873 2874 2875 2876 2877 2878 2879 2880 2881 2882 2883\n",
      "  2884 2885 2886 2887 2888 2889 2890 2891 2892 2893 2894 2895 2896 2897\n",
      "  2898 2899]\n",
      " [2900 2901 2902 2903 2904 2905 2906 2907 2908 2909 2910 2911 2912 2913\n",
      "  2914 2915 2916 2917 2918 2919 2920 2921 2922 2923 2924 2925 2926 2927\n",
      "  2928 2929 2930 2931 2932 2933 2934 2935 2936 2937 2938 2939 2940 2941\n",
      "  2942 2943 2944 2945 2946 2947 2948 2949 2950 2951 2952 2953 2954 2955\n",
      "  2956 2957 2958 2959 2960 2961 2962 2963 2964 2965 2966 2967 2968 2969\n",
      "  2970 2971 2972 2973 2974 2975 2976 2977 2978 2979 2980 2981 2982 2983\n",
      "  2984 2985 2986 2987 2988 2989 2990 2991 2992 2993 2994 2995 2996 2997\n",
      "  2998 2999]\n",
      " [3000 3001 3002 3003 3004 3005 3006 3007 3008 3009 3010 3011 3012 3013\n",
      "  3014 3015 3016 3017 3018 3019 3020 3021 3022 3023 3024 3025 3026 3027\n",
      "  3028 3029 3030 3031 3032 3033 3034 3035 3036 3037 3038 3039 3040 3041\n",
      "  3042 3043 3044 3045 3046 3047 3048 3049 3050 3051 3052 3053 3054 3055\n",
      "  3056 3057 3058 3059 3060 3061 3062 3063 3064 3065 3066 3067 3068 3069\n",
      "  3070 3071 3072 3073 3074 3075 3076 3077 3078 3079 3080 3081 3082 3083\n",
      "  3084 3085 3086 3087 3088 3089 3090 3091 3092 3093 3094 3095 3096 3097\n",
      "  3098 3099]\n",
      " [3100 3101 3102 3103 3104 3105 3106 3107 3108 3109 3110 3111 3112 3113\n",
      "  3114 3115 3116 3117 3118 3119 3120 3121 3122 3123 3124 3125 3126 3127\n",
      "  3128 3129 3130 3131 3132 3133 3134 3135 3136 3137 3138 3139 3140 3141\n",
      "  3142 3143 3144 3145 3146 3147 3148 3149 3150 3151 3152 3153 3154 3155\n",
      "  3156 3157 3158 3159 3160 3161 3162 3163 3164 3165 3166 3167 3168 3169\n",
      "  3170 3171 3172 3173 3174 3175 3176 3177 3178 3179 3180 3181 3182 3183\n",
      "  3184 3185 3186 3187 3188 3189 3190 3191 3192 3193 3194 3195 3196 3197\n",
      "  3198 3199]\n",
      " [3200 3201 3202 3203 3204 3205 3206 3207 3208 3209 3210 3211 3212 3213\n",
      "  3214 3215 3216 3217 3218 3219 3220 3221 3222 3223 3224 3225 3226 3227\n",
      "  3228 3229 3230 3231 3232 3233 3234 3235 3236 3237 3238 3239 3240 3241\n",
      "  3242 3243 3244 3245 3246 3247 3248 3249 3250 3251 3252 3253 3254 3255\n",
      "  3256 3257 3258 3259 3260 3261 3262 3263 3264 3265 3266 3267 3268 3269\n",
      "  3270 3271 3272 3273 3274 3275 3276 3277 3278 3279 3280 3281 3282 3283\n",
      "  3284 3285 3286 3287 3288 3289 3290 3291 3292 3293 3294 3295 3296 3297\n",
      "  3298 3299]\n",
      " [3300 3301 3302 3303 3304 3305 3306 3307 3308 3309 3310 3311 3312 3313\n",
      "  3314 3315 3316 3317 3318 3319 3320 3321 3322 3323 3324 3325 3326 3327\n",
      "  3328 3329 3330 3331 3332 3333 3334 3335 3336 3337 3338 3339 3340 3341\n",
      "  3342 3343 3344 3345 3346 3347 3348 3349 3350 3351 3352 3353 3354 3355\n",
      "  3356 3357 3358 3359 3360 3361 3362 3363 3364 3365 3366 3367 3368 3369\n",
      "  3370 3371 3372 3373 3374 3375 3376 3377 3378 3379 3380 3381 3382 3383\n",
      "  3384 3385 3386 3387 3388 3389 3390 3391 3392 3393 3394 3395 3396 3397\n",
      "  3398 3399]\n",
      " [3400 3401 3402 3403 3404 3405 3406 3407 3408 3409 3410 3411 3412 3413\n",
      "  3414 3415 3416 3417 3418 3419 3420 3421 3422 3423 3424 3425 3426 3427\n",
      "  3428 3429 3430 3431 3432 3433 3434 3435 3436 3437 3438 3439 3440 3441\n",
      "  3442 3443 3444 3445 3446 3447 3448 3449 3450 3451 3452 3453 3454 3455\n",
      "  3456 3457 3458 3459 3460 3461 3462 3463 3464 3465 3466 3467 3468 3469\n",
      "  3470 3471 3472 3473 3474 3475 3476 3477 3478 3479 3480 3481 3482 3483\n",
      "  3484 3485 3486 3487 3488 3489 3490 3491 3492 3493 3494 3495 3496 3497\n",
      "  3498 3499]\n",
      " [3500 3501 3502 3503 3504 3505 3506 3507 3508 3509 3510 3511 3512 3513\n",
      "  3514 3515 3516 3517 3518 3519 3520 3521 3522 3523 3524 3525 3526 3527\n",
      "  3528 3529 3530 3531 3532 3533 3534 3535 3536 3537 3538 3539 3540 3541\n",
      "  3542 3543 3544 3545 3546 3547 3548 3549 3550 3551 3552 3553 3554 3555\n",
      "  3556 3557 3558 3559 3560 3561 3562 3563 3564 3565 3566 3567 3568 3569\n",
      "  3570 3571 3572 3573 3574 3575 3576 3577 3578 3579 3580 3581 3582 3583\n",
      "  3584 3585 3586 3587 3588 3589 3590 3591 3592 3593 3594 3595 3596 3597\n",
      "  3598 3599]\n",
      " [3600 3601 3602 3603 3604 3605 3606 3607 3608 3609 3610 3611 3612 3613\n",
      "  3614 3615 3616 3617 3618 3619 3620 3621 3622 3623 3624 3625 3626 3627\n",
      "  3628 3629 3630 3631 3632 3633 3634 3635 3636 3637 3638 3639 3640 3641\n",
      "  3642 3643 3644 3645 3646 3647 3648 3649 3650 3651 3652 3653 3654 3655\n",
      "  3656 3657 3658 3659 3660 3661 3662 3663 3664 3665 3666 3667 3668 3669\n",
      "  3670 3671 3672 3673 3674 3675 3676 3677 3678 3679 3680 3681 3682 3683\n",
      "  3684 3685 3686 3687 3688 3689 3690 3691 3692 3693 3694 3695 3696 3697\n",
      "  3698 3699]\n",
      " [3700 3701 3702 3703 3704 3705 3706 3707 3708 3709 3710 3711 3712 3713\n",
      "  3714 3715 3716 3717 3718 3719 3720 3721 3722 3723 3724 3725 3726 3727\n",
      "  3728 3729 3730 3731 3732 3733 3734 3735 3736 3737 3738 3739 3740 3741\n",
      "  3742 3743 3744 3745 3746 3747 3748 3749 3750 3751 3752 3753 3754 3755\n",
      "  3756 3757 3758 3759 3760 3761 3762 3763 3764 3765 3766 3767 3768 3769\n",
      "  3770 3771 3772 3773 3774 3775 3776 3777 3778 3779 3780 3781 3782 3783\n",
      "  3784 3785 3786 3787 3788 3789 3790 3791 3792 3793 3794 3795 3796 3797\n",
      "  3798 3799]\n",
      " [3800 3801 3802 3803 3804 3805 3806 3807 3808 3809 3810 3811 3812 3813\n",
      "  3814 3815 3816 3817 3818 3819 3820 3821 3822 3823 3824 3825 3826 3827\n",
      "  3828 3829 3830 3831 3832 3833 3834 3835 3836 3837 3838 3839 3840 3841\n",
      "  3842 3843 3844 3845 3846 3847 3848 3849 3850 3851 3852 3853 3854 3855\n",
      "  3856 3857 3858 3859 3860 3861 3862 3863 3864 3865 3866 3867 3868 3869\n",
      "  3870 3871 3872 3873 3874 3875 3876 3877 3878 3879 3880 3881 3882 3883\n",
      "  3884 3885 3886 3887 3888 3889 3890 3891 3892 3893 3894 3895 3896 3897\n",
      "  3898 3899]\n",
      " [3900 3901 3902 3903 3904 3905 3906 3907 3908 3909 3910 3911 3912 3913\n",
      "  3914 3915 3916 3917 3918 3919 3920 3921 3922 3923 3924 3925 3926 3927\n",
      "  3928 3929 3930 3931 3932 3933 3934 3935 3936 3937 3938 3939 3940 3941\n",
      "  3942 3943 3944 3945 3946 3947 3948 3949 3950 3951 3952 3953 3954 3955\n",
      "  3956 3957 3958 3959 3960 3961 3962 3963 3964 3965 3966 3967 3968 3969\n",
      "  3970 3971 3972 3973 3974 3975 3976 3977 3978 3979 3980 3981 3982 3983\n",
      "  3984 3985 3986 3987 3988 3989 3990 3991 3992 3993 3994 3995 3996 3997\n",
      "  3998 3999]\n",
      " [4000 4001 4002 4003 4004 4005 4006 4007 4008 4009 4010 4011 4012 4013\n",
      "  4014 4015 4016 4017 4018 4019 4020 4021 4022 4023 4024 4025 4026 4027\n",
      "  4028 4029 4030 4031 4032 4033 4034 4035 4036 4037 4038 4039 4040 4041\n",
      "  4042 4043 4044 4045 4046 4047 4048 4049 4050 4051 4052 4053 4054 4055\n",
      "  4056 4057 4058 4059 4060 4061 4062 4063 4064 4065 4066 4067 4068 4069\n",
      "  4070 4071 4072 4073 4074 4075 4076 4077 4078 4079 4080 4081 4082 4083\n",
      "  4084 4085 4086 4087 4088 4089 4090 4091 4092 4093 4094 4095 4096 4097\n",
      "  4098 4099]\n",
      " [4100 4101 4102 4103 4104 4105 4106 4107 4108 4109 4110 4111 4112 4113\n",
      "  4114 4115 4116 4117 4118 4119 4120 4121 4122 4123 4124 4125 4126 4127\n",
      "  4128 4129 4130 4131 4132 4133 4134 4135 4136 4137 4138 4139 4140 4141\n",
      "  4142 4143 4144 4145 4146 4147 4148 4149 4150 4151 4152 4153 4154 4155\n",
      "  4156 4157 4158 4159 4160 4161 4162 4163 4164 4165 4166 4167 4168 4169\n",
      "  4170 4171 4172 4173 4174 4175 4176 4177 4178 4179 4180 4181 4182 4183\n",
      "  4184 4185 4186 4187 4188 4189 4190 4191 4192 4193 4194 4195 4196 4197\n",
      "  4198 4199]\n",
      " [4200 4201 4202 4203 4204 4205 4206 4207 4208 4209 4210 4211 4212 4213\n",
      "  4214 4215 4216 4217 4218 4219 4220 4221 4222 4223 4224 4225 4226 4227\n",
      "  4228 4229 4230 4231 4232 4233 4234 4235 4236 4237 4238 4239 4240 4241\n",
      "  4242 4243 4244 4245 4246 4247 4248 4249 4250 4251 4252 4253 4254 4255\n",
      "  4256 4257 4258 4259 4260 4261 4262 4263 4264 4265 4266 4267 4268 4269\n",
      "  4270 4271 4272 4273 4274 4275 4276 4277 4278 4279 4280 4281 4282 4283\n",
      "  4284 4285 4286 4287 4288 4289 4290 4291 4292 4293 4294 4295 4296 4297\n",
      "  4298 4299]\n",
      " [4300 4301 4302 4303 4304 4305 4306 4307 4308 4309 4310 4311 4312 4313\n",
      "  4314 4315 4316 4317 4318 4319 4320 4321 4322 4323 4324 4325 4326 4327\n",
      "  4328 4329 4330 4331 4332 4333 4334 4335 4336 4337 4338 4339 4340 4341\n",
      "  4342 4343 4344 4345 4346 4347 4348 4349 4350 4351 4352 4353 4354 4355\n",
      "  4356 4357 4358 4359 4360 4361 4362 4363 4364 4365 4366 4367 4368 4369\n",
      "  4370 4371 4372 4373 4374 4375 4376 4377 4378 4379 4380 4381 4382 4383\n",
      "  4384 4385 4386 4387 4388 4389 4390 4391 4392 4393 4394 4395 4396 4397\n",
      "  4398 4399]\n",
      " [4400 4401 4402 4403 4404 4405 4406 4407 4408 4409 4410 4411 4412 4413\n",
      "  4414 4415 4416 4417 4418 4419 4420 4421 4422 4423 4424 4425 4426 4427\n",
      "  4428 4429 4430 4431 4432 4433 4434 4435 4436 4437 4438 4439 4440 4441\n",
      "  4442 4443 4444 4445 4446 4447 4448 4449 4450 4451 4452 4453 4454 4455\n",
      "  4456 4457 4458 4459 4460 4461 4462 4463 4464 4465 4466 4467 4468 4469\n",
      "  4470 4471 4472 4473 4474 4475 4476 4477 4478 4479 4480 4481 4482 4483\n",
      "  4484 4485 4486 4487 4488 4489 4490 4491 4492 4493 4494 4495 4496 4497\n",
      "  4498 4499]\n",
      " [4500 4501 4502 4503 4504 4505 4506 4507 4508 4509 4510 4511 4512 4513\n",
      "  4514 4515 4516 4517 4518 4519 4520 4521 4522 4523 4524 4525 4526 4527\n",
      "  4528 4529 4530 4531 4532 4533 4534 4535 4536 4537 4538 4539 4540 4541\n",
      "  4542 4543 4544 4545 4546 4547 4548 4549 4550 4551 4552 4553 4554 4555\n",
      "  4556 4557 4558 4559 4560 4561 4562 4563 4564 4565 4566 4567 4568 4569\n",
      "  4570 4571 4572 4573 4574 4575 4576 4577 4578 4579 4580 4581 4582 4583\n",
      "  4584 4585 4586 4587 4588 4589 4590 4591 4592 4593 4594 4595 4596 4597\n",
      "  4598 4599]\n",
      " [4600 4601 4602 4603 4604 4605 4606 4607 4608 4609 4610 4611 4612 4613\n",
      "  4614 4615 4616 4617 4618 4619 4620 4621 4622 4623 4624 4625 4626 4627\n",
      "  4628 4629 4630 4631 4632 4633 4634 4635 4636 4637 4638 4639 4640 4641\n",
      "  4642 4643 4644 4645 4646 4647 4648 4649 4650 4651 4652 4653 4654 4655\n",
      "  4656 4657 4658 4659 4660 4661 4662 4663 4664 4665 4666 4667 4668 4669\n",
      "  4670 4671 4672 4673 4674 4675 4676 4677 4678 4679 4680 4681 4682 4683\n",
      "  4684 4685 4686 4687 4688 4689 4690 4691 4692 4693 4694 4695 4696 4697\n",
      "  4698 4699]\n",
      " [4700 4701 4702 4703 4704 4705 4706 4707 4708 4709 4710 4711 4712 4713\n",
      "  4714 4715 4716 4717 4718 4719 4720 4721 4722 4723 4724 4725 4726 4727\n",
      "  4728 4729 4730 4731 4732 4733 4734 4735 4736 4737 4738 4739 4740 4741\n",
      "  4742 4743 4744 4745 4746 4747 4748 4749 4750 4751 4752 4753 4754 4755\n",
      "  4756 4757 4758 4759 4760 4761 4762 4763 4764 4765 4766 4767 4768 4769\n",
      "  4770 4771 4772 4773 4774 4775 4776 4777 4778 4779 4780 4781 4782 4783\n",
      "  4784 4785 4786 4787 4788 4789 4790 4791 4792 4793 4794 4795 4796 4797\n",
      "  4798 4799]\n",
      " [4800 4801 4802 4803 4804 4805 4806 4807 4808 4809 4810 4811 4812 4813\n",
      "  4814 4815 4816 4817 4818 4819 4820 4821 4822 4823 4824 4825 4826 4827\n",
      "  4828 4829 4830 4831 4832 4833 4834 4835 4836 4837 4838 4839 4840 4841\n",
      "  4842 4843 4844 4845 4846 4847 4848 4849 4850 4851 4852 4853 4854 4855\n",
      "  4856 4857 4858 4859 4860 4861 4862 4863 4864 4865 4866 4867 4868 4869\n",
      "  4870 4871 4872 4873 4874 4875 4876 4877 4878 4879 4880 4881 4882 4883\n",
      "  4884 4885 4886 4887 4888 4889 4890 4891 4892 4893 4894 4895 4896 4897\n",
      "  4898 4899]\n",
      " [4900 4901 4902 4903 4904 4905 4906 4907 4908 4909 4910 4911 4912 4913\n",
      "  4914 4915 4916 4917 4918 4919 4920 4921 4922 4923 4924 4925 4926 4927\n",
      "  4928 4929 4930 4931 4932 4933 4934 4935 4936 4937 4938 4939 4940 4941\n",
      "  4942 4943 4944 4945 4946 4947 4948 4949 4950 4951 4952 4953 4954 4955\n",
      "  4956 4957 4958 4959 4960 4961 4962 4963 4964 4965 4966 4967 4968 4969\n",
      "  4970 4971 4972 4973 4974 4975 4976 4977 4978 4979 4980 4981 4982 4983\n",
      "  4984 4985 4986 4987 4988 4989 4990 4991 4992 4993 4994 4995 4996 4997\n",
      "  4998 4999]\n",
      " [5000 5001 5002 5003 5004 5005 5006 5007 5008 5009 5010 5011 5012 5013\n",
      "  5014 5015 5016 5017 5018 5019 5020 5021 5022 5023 5024 5025 5026 5027\n",
      "  5028 5029 5030 5031 5032 5033 5034 5035 5036 5037 5038 5039 5040 5041\n",
      "  5042 5043 5044 5045 5046 5047 5048 5049 5050 5051 5052 5053 5054 5055\n",
      "  5056 5057 5058 5059 5060 5061 5062 5063 5064 5065 5066 5067 5068 5069\n",
      "  5070 5071 5072 5073 5074 5075 5076 5077 5078 5079 5080 5081 5082 5083\n",
      "  5084 5085 5086 5087 5088 5089 5090 5091 5092 5093 5094 5095 5096 5097\n",
      "  5098 5099]\n",
      " [5100 5101 5102 5103 5104 5105 5106 5107 5108 5109 5110 5111 5112 5113\n",
      "  5114 5115 5116 5117 5118 5119 5120 5121 5122 5123 5124 5125 5126 5127\n",
      "  5128 5129 5130 5131 5132 5133 5134 5135 5136 5137 5138 5139 5140 5141\n",
      "  5142 5143 5144 5145 5146 5147 5148 5149 5150 5151 5152 5153 5154 5155\n",
      "  5156 5157 5158 5159 5160 5161 5162 5163 5164 5165 5166 5167 5168 5169\n",
      "  5170 5171 5172 5173 5174 5175 5176 5177 5178 5179 5180 5181 5182 5183\n",
      "  5184 5185 5186 5187 5188 5189 5190 5191 5192 5193 5194 5195 5196 5197\n",
      "  5198 5199]\n",
      " [5200 5201 5202 5203 5204 5205 5206 5207 5208 5209 5210 5211 5212 5213\n",
      "  5214 5215 5216 5217 5218 5219 5220 5221 5222 5223 5224 5225 5226 5227\n",
      "  5228 5229 5230 5231 5232 5233 5234 5235 5236 5237 5238 5239 5240 5241\n",
      "  5242 5243 5244 5245 5246 5247 5248 5249 5250 5251 5252 5253 5254 5255\n",
      "  5256 5257 5258 5259 5260 5261 5262 5263 5264 5265 5266 5267 5268 5269\n",
      "  5270 5271 5272 5273 5274 5275 5276 5277 5278 5279 5280 5281 5282 5283\n",
      "  5284 5285 5286 5287 5288 5289 5290 5291 5292 5293 5294 5295 5296 5297\n",
      "  5298 5299]\n",
      " [5300 5301 5302 5303 5304 5305 5306 5307 5308 5309 5310 5311 5312 5313\n",
      "  5314 5315 5316 5317 5318 5319 5320 5321 5322 5323 5324 5325 5326 5327\n",
      "  5328 5329 5330 5331 5332 5333 5334 5335 5336 5337 5338 5339 5340 5341\n",
      "  5342 5343 5344 5345 5346 5347 5348 5349 5350 5351 5352 5353 5354 5355\n",
      "  5356 5357 5358 5359 5360 5361 5362 5363 5364 5365 5366 5367 5368 5369\n",
      "  5370 5371 5372 5373 5374 5375 5376 5377 5378 5379 5380 5381 5382 5383\n",
      "  5384 5385 5386 5387 5388 5389 5390 5391 5392 5393 5394 5395 5396 5397\n",
      "  5398 5399]\n",
      " [5400 5401 5402 5403 5404 5405 5406 5407 5408 5409 5410 5411 5412 5413\n",
      "  5414 5415 5416 5417 5418 5419 5420 5421 5422 5423 5424 5425 5426 5427\n",
      "  5428 5429 5430 5431 5432 5433 5434 5435 5436 5437 5438 5439 5440 5441\n",
      "  5442 5443 5444 5445 5446 5447 5448 5449 5450 5451 5452 5453 5454 5455\n",
      "  5456 5457 5458 5459 5460 5461 5462 5463 5464 5465 5466 5467 5468 5469\n",
      "  5470 5471 5472 5473 5474 5475 5476 5477 5478 5479 5480 5481 5482 5483\n",
      "  5484 5485 5486 5487 5488 5489 5490 5491 5492 5493 5494 5495 5496 5497\n",
      "  5498 5499]\n",
      " [5500 5501 5502 5503 5504 5505 5506 5507 5508 5509 5510 5511 5512 5513\n",
      "  5514 5515 5516 5517 5518 5519 5520 5521 5522 5523 5524 5525 5526 5527\n",
      "  5528 5529 5530 5531 5532 5533 5534 5535 5536 5537 5538 5539 5540 5541\n",
      "  5542 5543 5544 5545 5546 5547 5548 5549 5550 5551 5552 5553 5554 5555\n",
      "  5556 5557 5558 5559 5560 5561 5562 5563 5564 5565 5566 5567 5568 5569\n",
      "  5570 5571 5572 5573 5574 5575 5576 5577 5578 5579 5580 5581 5582 5583\n",
      "  5584 5585 5586 5587 5588 5589 5590 5591 5592 5593 5594 5595 5596 5597\n",
      "  5598 5599]\n",
      " [5600 5601 5602 5603 5604 5605 5606 5607 5608 5609 5610 5611 5612 5613\n",
      "  5614 5615 5616 5617 5618 5619 5620 5621 5622 5623 5624 5625 5626 5627\n",
      "  5628 5629 5630 5631 5632 5633 5634 5635 5636 5637 5638 5639 5640 5641\n",
      "  5642 5643 5644 5645 5646 5647 5648 5649 5650 5651 5652 5653 5654 5655\n",
      "  5656 5657 5658 5659 5660 5661 5662 5663 5664 5665 5666 5667 5668 5669\n",
      "  5670 5671 5672 5673 5674 5675 5676 5677 5678 5679 5680 5681 5682 5683\n",
      "  5684 5685 5686 5687 5688 5689 5690 5691 5692 5693 5694 5695 5696 5697\n",
      "  5698 5699]\n",
      " [5700 5701 5702 5703 5704 5705 5706 5707 5708 5709 5710 5711 5712 5713\n",
      "  5714 5715 5716 5717 5718 5719 5720 5721 5722 5723 5724 5725 5726 5727\n",
      "  5728 5729 5730 5731 5732 5733 5734 5735 5736 5737 5738 5739 5740 5741\n",
      "  5742 5743 5744 5745 5746 5747 5748 5749 5750 5751 5752 5753 5754 5755\n",
      "  5756 5757 5758 5759 5760 5761 5762 5763 5764 5765 5766 5767 5768 5769\n",
      "  5770 5771 5772 5773 5774 5775 5776 5777 5778 5779 5780 5781 5782 5783\n",
      "  5784 5785 5786 5787 5788 5789 5790 5791 5792 5793 5794 5795 5796 5797\n",
      "  5798 5799]\n",
      " [5800 5801 5802 5803 5804 5805 5806 5807 5808 5809 5810 5811 5812 5813\n",
      "  5814 5815 5816 5817 5818 5819 5820 5821 5822 5823 5824 5825 5826 5827\n",
      "  5828 5829 5830 5831 5832 5833 5834 5835 5836 5837 5838 5839 5840 5841\n",
      "  5842 5843 5844 5845 5846 5847 5848 5849 5850 5851 5852 5853 5854 5855\n",
      "  5856 5857 5858 5859 5860 5861 5862 5863 5864 5865 5866 5867 5868 5869\n",
      "  5870 5871 5872 5873 5874 5875 5876 5877 5878 5879 5880 5881 5882 5883\n",
      "  5884 5885 5886 5887 5888 5889 5890 5891 5892 5893 5894 5895 5896 5897\n",
      "  5898 5899]\n",
      " [5900 5901 5902 5903 5904 5905 5906 5907 5908 5909 5910 5911 5912 5913\n",
      "  5914 5915 5916 5917 5918 5919 5920 5921 5922 5923 5924 5925 5926 5927\n",
      "  5928 5929 5930 5931 5932 5933 5934 5935 5936 5937 5938 5939 5940 5941\n",
      "  5942 5943 5944 5945 5946 5947 5948 5949 5950 5951 5952 5953 5954 5955\n",
      "  5956 5957 5958 5959 5960 5961 5962 5963 5964 5965 5966 5967 5968 5969\n",
      "  5970 5971 5972 5973 5974 5975 5976 5977 5978 5979 5980 5981 5982 5983\n",
      "  5984 5985 5986 5987 5988 5989 5990 5991 5992 5993 5994 5995 5996 5997\n",
      "  5998 5999]\n",
      " [6000 6001 6002 6003 6004 6005 6006 6007 6008 6009 6010 6011 6012 6013\n",
      "  6014 6015 6016 6017 6018 6019 6020 6021 6022 6023 6024 6025 6026 6027\n",
      "  6028 6029 6030 6031 6032 6033 6034 6035 6036 6037 6038 6039 6040 6041\n",
      "  6042 6043 6044 6045 6046 6047 6048 6049 6050 6051 6052 6053 6054 6055\n",
      "  6056 6057 6058 6059 6060 6061 6062 6063 6064 6065 6066 6067 6068 6069\n",
      "  6070 6071 6072 6073 6074 6075 6076 6077 6078 6079 6080 6081 6082 6083\n",
      "  6084 6085 6086 6087 6088 6089 6090 6091 6092 6093 6094 6095 6096 6097\n",
      "  6098 6099]\n",
      " [6100 6101 6102 6103 6104 6105 6106 6107 6108 6109 6110 6111 6112 6113\n",
      "  6114 6115 6116 6117 6118 6119 6120 6121 6122 6123 6124 6125 6126 6127\n",
      "  6128 6129 6130 6131 6132 6133 6134 6135 6136 6137 6138 6139 6140 6141\n",
      "  6142 6143 6144 6145 6146 6147 6148 6149 6150 6151 6152 6153 6154 6155\n",
      "  6156 6157 6158 6159 6160 6161 6162 6163 6164 6165 6166 6167 6168 6169\n",
      "  6170 6171 6172 6173 6174 6175 6176 6177 6178 6179 6180 6181 6182 6183\n",
      "  6184 6185 6186 6187 6188 6189 6190 6191 6192 6193 6194 6195 6196 6197\n",
      "  6198 6199]\n",
      " [6200 6201 6202 6203 6204 6205 6206 6207 6208 6209 6210 6211 6212 6213\n",
      "  6214 6215 6216 6217 6218 6219 6220 6221 6222 6223 6224 6225 6226 6227\n",
      "  6228 6229 6230 6231 6232 6233 6234 6235 6236 6237 6238 6239 6240 6241\n",
      "  6242 6243 6244 6245 6246 6247 6248 6249 6250 6251 6252 6253 6254 6255\n",
      "  6256 6257 6258 6259 6260 6261 6262 6263 6264 6265 6266 6267 6268 6269\n",
      "  6270 6271 6272 6273 6274 6275 6276 6277 6278 6279 6280 6281 6282 6283\n",
      "  6284 6285 6286 6287 6288 6289 6290 6291 6292 6293 6294 6295 6296 6297\n",
      "  6298 6299]\n",
      " [6300 6301 6302 6303 6304 6305 6306 6307 6308 6309 6310 6311 6312 6313\n",
      "  6314 6315 6316 6317 6318 6319 6320 6321 6322 6323 6324 6325 6326 6327\n",
      "  6328 6329 6330 6331 6332 6333 6334 6335 6336 6337 6338 6339 6340 6341\n",
      "  6342 6343 6344 6345 6346 6347 6348 6349 6350 6351 6352 6353 6354 6355\n",
      "  6356 6357 6358 6359 6360 6361 6362 6363 6364 6365 6366 6367 6368 6369\n",
      "  6370 6371 6372 6373 6374 6375 6376 6377 6378 6379 6380 6381 6382 6383\n",
      "  6384 6385 6386 6387 6388 6389 6390 6391 6392 6393 6394 6395 6396 6397\n",
      "  6398 6399]\n",
      " [6400 6401 6402 6403 6404 6405 6406 6407 6408 6409 6410 6411 6412 6413\n",
      "  6414 6415 6416 6417 6418 6419 6420 6421 6422 6423 6424 6425 6426 6427\n",
      "  6428 6429 6430 6431 6432 6433 6434 6435 6436 6437 6438 6439 6440 6441\n",
      "  6442 6443 6444 6445 6446 6447 6448 6449 6450 6451 6452 6453 6454 6455\n",
      "  6456 6457 6458 6459 6460 6461 6462 6463 6464 6465 6466 6467 6468 6469\n",
      "  6470 6471 6472 6473 6474 6475 6476 6477 6478 6479 6480 6481 6482 6483\n",
      "  6484 6485 6486 6487 6488 6489 6490 6491 6492 6493 6494 6495 6496 6497\n",
      "  6498 6499]\n",
      " [6500 6501 6502 6503 6504 6505 6506 6507 6508 6509 6510 6511 6512 6513\n",
      "  6514 6515 6516 6517 6518 6519 6520 6521 6522 6523 6524 6525 6526 6527\n",
      "  6528 6529 6530 6531 6532 6533 6534 6535 6536 6537 6538 6539 6540 6541\n",
      "  6542 6543 6544 6545 6546 6547 6548 6549 6550 6551 6552 6553 6554 6555\n",
      "  6556 6557 6558 6559 6560 6561 6562 6563 6564 6565 6566 6567 6568 6569\n",
      "  6570 6571 6572 6573 6574 6575 6576 6577 6578 6579 6580 6581 6582 6583\n",
      "  6584 6585 6586 6587 6588 6589 6590 6591 6592 6593 6594 6595 6596 6597\n",
      "  6598 6599]\n",
      " [6600 6601 6602 6603 6604 6605 6606 6607 6608 6609 6610 6611 6612 6613\n",
      "  6614 6615 6616 6617 6618 6619 6620 6621 6622 6623 6624 6625 6626 6627\n",
      "  6628 6629 6630 6631 6632 6633 6634 6635 6636 6637 6638 6639 6640 6641\n",
      "  6642 6643 6644 6645 6646 6647 6648 6649 6650 6651 6652 6653 6654 6655\n",
      "  6656 6657 6658 6659 6660 6661 6662 6663 6664 6665 6666 6667 6668 6669\n",
      "  6670 6671 6672 6673 6674 6675 6676 6677 6678 6679 6680 6681 6682 6683\n",
      "  6684 6685 6686 6687 6688 6689 6690 6691 6692 6693 6694 6695 6696 6697\n",
      "  6698 6699]\n",
      " [6700 6701 6702 6703 6704 6705 6706 6707 6708 6709 6710 6711 6712 6713\n",
      "  6714 6715 6716 6717 6718 6719 6720 6721 6722 6723 6724 6725 6726 6727\n",
      "  6728 6729 6730 6731 6732 6733 6734 6735 6736 6737 6738 6739 6740 6741\n",
      "  6742 6743 6744 6745 6746 6747 6748 6749 6750 6751 6752 6753 6754 6755\n",
      "  6756 6757 6758 6759 6760 6761 6762 6763 6764 6765 6766 6767 6768 6769\n",
      "  6770 6771 6772 6773 6774 6775 6776 6777 6778 6779 6780 6781 6782 6783\n",
      "  6784 6785 6786 6787 6788 6789 6790 6791 6792 6793 6794 6795 6796 6797\n",
      "  6798 6799]\n",
      " [6800 6801 6802 6803 6804 6805 6806 6807 6808 6809 6810 6811 6812 6813\n",
      "  6814 6815 6816 6817 6818 6819 6820 6821 6822 6823 6824 6825 6826 6827\n",
      "  6828 6829 6830 6831 6832 6833 6834 6835 6836 6837 6838 6839 6840 6841\n",
      "  6842 6843 6844 6845 6846 6847 6848 6849 6850 6851 6852 6853 6854 6855\n",
      "  6856 6857 6858 6859 6860 6861 6862 6863 6864 6865 6866 6867 6868 6869\n",
      "  6870 6871 6872 6873 6874 6875 6876 6877 6878 6879 6880 6881 6882 6883\n",
      "  6884 6885 6886 6887 6888 6889 6890 6891 6892 6893 6894 6895 6896 6897\n",
      "  6898 6899]\n",
      " [6900 6901 6902 6903 6904 6905 6906 6907 6908 6909 6910 6911 6912 6913\n",
      "  6914 6915 6916 6917 6918 6919 6920 6921 6922 6923 6924 6925 6926 6927\n",
      "  6928 6929 6930 6931 6932 6933 6934 6935 6936 6937 6938 6939 6940 6941\n",
      "  6942 6943 6944 6945 6946 6947 6948 6949 6950 6951 6952 6953 6954 6955\n",
      "  6956 6957 6958 6959 6960 6961 6962 6963 6964 6965 6966 6967 6968 6969\n",
      "  6970 6971 6972 6973 6974 6975 6976 6977 6978 6979 6980 6981 6982 6983\n",
      "  6984 6985 6986 6987 6988 6989 6990 6991 6992 6993 6994 6995 6996 6997\n",
      "  6998 6999]\n",
      " [7000 7001 7002 7003 7004 7005 7006 7007 7008 7009 7010 7011 7012 7013\n",
      "  7014 7015 7016 7017 7018 7019 7020 7021 7022 7023 7024 7025 7026 7027\n",
      "  7028 7029 7030 7031 7032 7033 7034 7035 7036 7037 7038 7039 7040 7041\n",
      "  7042 7043 7044 7045 7046 7047 7048 7049 7050 7051 7052 7053 7054 7055\n",
      "  7056 7057 7058 7059 7060 7061 7062 7063 7064 7065 7066 7067 7068 7069\n",
      "  7070 7071 7072 7073 7074 7075 7076 7077 7078 7079 7080 7081 7082 7083\n",
      "  7084 7085 7086 7087 7088 7089 7090 7091 7092 7093 7094 7095 7096 7097\n",
      "  7098 7099]\n",
      " [7100 7101 7102 7103 7104 7105 7106 7107 7108 7109 7110 7111 7112 7113\n",
      "  7114 7115 7116 7117 7118 7119 7120 7121 7122 7123 7124 7125 7126 7127\n",
      "  7128 7129 7130 7131 7132 7133 7134 7135 7136 7137 7138 7139 7140 7141\n",
      "  7142 7143 7144 7145 7146 7147 7148 7149 7150 7151 7152 7153 7154 7155\n",
      "  7156 7157 7158 7159 7160 7161 7162 7163 7164 7165 7166 7167 7168 7169\n",
      "  7170 7171 7172 7173 7174 7175 7176 7177 7178 7179 7180 7181 7182 7183\n",
      "  7184 7185 7186 7187 7188 7189 7190 7191 7192 7193 7194 7195 7196 7197\n",
      "  7198 7199]\n",
      " [7200 7201 7202 7203 7204 7205 7206 7207 7208 7209 7210 7211 7212 7213\n",
      "  7214 7215 7216 7217 7218 7219 7220 7221 7222 7223 7224 7225 7226 7227\n",
      "  7228 7229 7230 7231 7232 7233 7234 7235 7236 7237 7238 7239 7240 7241\n",
      "  7242 7243 7244 7245 7246 7247 7248 7249 7250 7251 7252 7253 7254 7255\n",
      "  7256 7257 7258 7259 7260 7261 7262 7263 7264 7265 7266 7267 7268 7269\n",
      "  7270 7271 7272 7273 7274 7275 7276 7277 7278 7279 7280 7281 7282 7283\n",
      "  7284 7285 7286 7287 7288 7289 7290 7291 7292 7293 7294 7295 7296 7297\n",
      "  7298 7299]\n",
      " [7300 7301 7302 7303 7304 7305 7306 7307 7308 7309 7310 7311 7312 7313\n",
      "  7314 7315 7316 7317 7318 7319 7320 7321 7322 7323 7324 7325 7326 7327\n",
      "  7328 7329 7330 7331 7332 7333 7334 7335 7336 7337 7338 7339 7340 7341\n",
      "  7342 7343 7344 7345 7346 7347 7348 7349 7350 7351 7352 7353 7354 7355\n",
      "  7356 7357 7358 7359 7360 7361 7362 7363 7364 7365 7366 7367 7368 7369\n",
      "  7370 7371 7372 7373 7374 7375 7376 7377 7378 7379 7380 7381 7382 7383\n",
      "  7384 7385 7386 7387 7388 7389 7390 7391 7392 7393 7394 7395 7396 7397\n",
      "  7398 7399]\n",
      " [7400 7401 7402 7403 7404 7405 7406 7407 7408 7409 7410 7411 7412 7413\n",
      "  7414 7415 7416 7417 7418 7419 7420 7421 7422 7423 7424 7425 7426 7427\n",
      "  7428 7429 7430 7431 7432 7433 7434 7435 7436 7437 7438 7439 7440 7441\n",
      "  7442 7443 7444 7445 7446 7447 7448 7449 7450 7451 7452 7453 7454 7455\n",
      "  7456 7457 7458 7459 7460 7461 7462 7463 7464 7465 7466 7467 7468 7469\n",
      "  7470 7471 7472 7473 7474 7475 7476 7477 7478 7479 7480 7481 7482 7483\n",
      "  7484 7485 7486 7487 7488 7489 7490 7491 7492 7493 7494 7495 7496 7497\n",
      "  7498 7499]\n",
      " [7500 7501 7502 7503 7504 7505 7506 7507 7508 7509 7510 7511 7512 7513\n",
      "  7514 7515 7516 7517 7518 7519 7520 7521 7522 7523 7524 7525 7526 7527\n",
      "  7528 7529 7530 7531 7532 7533 7534 7535 7536 7537 7538 7539 7540 7541\n",
      "  7542 7543 7544 7545 7546 7547 7548 7549 7550 7551 7552 7553 7554 7555\n",
      "  7556 7557 7558 7559 7560 7561 7562 7563 7564 7565 7566 7567 7568 7569\n",
      "  7570 7571 7572 7573 7574 7575 7576 7577 7578 7579 7580 7581 7582 7583\n",
      "  7584 7585 7586 7587 7588 7589 7590 7591 7592 7593 7594 7595 7596 7597\n",
      "  7598 7599]\n",
      " [7600 7601 7602 7603 7604 7605 7606 7607 7608 7609 7610 7611 7612 7613\n",
      "  7614 7615 7616 7617 7618 7619 7620 7621 7622 7623 7624 7625 7626 7627\n",
      "  7628 7629 7630 7631 7632 7633 7634 7635 7636 7637 7638 7639 7640 7641\n",
      "  7642 7643 7644 7645 7646 7647 7648 7649 7650 7651 7652 7653 7654 7655\n",
      "  7656 7657 7658 7659 7660 7661 7662 7663 7664 7665 7666 7667 7668 7669\n",
      "  7670 7671 7672 7673 7674 7675 7676 7677 7678 7679 7680 7681 7682 7683\n",
      "  7684 7685 7686 7687 7688 7689 7690 7691 7692 7693 7694 7695 7696 7697\n",
      "  7698 7699]\n",
      " [7700 7701 7702 7703 7704 7705 7706 7707 7708 7709 7710 7711 7712 7713\n",
      "  7714 7715 7716 7717 7718 7719 7720 7721 7722 7723 7724 7725 7726 7727\n",
      "  7728 7729 7730 7731 7732 7733 7734 7735 7736 7737 7738 7739 7740 7741\n",
      "  7742 7743 7744 7745 7746 7747 7748 7749 7750 7751 7752 7753 7754 7755\n",
      "  7756 7757 7758 7759 7760 7761 7762 7763 7764 7765 7766 7767 7768 7769\n",
      "  7770 7771 7772 7773 7774 7775 7776 7777 7778 7779 7780 7781 7782 7783\n",
      "  7784 7785 7786 7787 7788 7789 7790 7791 7792 7793 7794 7795 7796 7797\n",
      "  7798 7799]\n",
      " [7800 7801 7802 7803 7804 7805 7806 7807 7808 7809 7810 7811 7812 7813\n",
      "  7814 7815 7816 7817 7818 7819 7820 7821 7822 7823 7824 7825 7826 7827\n",
      "  7828 7829 7830 7831 7832 7833 7834 7835 7836 7837 7838 7839 7840 7841\n",
      "  7842 7843 7844 7845 7846 7847 7848 7849 7850 7851 7852 7853 7854 7855\n",
      "  7856 7857 7858 7859 7860 7861 7862 7863 7864 7865 7866 7867 7868 7869\n",
      "  7870 7871 7872 7873 7874 7875 7876 7877 7878 7879 7880 7881 7882 7883\n",
      "  7884 7885 7886 7887 7888 7889 7890 7891 7892 7893 7894 7895 7896 7897\n",
      "  7898 7899]\n",
      " [7900 7901 7902 7903 7904 7905 7906 7907 7908 7909 7910 7911 7912 7913\n",
      "  7914 7915 7916 7917 7918 7919 7920 7921 7922 7923 7924 7925 7926 7927\n",
      "  7928 7929 7930 7931 7932 7933 7934 7935 7936 7937 7938 7939 7940 7941\n",
      "  7942 7943 7944 7945 7946 7947 7948 7949 7950 7951 7952 7953 7954 7955\n",
      "  7956 7957 7958 7959 7960 7961 7962 7963 7964 7965 7966 7967 7968 7969\n",
      "  7970 7971 7972 7973 7974 7975 7976 7977 7978 7979 7980 7981 7982 7983\n",
      "  7984 7985 7986 7987 7988 7989 7990 7991 7992 7993 7994 7995 7996 7997\n",
      "  7998 7999]\n",
      " [8000 8001 8002 8003 8004 8005 8006 8007 8008 8009 8010 8011 8012 8013\n",
      "  8014 8015 8016 8017 8018 8019 8020 8021 8022 8023 8024 8025 8026 8027\n",
      "  8028 8029 8030 8031 8032 8033 8034 8035 8036 8037 8038 8039 8040 8041\n",
      "  8042 8043 8044 8045 8046 8047 8048 8049 8050 8051 8052 8053 8054 8055\n",
      "  8056 8057 8058 8059 8060 8061 8062 8063 8064 8065 8066 8067 8068 8069\n",
      "  8070 8071 8072 8073 8074 8075 8076 8077 8078 8079 8080 8081 8082 8083\n",
      "  8084 8085 8086 8087 8088 8089 8090 8091 8092 8093 8094 8095 8096 8097\n",
      "  8098 8099]\n",
      " [8100 8101 8102 8103 8104 8105 8106 8107 8108 8109 8110 8111 8112 8113\n",
      "  8114 8115 8116 8117 8118 8119 8120 8121 8122 8123 8124 8125 8126 8127\n",
      "  8128 8129 8130 8131 8132 8133 8134 8135 8136 8137 8138 8139 8140 8141\n",
      "  8142 8143 8144 8145 8146 8147 8148 8149 8150 8151 8152 8153 8154 8155\n",
      "  8156 8157 8158 8159 8160 8161 8162 8163 8164 8165 8166 8167 8168 8169\n",
      "  8170 8171 8172 8173 8174 8175 8176 8177 8178 8179 8180 8181 8182 8183\n",
      "  8184 8185 8186 8187 8188 8189 8190 8191 8192 8193 8194 8195 8196 8197\n",
      "  8198 8199]\n",
      " [8200 8201 8202 8203 8204 8205 8206 8207 8208 8209 8210 8211 8212 8213\n",
      "  8214 8215 8216 8217 8218 8219 8220 8221 8222 8223 8224 8225 8226 8227\n",
      "  8228 8229 8230 8231 8232 8233 8234 8235 8236 8237 8238 8239 8240 8241\n",
      "  8242 8243 8244 8245 8246 8247 8248 8249 8250 8251 8252 8253 8254 8255\n",
      "  8256 8257 8258 8259 8260 8261 8262 8263 8264 8265 8266 8267 8268 8269\n",
      "  8270 8271 8272 8273 8274 8275 8276 8277 8278 8279 8280 8281 8282 8283\n",
      "  8284 8285 8286 8287 8288 8289 8290 8291 8292 8293 8294 8295 8296 8297\n",
      "  8298 8299]\n",
      " [8300 8301 8302 8303 8304 8305 8306 8307 8308 8309 8310 8311 8312 8313\n",
      "  8314 8315 8316 8317 8318 8319 8320 8321 8322 8323 8324 8325 8326 8327\n",
      "  8328 8329 8330 8331 8332 8333 8334 8335 8336 8337 8338 8339 8340 8341\n",
      "  8342 8343 8344 8345 8346 8347 8348 8349 8350 8351 8352 8353 8354 8355\n",
      "  8356 8357 8358 8359 8360 8361 8362 8363 8364 8365 8366 8367 8368 8369\n",
      "  8370 8371 8372 8373 8374 8375 8376 8377 8378 8379 8380 8381 8382 8383\n",
      "  8384 8385 8386 8387 8388 8389 8390 8391 8392 8393 8394 8395 8396 8397\n",
      "  8398 8399]\n",
      " [8400 8401 8402 8403 8404 8405 8406 8407 8408 8409 8410 8411 8412 8413\n",
      "  8414 8415 8416 8417 8418 8419 8420 8421 8422 8423 8424 8425 8426 8427\n",
      "  8428 8429 8430 8431 8432 8433 8434 8435 8436 8437 8438 8439 8440 8441\n",
      "  8442 8443 8444 8445 8446 8447 8448 8449 8450 8451 8452 8453 8454 8455\n",
      "  8456 8457 8458 8459 8460 8461 8462 8463 8464 8465 8466 8467 8468 8469\n",
      "  8470 8471 8472 8473 8474 8475 8476 8477 8478 8479 8480 8481 8482 8483\n",
      "  8484 8485 8486 8487 8488 8489 8490 8491 8492 8493 8494 8495 8496 8497\n",
      "  8498 8499]\n",
      " [8500 8501 8502 8503 8504 8505 8506 8507 8508 8509 8510 8511 8512 8513\n",
      "  8514 8515 8516 8517 8518 8519 8520 8521 8522 8523 8524 8525 8526 8527\n",
      "  8528 8529 8530 8531 8532 8533 8534 8535 8536 8537 8538 8539 8540 8541\n",
      "  8542 8543 8544 8545 8546 8547 8548 8549 8550 8551 8552 8553 8554 8555\n",
      "  8556 8557 8558 8559 8560 8561 8562 8563 8564 8565 8566 8567 8568 8569\n",
      "  8570 8571 8572 8573 8574 8575 8576 8577 8578 8579 8580 8581 8582 8583\n",
      "  8584 8585 8586 8587 8588 8589 8590 8591 8592 8593 8594 8595 8596 8597\n",
      "  8598 8599]\n",
      " [8600 8601 8602 8603 8604 8605 8606 8607 8608 8609 8610 8611 8612 8613\n",
      "  8614 8615 8616 8617 8618 8619 8620 8621 8622 8623 8624 8625 8626 8627\n",
      "  8628 8629 8630 8631 8632 8633 8634 8635 8636 8637 8638 8639 8640 8641\n",
      "  8642 8643 8644 8645 8646 8647 8648 8649 8650 8651 8652 8653 8654 8655\n",
      "  8656 8657 8658 8659 8660 8661 8662 8663 8664 8665 8666 8667 8668 8669\n",
      "  8670 8671 8672 8673 8674 8675 8676 8677 8678 8679 8680 8681 8682 8683\n",
      "  8684 8685 8686 8687 8688 8689 8690 8691 8692 8693 8694 8695 8696 8697\n",
      "  8698 8699]\n",
      " [8700 8701 8702 8703 8704 8705 8706 8707 8708 8709 8710 8711 8712 8713\n",
      "  8714 8715 8716 8717 8718 8719 8720 8721 8722 8723 8724 8725 8726 8727\n",
      "  8728 8729 8730 8731 8732 8733 8734 8735 8736 8737 8738 8739 8740 8741\n",
      "  8742 8743 8744 8745 8746 8747 8748 8749 8750 8751 8752 8753 8754 8755\n",
      "  8756 8757 8758 8759 8760 8761 8762 8763 8764 8765 8766 8767 8768 8769\n",
      "  8770 8771 8772 8773 8774 8775 8776 8777 8778 8779 8780 8781 8782 8783\n",
      "  8784 8785 8786 8787 8788 8789 8790 8791 8792 8793 8794 8795 8796 8797\n",
      "  8798 8799]\n",
      " [8800 8801 8802 8803 8804 8805 8806 8807 8808 8809 8810 8811 8812 8813\n",
      "  8814 8815 8816 8817 8818 8819 8820 8821 8822 8823 8824 8825 8826 8827\n",
      "  8828 8829 8830 8831 8832 8833 8834 8835 8836 8837 8838 8839 8840 8841\n",
      "  8842 8843 8844 8845 8846 8847 8848 8849 8850 8851 8852 8853 8854 8855\n",
      "  8856 8857 8858 8859 8860 8861 8862 8863 8864 8865 8866 8867 8868 8869\n",
      "  8870 8871 8872 8873 8874 8875 8876 8877 8878 8879 8880 8881 8882 8883\n",
      "  8884 8885 8886 8887 8888 8889 8890 8891 8892 8893 8894 8895 8896 8897\n",
      "  8898 8899]\n",
      " [8900 8901 8902 8903 8904 8905 8906 8907 8908 8909 8910 8911 8912 8913\n",
      "  8914 8915 8916 8917 8918 8919 8920 8921 8922 8923 8924 8925 8926 8927\n",
      "  8928 8929 8930 8931 8932 8933 8934 8935 8936 8937 8938 8939 8940 8941\n",
      "  8942 8943 8944 8945 8946 8947 8948 8949 8950 8951 8952 8953 8954 8955\n",
      "  8956 8957 8958 8959 8960 8961 8962 8963 8964 8965 8966 8967 8968 8969\n",
      "  8970 8971 8972 8973 8974 8975 8976 8977 8978 8979 8980 8981 8982 8983\n",
      "  8984 8985 8986 8987 8988 8989 8990 8991 8992 8993 8994 8995 8996 8997\n",
      "  8998 8999]\n",
      " [9000 9001 9002 9003 9004 9005 9006 9007 9008 9009 9010 9011 9012 9013\n",
      "  9014 9015 9016 9017 9018 9019 9020 9021 9022 9023 9024 9025 9026 9027\n",
      "  9028 9029 9030 9031 9032 9033 9034 9035 9036 9037 9038 9039 9040 9041\n",
      "  9042 9043 9044 9045 9046 9047 9048 9049 9050 9051 9052 9053 9054 9055\n",
      "  9056 9057 9058 9059 9060 9061 9062 9063 9064 9065 9066 9067 9068 9069\n",
      "  9070 9071 9072 9073 9074 9075 9076 9077 9078 9079 9080 9081 9082 9083\n",
      "  9084 9085 9086 9087 9088 9089 9090 9091 9092 9093 9094 9095 9096 9097\n",
      "  9098 9099]\n",
      " [9100 9101 9102 9103 9104 9105 9106 9107 9108 9109 9110 9111 9112 9113\n",
      "  9114 9115 9116 9117 9118 9119 9120 9121 9122 9123 9124 9125 9126 9127\n",
      "  9128 9129 9130 9131 9132 9133 9134 9135 9136 9137 9138 9139 9140 9141\n",
      "  9142 9143 9144 9145 9146 9147 9148 9149 9150 9151 9152 9153 9154 9155\n",
      "  9156 9157 9158 9159 9160 9161 9162 9163 9164 9165 9166 9167 9168 9169\n",
      "  9170 9171 9172 9173 9174 9175 9176 9177 9178 9179 9180 9181 9182 9183\n",
      "  9184 9185 9186 9187 9188 9189 9190 9191 9192 9193 9194 9195 9196 9197\n",
      "  9198 9199]\n",
      " [9200 9201 9202 9203 9204 9205 9206 9207 9208 9209 9210 9211 9212 9213\n",
      "  9214 9215 9216 9217 9218 9219 9220 9221 9222 9223 9224 9225 9226 9227\n",
      "  9228 9229 9230 9231 9232 9233 9234 9235 9236 9237 9238 9239 9240 9241\n",
      "  9242 9243 9244 9245 9246 9247 9248 9249 9250 9251 9252 9253 9254 9255\n",
      "  9256 9257 9258 9259 9260 9261 9262 9263 9264 9265 9266 9267 9268 9269\n",
      "  9270 9271 9272 9273 9274 9275 9276 9277 9278 9279 9280 9281 9282 9283\n",
      "  9284 9285 9286 9287 9288 9289 9290 9291 9292 9293 9294 9295 9296 9297\n",
      "  9298 9299]\n",
      " [9300 9301 9302 9303 9304 9305 9306 9307 9308 9309 9310 9311 9312 9313\n",
      "  9314 9315 9316 9317 9318 9319 9320 9321 9322 9323 9324 9325 9326 9327\n",
      "  9328 9329 9330 9331 9332 9333 9334 9335 9336 9337 9338 9339 9340 9341\n",
      "  9342 9343 9344 9345 9346 9347 9348 9349 9350 9351 9352 9353 9354 9355\n",
      "  9356 9357 9358 9359 9360 9361 9362 9363 9364 9365 9366 9367 9368 9369\n",
      "  9370 9371 9372 9373 9374 9375 9376 9377 9378 9379 9380 9381 9382 9383\n",
      "  9384 9385 9386 9387 9388 9389 9390 9391 9392 9393 9394 9395 9396 9397\n",
      "  9398 9399]\n",
      " [9400 9401 9402 9403 9404 9405 9406 9407 9408 9409 9410 9411 9412 9413\n",
      "  9414 9415 9416 9417 9418 9419 9420 9421 9422 9423 9424 9425 9426 9427\n",
      "  9428 9429 9430 9431 9432 9433 9434 9435 9436 9437 9438 9439 9440 9441\n",
      "  9442 9443 9444 9445 9446 9447 9448 9449 9450 9451 9452 9453 9454 9455\n",
      "  9456 9457 9458 9459 9460 9461 9462 9463 9464 9465 9466 9467 9468 9469\n",
      "  9470 9471 9472 9473 9474 9475 9476 9477 9478 9479 9480 9481 9482 9483\n",
      "  9484 9485 9486 9487 9488 9489 9490 9491 9492 9493 9494 9495 9496 9497\n",
      "  9498 9499]\n",
      " [9500 9501 9502 9503 9504 9505 9506 9507 9508 9509 9510 9511 9512 9513\n",
      "  9514 9515 9516 9517 9518 9519 9520 9521 9522 9523 9524 9525 9526 9527\n",
      "  9528 9529 9530 9531 9532 9533 9534 9535 9536 9537 9538 9539 9540 9541\n",
      "  9542 9543 9544 9545 9546 9547 9548 9549 9550 9551 9552 9553 9554 9555\n",
      "  9556 9557 9558 9559 9560 9561 9562 9563 9564 9565 9566 9567 9568 9569\n",
      "  9570 9571 9572 9573 9574 9575 9576 9577 9578 9579 9580 9581 9582 9583\n",
      "  9584 9585 9586 9587 9588 9589 9590 9591 9592 9593 9594 9595 9596 9597\n",
      "  9598 9599]\n",
      " [9600 9601 9602 9603 9604 9605 9606 9607 9608 9609 9610 9611 9612 9613\n",
      "  9614 9615 9616 9617 9618 9619 9620 9621 9622 9623 9624 9625 9626 9627\n",
      "  9628 9629 9630 9631 9632 9633 9634 9635 9636 9637 9638 9639 9640 9641\n",
      "  9642 9643 9644 9645 9646 9647 9648 9649 9650 9651 9652 9653 9654 9655\n",
      "  9656 9657 9658 9659 9660 9661 9662 9663 9664 9665 9666 9667 9668 9669\n",
      "  9670 9671 9672 9673 9674 9675 9676 9677 9678 9679 9680 9681 9682 9683\n",
      "  9684 9685 9686 9687 9688 9689 9690 9691 9692 9693 9694 9695 9696 9697\n",
      "  9698 9699]\n",
      " [9700 9701 9702 9703 9704 9705 9706 9707 9708 9709 9710 9711 9712 9713\n",
      "  9714 9715 9716 9717 9718 9719 9720 9721 9722 9723 9724 9725 9726 9727\n",
      "  9728 9729 9730 9731 9732 9733 9734 9735 9736 9737 9738 9739 9740 9741\n",
      "  9742 9743 9744 9745 9746 9747 9748 9749 9750 9751 9752 9753 9754 9755\n",
      "  9756 9757 9758 9759 9760 9761 9762 9763 9764 9765 9766 9767 9768 9769\n",
      "  9770 9771 9772 9773 9774 9775 9776 9777 9778 9779 9780 9781 9782 9783\n",
      "  9784 9785 9786 9787 9788 9789 9790 9791 9792 9793 9794 9795 9796 9797\n",
      "  9798 9799]\n",
      " [9800 9801 9802 9803 9804 9805 9806 9807 9808 9809 9810 9811 9812 9813\n",
      "  9814 9815 9816 9817 9818 9819 9820 9821 9822 9823 9824 9825 9826 9827\n",
      "  9828 9829 9830 9831 9832 9833 9834 9835 9836 9837 9838 9839 9840 9841\n",
      "  9842 9843 9844 9845 9846 9847 9848 9849 9850 9851 9852 9853 9854 9855\n",
      "  9856 9857 9858 9859 9860 9861 9862 9863 9864 9865 9866 9867 9868 9869\n",
      "  9870 9871 9872 9873 9874 9875 9876 9877 9878 9879 9880 9881 9882 9883\n",
      "  9884 9885 9886 9887 9888 9889 9890 9891 9892 9893 9894 9895 9896 9897\n",
      "  9898 9899]\n",
      " [9900 9901 9902 9903 9904 9905 9906 9907 9908 9909 9910 9911 9912 9913\n",
      "  9914 9915 9916 9917 9918 9919 9920 9921 9922 9923 9924 9925 9926 9927\n",
      "  9928 9929 9930 9931 9932 9933 9934 9935 9936 9937 9938 9939 9940 9941\n",
      "  9942 9943 9944 9945 9946 9947 9948 9949 9950 9951 9952 9953 9954 9955\n",
      "  9956 9957 9958 9959 9960 9961 9962 9963 9964 9965 9966 9967 9968 9969\n",
      "  9970 9971 9972 9973 9974 9975 9976 9977 9978 9979 9980 9981 9982 9983\n",
      "  9984 9985 9986 9987 9988 9989 9990 9991 9992 9993 9994 9995 9996 9997\n",
      "  9998 9999]]\n"
     ]
    }
   ],
   "source": [
    "# Create a sample array\n",
    "sample_array = np.arange(10000).reshape(100, 100)\n",
    "\n",
    "# Set print options to print all values\n",
    "np.set_printoptions(threshold=np.inf)\n",
    "\n",
    "# Print the array\n",
    "print(sample_array)"
   ]
  },
  {
   "cell_type": "markdown",
   "metadata": {},
   "source": [
    "#### 50. How to find the closest value (to a given scalar) in a vector? (★★☆)"
   ]
  },
  {
   "cell_type": "code",
   "execution_count": 64,
   "metadata": {},
   "outputs": [
    {
     "name": "stdout",
     "output_type": "stream",
     "text": [
      "Vector: [ 1  3  8 10 15]\n",
      "Scalar: 9\n",
      "Closest value: 8\n"
     ]
    }
   ],
   "source": [
    "# Given vector and scalar\n",
    "vector = np.array([1, 3, 8, 10, 15])\n",
    "scalar = 9\n",
    "\n",
    "# Find the index of the closest value\n",
    "index = np.abs(vector - scalar).argmin()\n",
    "\n",
    "# Get the closest value\n",
    "closest_value = vector[index]\n",
    "\n",
    "print(\"Vector:\", vector)\n",
    "print(\"Scalar:\", scalar)\n",
    "print(\"Closest value:\", closest_value)"
   ]
  },
  {
   "cell_type": "markdown",
   "metadata": {},
   "source": [
    "Save and commit your work."
   ]
  },
  {
   "cell_type": "code",
   "execution_count": 12,
   "metadata": {},
   "outputs": [],
   "source": [
    "import jovian"
   ]
  },
  {
   "cell_type": "code",
   "execution_count": 13,
   "metadata": {},
   "outputs": [
    {
     "data": {
      "application/javascript": "window.require && require([\"base/js/namespace\"],function(Jupyter){Jupyter.notebook.save_checkpoint()})",
      "text/plain": [
       "<IPython.core.display.Javascript object>"
      ]
     },
     "metadata": {},
     "output_type": "display_data"
    },
    {
     "name": "stdout",
     "output_type": "stream",
     "text": [
      "[jovian] Attempting to save notebook..\u001b[0m\n",
      "[jovian] Updating notebook \"aakashns/numpy-100-exercises\" on https://jovian.ml/\u001b[0m\n",
      "[jovian] Uploading notebook..\u001b[0m\n",
      "[jovian] Capturing environment..\u001b[0m\n",
      "[jovian] Committed successfully! https://jovian.ml/aakashns/numpy-100-exercises\u001b[0m\n"
     ]
    },
    {
     "data": {
      "text/plain": [
       "'https://jovian.ml/aakashns/numpy-100-exercises'"
      ]
     },
     "execution_count": 13,
     "metadata": {},
     "output_type": "execute_result"
    }
   ],
   "source": [
    "jovian.commit()"
   ]
  },
  {
   "cell_type": "markdown",
   "metadata": {},
   "source": [
    "#### 51. Create a structured array representing a position (x,y) and a color (r,g,b) (★★☆)"
   ]
  },
  {
   "cell_type": "code",
   "execution_count": 3,
   "metadata": {},
   "outputs": [
    {
     "name": "stdout",
     "output_type": "stream",
     "text": [
      "[(0., 0., 255,   0,   0) (1., 1.,   0, 255,   0) (2., 2.,   0,   0, 255)]\n"
     ]
    }
   ],
   "source": [
    "# Define the structured data type with fields 'x', 'y', 'r', 'g', 'b'\n",
    "dtype = np.dtype([('x', np.float64), ('y', np.float64), \n",
    "                  ('r', np.uint8), ('g', np.uint8), ('b', np.uint8)])\n",
    "\n",
    "# Create a structured array with sample data\n",
    "structured_array = np.array([(0.0, 0.0, 255, 0, 0), \n",
    "                             (1.0, 1.0, 0, 255, 0), \n",
    "                             (2.0, 2.0, 0, 0, 255)], dtype=dtype)\n",
    "\n",
    "print(structured_array)"
   ]
  },
  {
   "cell_type": "markdown",
   "metadata": {},
   "source": [
    "#### 52. Consider a random vector with shape (100,2) representing coordinates, find point by point distances (★★☆)"
   ]
  },
  {
   "cell_type": "code",
   "execution_count": 5,
   "metadata": {},
   "outputs": [
    {
     "name": "stdout",
     "output_type": "stream",
     "text": [
      "Random vector:\n",
      " [[0.18105335 0.72459494]\n",
      " [0.91612484 0.43135944]\n",
      " [0.33404919 0.82192237]\n",
      " [0.25575341 0.16351658]\n",
      " [0.83593067 0.56298766]\n",
      " [0.42206842 0.87169039]\n",
      " [0.12853469 0.94314412]\n",
      " [0.00760748 0.96931859]\n",
      " [0.65606799 0.86478241]\n",
      " [0.28704333 0.05810891]\n",
      " [0.37842686 0.1356656 ]\n",
      " [0.91467517 0.21645879]\n",
      " [0.93956523 0.19764337]\n",
      " [0.37460898 0.10148681]\n",
      " [0.22275147 0.57257557]\n",
      " [0.83247843 0.72765806]\n",
      " [0.28530262 0.99135919]\n",
      " [0.25789485 0.58533545]\n",
      " [0.34939324 0.6182071 ]\n",
      " [0.20360125 0.81478362]\n",
      " [0.44470468 0.14955195]\n",
      " [0.66574232 0.51450009]\n",
      " [0.36025186 0.5709317 ]\n",
      " [0.41794443 0.96319179]\n",
      " [0.24088742 0.2153173 ]\n",
      " [0.06055004 0.73529966]\n",
      " [0.76474876 0.15646812]\n",
      " [0.98423825 0.06808822]\n",
      " [0.31425867 0.23754363]\n",
      " [0.68285863 0.68418252]\n",
      " [0.96767131 0.47281744]\n",
      " [0.36267403 0.02713515]\n",
      " [0.84123097 0.93795871]\n",
      " [0.80722826 0.3599991 ]\n",
      " [0.22856283 0.72278925]\n",
      " [0.0874346  0.73275145]\n",
      " [0.44889277 0.50964911]\n",
      " [0.93624415 0.58530886]\n",
      " [0.93033675 0.79477106]\n",
      " [0.39781771 0.50627763]\n",
      " [0.09038103 0.4394114 ]\n",
      " [0.10653378 0.743559  ]\n",
      " [0.84238252 0.46349083]\n",
      " [0.13282374 0.01723503]\n",
      " [0.06567394 0.50875788]\n",
      " [0.76063537 0.63371707]\n",
      " [0.37986477 0.10039809]\n",
      " [0.93060317 0.31312443]\n",
      " [0.97438792 0.73873495]\n",
      " [0.37099333 0.81893637]\n",
      " [0.16289671 0.88163984]\n",
      " [0.43529758 0.64462115]\n",
      " [0.97513033 0.55555876]\n",
      " [0.45034325 0.42024579]\n",
      " [0.14644144 0.09895475]\n",
      " [0.54737393 0.6146624 ]\n",
      " [0.66428841 0.06297184]\n",
      " [0.35795141 0.2547833 ]\n",
      " [0.69816236 0.04997705]\n",
      " [0.13663436 0.00298871]\n",
      " [0.04699526 0.16195692]\n",
      " [0.38793724 0.19040635]\n",
      " [0.4078101  0.62970914]\n",
      " [0.81849702 0.10390958]\n",
      " [0.75258572 0.52687736]\n",
      " [0.66556758 0.78088817]\n",
      " [0.17182701 0.37794827]\n",
      " [0.19938809 0.783077  ]\n",
      " [0.43632261 0.62144845]\n",
      " [0.8861205  0.63009777]\n",
      " [0.2581344  0.76313235]\n",
      " [0.40849177 0.9905485 ]\n",
      " [0.4896349  0.25952623]\n",
      " [0.81371203 0.63798168]\n",
      " [0.98177338 0.0410945 ]\n",
      " [0.28807864 0.89341375]\n",
      " [0.83255638 0.51453501]\n",
      " [0.42423895 0.14057469]\n",
      " [0.06305128 0.84376813]\n",
      " [0.88336131 0.53469642]\n",
      " [0.48854134 0.549843  ]\n",
      " [0.03213021 0.32439144]\n",
      " [0.94734234 0.39182588]\n",
      " [0.80892589 0.10768495]\n",
      " [0.53571008 0.86183393]\n",
      " [0.21274698 0.49880925]\n",
      " [0.09414409 0.93855792]\n",
      " [0.24853149 0.5850654 ]\n",
      " [0.23638423 0.4324925 ]\n",
      " [0.50109749 0.2355488 ]\n",
      " [0.55953448 0.98941734]\n",
      " [0.28067192 0.30315035]\n",
      " [0.16251206 0.75812379]\n",
      " [0.96788867 0.83580558]\n",
      " [0.30422423 0.7184087 ]\n",
      " [0.65835633 0.41674291]\n",
      " [0.65177497 0.50930368]\n",
      " [0.55444452 0.03912966]\n",
      " [0.35589162 0.75136043]\n",
      " [0.59168702 0.38430601]]\n",
      "Pairwise distances:\n",
      " [[0.         0.79140201 0.18132941 ... 0.78056621 0.17687513 0.53330719]\n",
      " [0.79140201 0.         0.70096467 ... 0.53353243 0.64518361 0.32783216]\n",
      " [0.18132941 0.70096467 0.         ... 0.81322724 0.07386528 0.50782412]\n",
      " ...\n",
      " [0.78056621 0.53353243 0.81322724 ... 0.         0.73938889 0.34717966]\n",
      " [0.17687513 0.64518361 0.07386528 ... 0.73938889 0.         0.43626645]\n",
      " [0.53330719 0.32783216 0.50782412 ... 0.34717966 0.43626645 0.        ]]\n"
     ]
    }
   ],
   "source": [
    "from scipy.spatial import distance\n",
    "\n",
    "# Create a random vector with shape (100, 2) representing coordinates\n",
    "random_vector = np.random.random((100, 2))\n",
    "\n",
    "# Compute the pairwise distances between points\n",
    "distances = distance.cdist(random_vector, random_vector)\n",
    "\n",
    "print(\"Random vector:\\n\", random_vector)\n",
    "print(\"Pairwise distances:\\n\", distances)"
   ]
  },
  {
   "cell_type": "markdown",
   "metadata": {},
   "source": [
    "#### 53. How to convert a float (32 bits) array into an integer (32 bits) in place?"
   ]
  },
  {
   "cell_type": "code",
   "execution_count": 6,
   "metadata": {},
   "outputs": [
    {
     "name": "stdout",
     "output_type": "stream",
     "text": [
      "Original float array: [0.9717048  0.5624464  0.31849092 0.85173035 0.45106167 0.6047525\n",
      " 0.7082824  0.93306357 0.18951476 0.91779405]\n",
      "Converted integer array: [0 0 0 0 0 0 0 0 0 0]\n"
     ]
    }
   ],
   "source": [
    "# Create a sample float32 array\n",
    "float_array = np.random.rand(10).astype(np.float32)\n",
    "print(\"Original float array:\", float_array)\n",
    "\n",
    "# Convert the float32 array to int32 in place\n",
    "float_array = float_array.astype(np.int32, copy=False)\n",
    "print(\"Converted integer array:\", float_array)"
   ]
  },
  {
   "cell_type": "markdown",
   "metadata": {},
   "source": [
    "#### 54. How to read the following file? (★★☆)\n",
    "```\n",
    "1, 2, 3, 4, 5\n",
    "6,  ,  , 7, 8\n",
    " ,  , 9,10,11\n",
    "```"
   ]
  },
  {
   "cell_type": "code",
   "execution_count": 7,
   "metadata": {},
   "outputs": [
    {
     "name": "stdout",
     "output_type": "stream",
     "text": [
      "[[ 1.  2.  3.  4.  5.]\n",
      " [ 6. nan nan  7.  8.]\n",
      " [nan nan  9. 10. 11.]]\n"
     ]
    }
   ],
   "source": [
    "import numpy as np\n",
    "\n",
    "# Define the file content as a string\n",
    "file_content = \"\"\"1, 2, 3, 4, 5\n",
    "6,  ,  , 7, 8\n",
    " ,  , 9,10,11\"\"\"\n",
    "\n",
    "# Use np.genfromtxt to read the file content\n",
    "# Specify delimiter as ',' and set missing values to np.nan\n",
    "data = np.genfromtxt(file_content.splitlines(), delimiter=',', dtype=float)\n",
    "\n",
    "print(data)"
   ]
  },
  {
   "cell_type": "markdown",
   "metadata": {},
   "source": [
    "#### 55. What is the equivalent of enumerate for numpy arrays? (★★☆)"
   ]
  },
  {
   "cell_type": "code",
   "execution_count": 8,
   "metadata": {},
   "outputs": [
    {
     "name": "stdout",
     "output_type": "stream",
     "text": [
      "(0, 0) 1\n",
      "(0, 1) 2\n",
      "(1, 0) 3\n",
      "(1, 1) 4\n"
     ]
    }
   ],
   "source": [
    "# Create a sample numpy array\n",
    "array = np.array([[1, 2], [3, 4]])\n",
    "\n",
    "# Use np.ndenumerate to get the equivalent of enumerate for numpy arrays\n",
    "for index, value in np.ndenumerate(array):\n",
    "    print(index, value)"
   ]
  },
  {
   "cell_type": "markdown",
   "metadata": {},
   "source": [
    "#### 56. Generate a generic 2D Gaussian-like array (★★☆)"
   ]
  },
  {
   "cell_type": "code",
   "execution_count": 9,
   "metadata": {},
   "outputs": [
    {
     "name": "stdout",
     "output_type": "stream",
     "text": [
      "[[0.05854983 0.07133657 0.08272793 0.09131569 0.09593831 0.09593831\n",
      "  0.09131569 0.08272793 0.07133657 0.05854983]\n",
      " [0.07133657 0.08691581 0.10079493 0.11125819 0.11689034 0.11689034\n",
      "  0.11125819 0.10079493 0.08691581 0.07133657]\n",
      " [0.08272793 0.10079493 0.11689034 0.12902442 0.13555594 0.13555594\n",
      "  0.12902442 0.11689034 0.10079493 0.08272793]\n",
      " [0.09131569 0.11125819 0.12902442 0.1424181  0.14962764 0.14962764\n",
      "  0.1424181  0.12902442 0.11125819 0.09131569]\n",
      " [0.09593831 0.11689034 0.13555594 0.14962764 0.15720215 0.15720215\n",
      "  0.14962764 0.13555594 0.11689034 0.09593831]\n",
      " [0.09593831 0.11689034 0.13555594 0.14962764 0.15720215 0.15720215\n",
      "  0.14962764 0.13555594 0.11689034 0.09593831]\n",
      " [0.09131569 0.11125819 0.12902442 0.1424181  0.14962764 0.14962764\n",
      "  0.1424181  0.12902442 0.11125819 0.09131569]\n",
      " [0.08272793 0.10079493 0.11689034 0.12902442 0.13555594 0.13555594\n",
      "  0.12902442 0.11689034 0.10079493 0.08272793]\n",
      " [0.07133657 0.08691581 0.10079493 0.11125819 0.11689034 0.11689034\n",
      "  0.11125819 0.10079493 0.08691581 0.07133657]\n",
      " [0.05854983 0.07133657 0.08272793 0.09131569 0.09593831 0.09593831\n",
      "  0.09131569 0.08272793 0.07133657 0.05854983]]\n"
     ]
    }
   ],
   "source": [
    "import numpy as np\n",
    "from scipy.stats import multivariate_normal\n",
    "\n",
    "# Define the size of the array\n",
    "size = 10\n",
    "\n",
    "# Create a grid of (x, y) coordinates\n",
    "x, y = np.meshgrid(np.linspace(-1, 1, size), np.linspace(-1, 1, size))\n",
    "\n",
    "# Stack the coordinates to create a 2D array of shape (size*size, 2)\n",
    "pos = np.dstack((x, y))\n",
    "\n",
    "# Define the mean and covariance matrix for the Gaussian distribution\n",
    "mean = [0, 0]\n",
    "covariance = [[1, 0], [0, 1]]\n",
    "\n",
    "# Create the Gaussian distribution\n",
    "rv = multivariate_normal(mean, covariance)\n",
    "\n",
    "# Generate the 2D Gaussian-like array\n",
    "gaussian_array = rv.pdf(pos)\n",
    "\n",
    "print(gaussian_array)"
   ]
  },
  {
   "cell_type": "markdown",
   "metadata": {},
   "source": [
    "#### 57. How to randomly place p elements in a 2D array? (★★☆)"
   ]
  },
  {
   "cell_type": "code",
   "execution_count": 10,
   "metadata": {},
   "outputs": [
    {
     "name": "stdout",
     "output_type": "stream",
     "text": [
      "[[0. 0. 0. 0. 0.]\n",
      " [0. 0. 1. 0. 0.]\n",
      " [0. 1. 0. 0. 0.]\n",
      " [0. 1. 0. 0. 1.]\n",
      " [1. 0. 0. 0. 0.]]\n"
     ]
    }
   ],
   "source": [
    "# Define the size of the 2D array\n",
    "array_size = (5, 5)\n",
    "\n",
    "# Define the number of elements to place\n",
    "p = 5\n",
    "\n",
    "# Create an empty 2D array\n",
    "array_2d = np.zeros(array_size)\n",
    "\n",
    "# Randomly choose p unique positions in the array\n",
    "positions = np.random.choice(array_size[0] * array_size[1], p, replace=False)\n",
    "\n",
    "# Place the elements (e.g., 1) at the chosen positions\n",
    "np.put(array_2d, positions, 1)\n",
    "\n",
    "print(array_2d)"
   ]
  },
  {
   "cell_type": "markdown",
   "metadata": {},
   "source": [
    "#### 58. Subtract the mean of each row of a matrix (★★☆)"
   ]
  },
  {
   "cell_type": "code",
   "execution_count": 11,
   "metadata": {},
   "outputs": [
    {
     "name": "stdout",
     "output_type": "stream",
     "text": [
      "Original matrix:\n",
      " [[0.16333361 0.9245705  0.52040343 0.09025776 0.4263138 ]\n",
      " [0.62612238 0.19903503 0.32134132 0.08105983 0.49683317]\n",
      " [0.19001805 0.5895158  0.25896692 0.50098156 0.35434802]\n",
      " [0.6568915  0.1764434  0.10447282 0.41391306 0.64754222]\n",
      " [0.26929435 0.92005181 0.18377589 0.8214405  0.10692289]]\n",
      "Matrix after subtracting the mean of each row:\n",
      " [[-0.26164221  0.49959468  0.09542761 -0.33471806  0.00133798]\n",
      " [ 0.28124403 -0.14584331 -0.02353703 -0.26381851  0.15195482]\n",
      " [-0.18874803  0.21074973 -0.11979915  0.12221549 -0.02441805]\n",
      " [ 0.2570389  -0.2234092  -0.29537978  0.01406046  0.24768962]\n",
      " [-0.19100274  0.45975472 -0.2765212   0.36114341 -0.35337419]]\n"
     ]
    }
   ],
   "source": [
    "# Create a sample matrix\n",
    "matrix = np.random.random((5, 5))\n",
    "print(\"Original matrix:\\n\", matrix)\n",
    "\n",
    "# Subtract the mean of each row\n",
    "row_means = matrix.mean(axis=1, keepdims=True)\n",
    "matrix_centered = matrix - row_means\n",
    "\n",
    "print(\"Matrix after subtracting the mean of each row:\\n\", matrix_centered)"
   ]
  },
  {
   "cell_type": "markdown",
   "metadata": {},
   "source": [
    "#### 59. How to sort an array by the nth column? (★★☆)"
   ]
  },
  {
   "cell_type": "code",
   "execution_count": 12,
   "metadata": {},
   "outputs": [
    {
     "name": "stdout",
     "output_type": "stream",
     "text": [
      "Original array:\n",
      " [[1 2]\n",
      " [3 4]]\n",
      "Sorted array by the second column:\n",
      " [[1 2]\n",
      " [3 4]]\n"
     ]
    }
   ],
   "source": [
    "# Sort the array by the second column (index 1)\n",
    "sorted_array = array[array[:, 1].argsort()]\n",
    "\n",
    "print(\"Original array:\\n\", array)\n",
    "print(\"Sorted array by the second column:\\n\", sorted_array)"
   ]
  },
  {
   "cell_type": "markdown",
   "metadata": {},
   "source": [
    "#### 60. How to tell if a given 2D array has null columns? (★★☆)"
   ]
  },
  {
   "cell_type": "code",
   "execution_count": 13,
   "metadata": {},
   "outputs": [
    {
     "name": "stdout",
     "output_type": "stream",
     "text": [
      "Does the array have null columns? False\n"
     ]
    }
   ],
   "source": [
    "# Check if any column in the array has all null (NaN) values\n",
    "def has_null_columns(array):\n",
    "    return np.any(np.all(np.isnan(array), axis=0))\n",
    "\n",
    "# Example usage with the 'data' array\n",
    "null_columns = has_null_columns(data)\n",
    "print(\"Does the array have null columns?\", null_columns)"
   ]
  },
  {
   "cell_type": "markdown",
   "metadata": {},
   "source": [
    "Save and commit your work."
   ]
  },
  {
   "cell_type": "code",
   "execution_count": 14,
   "metadata": {},
   "outputs": [],
   "source": [
    "import jovian"
   ]
  },
  {
   "cell_type": "code",
   "execution_count": 15,
   "metadata": {},
   "outputs": [
    {
     "data": {
      "application/javascript": "window.require && require([\"base/js/namespace\"],function(Jupyter){Jupyter.notebook.save_checkpoint()})",
      "text/plain": [
       "<IPython.core.display.Javascript object>"
      ]
     },
     "metadata": {},
     "output_type": "display_data"
    },
    {
     "name": "stdout",
     "output_type": "stream",
     "text": [
      "[jovian] Attempting to save notebook..\u001b[0m\n",
      "[jovian] Updating notebook \"aakashns/numpy-100-exercises\" on https://jovian.ml/\u001b[0m\n",
      "[jovian] Uploading notebook..\u001b[0m\n",
      "[jovian] Capturing environment..\u001b[0m\n",
      "[jovian] Committed successfully! https://jovian.ml/aakashns/numpy-100-exercises\u001b[0m\n"
     ]
    },
    {
     "data": {
      "text/plain": [
       "'https://jovian.ml/aakashns/numpy-100-exercises'"
      ]
     },
     "execution_count": 15,
     "metadata": {},
     "output_type": "execute_result"
    }
   ],
   "source": [
    "jovian.commit()"
   ]
  },
  {
   "cell_type": "markdown",
   "metadata": {},
   "source": [
    "#### 61. Find the nearest value from a given value in an array (★★☆)"
   ]
  },
  {
   "cell_type": "code",
   "execution_count": 17,
   "metadata": {},
   "outputs": [
    {
     "name": "stdout",
     "output_type": "stream",
     "text": [
      "Array:\n",
      " [[1 2]\n",
      " [3 4]\n",
      " [5 6]]\n",
      "Given value: 3.5\n",
      "Nearest value: 3\n"
     ]
    }
   ],
   "source": [
    "# Given array and value\n",
    "array = np.array([[1, 2], [3, 4], [5, 6]])\n",
    "value = 3.5\n",
    "\n",
    "# Flatten the array to make it 1D\n",
    "flattened_array = array.flatten()\n",
    "\n",
    "# Find the index of the nearest value\n",
    "nearest_index = np.abs(flattened_array - value).argmin()\n",
    "\n",
    "# Get the nearest value\n",
    "nearest_value = flattened_array[nearest_index]\n",
    "\n",
    "print(\"Array:\\n\", array)\n",
    "print(\"Given value:\", value)\n",
    "print(\"Nearest value:\", nearest_value)"
   ]
  },
  {
   "cell_type": "markdown",
   "metadata": {},
   "source": [
    "#### 62. Considering two arrays with shape (1,3) and (3,1), how to compute their sum using an iterator? (★★☆)"
   ]
  },
  {
   "cell_type": "code",
   "execution_count": 18,
   "metadata": {},
   "outputs": [
    {
     "name": "stdout",
     "output_type": "stream",
     "text": [
      "Array 1:\n",
      " [[1 2 3]]\n",
      "Array 2:\n",
      " [[4]\n",
      " [5]\n",
      " [6]]\n",
      "Result of the sum:\n",
      " [[5. 6. 7.]\n",
      " [6. 7. 8.]\n",
      " [7. 8. 9.]]\n"
     ]
    }
   ],
   "source": [
    "# Define the two arrays\n",
    "array1 = np.array([[1, 2, 3]])\n",
    "array2 = np.array([[4], [5], [6]])\n",
    "\n",
    "# Initialize an empty array to store the result\n",
    "result = np.empty((3, 3))\n",
    "\n",
    "# Use np.nditer to iterate over the arrays and compute the sum\n",
    "with np.nditer([array1, array2, result], flags=['external_loop'], op_flags=[['readonly'], ['readonly'], ['writeonly']]) as it:\n",
    "    for x, y, z in it:\n",
    "        z[...] = x + y\n",
    "\n",
    "print(\"Array 1:\\n\", array1)\n",
    "print(\"Array 2:\\n\", array2)\n",
    "print(\"Result of the sum:\\n\", result)"
   ]
  },
  {
   "cell_type": "markdown",
   "metadata": {},
   "source": [
    "#### 63. Create an array class that has a name attribute (★★☆)"
   ]
  },
  {
   "cell_type": "code",
   "execution_count": 19,
   "metadata": {},
   "outputs": [
    {
     "name": "stdout",
     "output_type": "stream",
     "text": [
      "Array:\n",
      " [[1 2]\n",
      " [3 4]\n",
      " [5 6]]\n",
      "Name: MyArray\n"
     ]
    }
   ],
   "source": [
    "import numpy as np\n",
    "\n",
    "class NamedArray(np.ndarray):\n",
    "    def __new__(cls, input_array, name=\"\"):\n",
    "        obj = np.asarray(input_array).view(cls)\n",
    "        obj.name = name\n",
    "        return obj\n",
    "    \n",
    "    def __array_finalize__(self, obj):\n",
    "        if obj is None: return\n",
    "        self.name = getattr(obj, 'name', \"\")\n",
    "\n",
    "# Example usage\n",
    "data = np.array([[1, 2], [3, 4], [5, 6]])\n",
    "named_array = NamedArray(data, name=\"MyArray\")\n",
    "\n",
    "print(\"Array:\\n\", named_array)\n",
    "print(\"Name:\", named_array.name)"
   ]
  },
  {
   "cell_type": "markdown",
   "metadata": {},
   "source": [
    "#### 64. Consider a given vector, how to add 1 to each element indexed by a second vector (be careful with repeated indices)? (★★★)"
   ]
  },
  {
   "cell_type": "code",
   "execution_count": 20,
   "metadata": {},
   "outputs": [
    {
     "name": "stdout",
     "output_type": "stream",
     "text": [
      "Updated vector: [2 4 3 5 8]\n"
     ]
    }
   ],
   "source": [
    "# Given vector\n",
    "vector = np.array([1, 2, 3, 4, 5])\n",
    "\n",
    "# Index vector (with possible repeated indices)\n",
    "index_vector = np.array([0, 1, 1, 3, 4, 4, 4])\n",
    "\n",
    "# Use np.add.at to add 1 to each element indexed by the index_vector\n",
    "np.add.at(vector, index_vector, 1)\n",
    "\n",
    "print(\"Updated vector:\", vector)"
   ]
  },
  {
   "cell_type": "markdown",
   "metadata": {},
   "source": [
    "#### 65. How to accumulate elements of a vector (X) to an array (F) based on an index list (I)? (★★★)"
   ]
  },
  {
   "cell_type": "code",
   "execution_count": 21,
   "metadata": {},
   "outputs": [
    {
     "name": "stdout",
     "output_type": "stream",
     "text": [
      "Vector X: [1 2 3 4 5]\n",
      "Index list I: [0 1 2 1 0]\n",
      "Accumulated array F: [6. 6. 3.]\n"
     ]
    }
   ],
   "source": [
    "# Given vector X\n",
    "X = np.array([1, 2, 3, 4, 5])\n",
    "\n",
    "# Index list I\n",
    "I = np.array([0, 1, 2, 1, 0])\n",
    "\n",
    "# Initialize the array F with zeros\n",
    "F = np.zeros(3)\n",
    "\n",
    "# Accumulate elements of X to F based on I\n",
    "np.add.at(F, I, X)\n",
    "\n",
    "print(\"Vector X:\", X)\n",
    "print(\"Index list I:\", I)\n",
    "print(\"Accumulated array F:\", F)"
   ]
  },
  {
   "cell_type": "markdown",
   "metadata": {},
   "source": [
    "#### 66. Considering a (w,h,3) image of (dtype=ubyte), compute the number of unique colors (★★★)"
   ]
  },
  {
   "cell_type": "code",
   "execution_count": 22,
   "metadata": {},
   "outputs": [
    {
     "name": "stdout",
     "output_type": "stream",
     "text": [
      "Number of unique colors: 65411\n"
     ]
    }
   ],
   "source": [
    "# Create a random (w, h, 3) image of dtype ubyte\n",
    "w, h = 256, 256\n",
    "image = np.random.randint(0, 256, size=(w, h, 3), dtype=np.uint8)\n",
    "\n",
    "# Reshape the image to a 2D array where each row is a color\n",
    "colors = image.reshape(-1, 3)\n",
    "\n",
    "# Use np.unique to find unique rows (colors)\n",
    "unique_colors = np.unique(colors, axis=0)\n",
    "\n",
    "# Compute the number of unique colors\n",
    "num_unique_colors = len(unique_colors)\n",
    "\n",
    "print(\"Number of unique colors:\", num_unique_colors)"
   ]
  },
  {
   "cell_type": "markdown",
   "metadata": {},
   "source": [
    "#### 67. Considering a four dimensions array, how to get sum over the last two axis at once? (★★★)"
   ]
  },
  {
   "cell_type": "code",
   "execution_count": 24,
   "metadata": {},
   "outputs": [
    {
     "name": "stdout",
     "output_type": "stream",
     "text": [
      "Original 4D array shape: (3, 4, 5, 6)\n",
      "Sum over the last two axes shape: (3, 4)\n",
      "Sum over the last two axes:\n",
      " [[14.70588375 16.76235321 14.94972608 19.27465993]\n",
      " [11.76240432 15.00672972 17.13746828 17.51351214]\n",
      " [17.4255525  17.02954103 15.6711339  16.45688595]]\n"
     ]
    }
   ],
   "source": [
    "import numpy as np\n",
    "\n",
    "# Create a sample 4D array with random values\n",
    "# The shape of the array is (3, 4, 5, 6)\n",
    "array_4d = np.random.random((3, 4, 5, 6))\n",
    "\n",
    "# Sum over the last two axes (-2 and -1)\n",
    "# This means summing over the 5 and 6 dimensions for each element in the 3 and 4 dimensions\n",
    "sum_over_last_two_axes = np.sum(array_4d, axis=(-2, -1))\n",
    "\n",
    "# Print the shape of the original 4D array\n",
    "print(\"Original 4D array shape:\", array_4d.shape)\n",
    "\n",
    "# Print the shape of the resulting array after summing over the last two axes\n",
    "# The resulting shape should be (3, 4) because the last two dimensions are summed\n",
    "print(\"Sum over the last two axes shape:\", sum_over_last_two_axes.shape)\n",
    "\n",
    "# Print the resulting array after summing over the last two axes\n",
    "print(\"Sum over the last two axes:\\n\", sum_over_last_two_axes)"
   ]
  },
  {
   "cell_type": "markdown",
   "metadata": {},
   "source": [
    "#### 68. Considering a one-dimensional vector D, how to compute means of subsets of D using a vector S of same size describing subset  indices? (★★★)"
   ]
  },
  {
   "cell_type": "code",
   "execution_count": 26,
   "metadata": {},
   "outputs": [
    {
     "name": "stdout",
     "output_type": "stream",
     "text": [
      "Vector D: [ 1  2  3  4  5  6  7  8  9 10]\n",
      "Subset indices S: [0 1 0 1 0 1 0 1 0 1]\n",
      "Means of subsets: [np.float64(5.0), np.float64(6.0)]\n"
     ]
    }
   ],
   "source": [
    "# Given one-dimensional vector D\n",
    "D = np.array([1, 2, 3, 4, 5, 6, 7, 8, 9, 10])\n",
    "\n",
    "# Vector S of the same size describing subset indices\n",
    "S = np.array([0, 1, 0, 1, 0, 1, 0, 1, 0, 1])\n",
    "\n",
    "# Compute the means of subsets of D using S\n",
    "means = [D[S == i].mean() for i in np.unique(S)]\n",
    "\n",
    "print(\"Vector D:\", D)\n",
    "print(\"Subset indices S:\", S)\n",
    "print(\"Means of subsets:\", means)"
   ]
  },
  {
   "cell_type": "markdown",
   "metadata": {},
   "source": [
    "#### 69. How to get the diagonal of a dot product? (★★★)"
   ]
  },
  {
   "cell_type": "code",
   "execution_count": 27,
   "metadata": {},
   "outputs": [
    {
     "name": "stdout",
     "output_type": "stream",
     "text": [
      "Matrix A:\n",
      " [[0.83623299 0.02188149 0.25657858 0.57683848 0.85788404]\n",
      " [0.03976045 0.13747303 0.70021754 0.55464677 0.50086091]\n",
      " [0.53426296 0.58097539 0.84448542 0.68330683 0.65435321]\n",
      " [0.87889143 0.70493323 0.18304914 0.70816952 0.72487842]\n",
      " [0.61140285 0.9403738  0.1303034  0.57260106 0.56783822]]\n",
      "Matrix B:\n",
      " [[0.17388925 0.14724772 0.17590883 0.19341919 0.99525115]\n",
      " [0.48386321 0.33328577 0.3899106  0.1314985  0.40774729]\n",
      " [0.66820928 0.25227002 0.05399946 0.12003797 0.46346215]\n",
      " [0.15047914 0.68700268 0.07770922 0.94543936 0.98038752]\n",
      " [0.89054049 0.85418939 0.02007554 0.80570196 0.72419244]]\n",
      "Diagonal of the dot product:\n",
      " [1.1782304  1.03719022 0.43234753 1.53823228 2.02492004]\n"
     ]
    }
   ],
   "source": [
    "# Given two matrices\n",
    "A = np.random.random((5, 5))\n",
    "B = np.random.random((5, 5))\n",
    "\n",
    "# Compute the diagonal of the dot product\n",
    "diagonal = np.einsum('ij,ji->i', A, B)\n",
    "\n",
    "print(\"Matrix A:\\n\", A)\n",
    "print(\"Matrix B:\\n\", B)\n",
    "print(\"Diagonal of the dot product:\\n\", diagonal)"
   ]
  },
  {
   "cell_type": "markdown",
   "metadata": {},
   "source": [
    "#### 70. Consider the vector [1, 2, 3, 4, 5], how to build a new vector with 3 consecutive zeros interleaved between each value? (★★★)"
   ]
  },
  {
   "cell_type": "code",
   "execution_count": 29,
   "metadata": {},
   "outputs": [
    {
     "name": "stdout",
     "output_type": "stream",
     "text": [
      "Original vector: [1 2 3 4 5]\n",
      "New vector with interleaved zeros: [1 0 0 0 2 0 0 0 3 0 0 0 4 0 0 0 5]\n"
     ]
    }
   ],
   "source": [
    "# Given vector\n",
    "original_vector = np.array([1, 2, 3, 4, 5])\n",
    "\n",
    "# Create a new vector with zeros interleaved\n",
    "new_vector = np.zeros(len(original_vector) * 4 - 3, dtype=original_vector.dtype)\n",
    "new_vector[::4] = original_vector\n",
    "\n",
    "print(\"Original vector:\", original_vector)\n",
    "print(\"New vector with interleaved zeros:\", new_vector)"
   ]
  },
  {
   "cell_type": "markdown",
   "metadata": {},
   "source": [
    "Save and commit your work"
   ]
  },
  {
   "cell_type": "code",
   "execution_count": 25,
   "metadata": {},
   "outputs": [
    {
     "ename": "ModuleNotFoundError",
     "evalue": "No module named 'jovian'",
     "output_type": "error",
     "traceback": [
      "\u001b[1;31m---------------------------------------------------------------------------\u001b[0m",
      "\u001b[1;31mModuleNotFoundError\u001b[0m                       Traceback (most recent call last)",
      "Cell \u001b[1;32mIn[25], line 1\u001b[0m\n\u001b[1;32m----> 1\u001b[0m \u001b[38;5;28;01mimport\u001b[39;00m \u001b[38;5;21;01mjovian\u001b[39;00m\n",
      "\u001b[1;31mModuleNotFoundError\u001b[0m: No module named 'jovian'"
     ]
    }
   ],
   "source": [
    "import jovian"
   ]
  },
  {
   "cell_type": "code",
   "execution_count": 17,
   "metadata": {},
   "outputs": [
    {
     "data": {
      "application/javascript": "window.require && require([\"base/js/namespace\"],function(Jupyter){Jupyter.notebook.save_checkpoint()})",
      "text/plain": [
       "<IPython.core.display.Javascript object>"
      ]
     },
     "metadata": {},
     "output_type": "display_data"
    },
    {
     "name": "stdout",
     "output_type": "stream",
     "text": [
      "[jovian] Attempting to save notebook..\u001b[0m\n",
      "[jovian] Updating notebook \"aakashns/numpy-100-exercises\" on https://jovian.ml/\u001b[0m\n",
      "[jovian] Uploading notebook..\u001b[0m\n",
      "[jovian] Capturing environment..\u001b[0m\n",
      "[jovian] Committed successfully! https://jovian.ml/aakashns/numpy-100-exercises\u001b[0m\n"
     ]
    },
    {
     "data": {
      "text/plain": [
       "'https://jovian.ml/aakashns/numpy-100-exercises'"
      ]
     },
     "execution_count": 17,
     "metadata": {},
     "output_type": "execute_result"
    }
   ],
   "source": [
    "jovian.commit()"
   ]
  },
  {
   "cell_type": "markdown",
   "metadata": {},
   "source": [
    "#### 71. Consider an array of dimension (5,5,3), how to mulitply it by an array with dimensions (5,5)? (★★★)"
   ]
  },
  {
   "cell_type": "code",
   "execution_count": 31,
   "metadata": {},
   "outputs": [
    {
     "name": "stdout",
     "output_type": "stream",
     "text": [
      "3D array:\n",
      " [[[0.67813417 0.91981212]\n",
      "  [0.46338785 0.21449242]]\n",
      "\n",
      " [[0.13493232 0.1075408 ]\n",
      "  [0.59734123 0.58972545]]]\n",
      "2D array:\n",
      " [[0.47608526 0.25172798]\n",
      " [0.92078814 0.30564623]]\n",
      "Result of multiplication:\n",
      " [[[0.32284968 0.43790899]\n",
      "  [0.11664769 0.05399374]]\n",
      "\n",
      " [[0.12424408 0.0990223 ]\n",
      "  [0.18257509 0.18024736]]]\n"
     ]
    }
   ],
   "source": [
    "# Given arrays\n",
    "array_3d = np.random.random((2, 2, 2))\n",
    "array_2d = np.random.random((2, 2))\n",
    "\n",
    "# Multiply the 3D array by the 2D array\n",
    "result = array_3d * array_2d[:, :, np.newaxis]\n",
    "\n",
    "print(\"3D array:\\n\", array_3d)\n",
    "print(\"2D array:\\n\", array_2d)\n",
    "print(\"Result of multiplication:\\n\", result)"
   ]
  },
  {
   "cell_type": "markdown",
   "metadata": {},
   "source": [
    "#### 72. How to swap two rows of an array? (★★★)"
   ]
  },
  {
   "cell_type": "code",
   "execution_count": 32,
   "metadata": {},
   "outputs": [
    {
     "name": "stdout",
     "output_type": "stream",
     "text": [
      "Array after swapping rows:\n",
      " [[0.03976045 0.13747303 0.70021754 0.55464677 0.50086091]\n",
      " [0.83623299 0.02188149 0.25657858 0.57683848 0.85788404]\n",
      " [0.53426296 0.58097539 0.84448542 0.68330683 0.65435321]\n",
      " [0.87889143 0.70493323 0.18304914 0.70816952 0.72487842]\n",
      " [0.61140285 0.9403738  0.1303034  0.57260106 0.56783822]]\n"
     ]
    }
   ],
   "source": [
    "# Swap the first and second rows of the array A\n",
    "A[[0, 1]] = A[[1, 0]]\n",
    "\n",
    "print(\"Array after swapping rows:\\n\", A)"
   ]
  },
  {
   "cell_type": "markdown",
   "metadata": {},
   "source": [
    "#### 73. Consider a set of 10 triplets describing 10 triangles (with shared vertices), find the set of unique line segments composing all the  triangles (★★★)"
   ]
  },
  {
   "cell_type": "code",
   "execution_count": 33,
   "metadata": {},
   "outputs": [
    {
     "name": "stdout",
     "output_type": "stream",
     "text": [
      "Unique line segments: [(np.int64(3), np.int64(4)), (np.int64(0), np.int64(2)), (np.int64(8), np.int64(9)), (np.int64(0), np.int64(5)), (np.int64(0), np.int64(8)), (np.int64(1), np.int64(3)), (np.int64(1), np.int64(9)), (np.int64(4), np.int64(5)), (np.int64(5), np.int64(6)), (np.int64(0), np.int64(1)), (np.int64(0), np.int64(7)), (np.int64(1), np.int64(2)), (np.int64(0), np.int64(4)), (np.int64(6), np.int64(7)), (np.int64(0), np.int64(3)), (np.int64(0), np.int64(9)), (np.int64(0), np.int64(6)), (np.int64(2), np.int64(3)), (np.int64(7), np.int64(8))]\n"
     ]
    }
   ],
   "source": [
    "# Given set of 10 triplets describing 10 triangles\n",
    "triplets = np.array([\n",
    "    [0, 1, 2],\n",
    "    [0, 2, 3],\n",
    "    [0, 3, 4],\n",
    "    [0, 4, 5],\n",
    "    [0, 5, 6],\n",
    "    [0, 6, 7],\n",
    "    [0, 7, 8],\n",
    "    [0, 8, 9],\n",
    "    [0, 9, 1],\n",
    "    [1, 2, 3]\n",
    "])\n",
    "\n",
    "# Create a set to store unique line segments\n",
    "unique_segments = set()\n",
    "\n",
    "# Iterate through each triplet and extract line segments\n",
    "for triplet in triplets:\n",
    "    for i in range(3):\n",
    "        segment = tuple(sorted((triplet[i], triplet[(i + 1) % 3])))\n",
    "        unique_segments.add(segment)\n",
    "\n",
    "# Convert the set to a list for easier viewing\n",
    "unique_segments = list(unique_segments)\n",
    "print(\"Unique line segments:\", unique_segments)"
   ]
  },
  {
   "cell_type": "markdown",
   "metadata": {},
   "source": [
    "#### 74. Given an array C that is a bincount, how to produce an array A such that np.bincount(A) == C? (★★★)"
   ]
  },
  {
   "cell_type": "code",
   "execution_count": 35,
   "metadata": {},
   "outputs": [
    {
     "name": "stdout",
     "output_type": "stream",
     "text": [
      "Array C (bincount): [3 2 1 4]\n",
      "Array A: [0 0 0 1 1 2 3 3 3 3]\n",
      "Bincount of A: [3 2 1 4]\n"
     ]
    }
   ],
   "source": [
    "# Given array C that is a bincount\n",
    "C = np.array([3, 2, 1, 4])\n",
    "\n",
    "# Produce an array A such that np.bincount(A) == C\n",
    "A = np.repeat(np.arange(len(C)), C)\n",
    "\n",
    "print(\"Array C (bincount):\", C)\n",
    "print(\"Array A:\", A)\n",
    "print(\"Bincount of A:\", np.bincount(A))"
   ]
  },
  {
   "cell_type": "markdown",
   "metadata": {},
   "source": [
    "#### 75. How to compute averages using a sliding window over an array? (★★★)"
   ]
  },
  {
   "cell_type": "code",
   "execution_count": 36,
   "metadata": {},
   "outputs": [
    {
     "name": "stdout",
     "output_type": "stream",
     "text": [
      "Array: [ 1  2  3  4  5  6  7  8  9 10]\n",
      "Sliding window averages: [2. 3. 4. 5. 6. 7. 8. 9.]\n"
     ]
    }
   ],
   "source": [
    "import numpy as np\n",
    "\n",
    "# Given array\n",
    "array = np.array([1, 2, 3, 4, 5, 6, 7, 8, 9, 10])\n",
    "\n",
    "# Define the window size\n",
    "window_size = 3\n",
    "\n",
    "# Create a window of ones and normalize it by dividing by the window size\n",
    "# This creates a moving average window\n",
    "window = np.ones(window_size) / window_size\n",
    "\n",
    "# Compute the sliding window averages using convolution\n",
    "# np.convolve performs a discrete, linear convolution of two one-dimensional sequences\n",
    "# mode='valid' means the convolution product is only given for points where the signals overlap completely\n",
    "sliding_averages = np.convolve(array, window, mode='valid')\n",
    "\n",
    "print(\"Array:\", array)\n",
    "print(\"Sliding window averages:\", sliding_averages)"
   ]
  },
  {
   "cell_type": "markdown",
   "metadata": {},
   "source": [
    "np.convolve:\n",
    "\n",
    "This function performs a discrete, linear convolution of two one-dimensional sequences. Convolution is a mathematical operation used to combine two sequences to produce a third sequence. It is often used in signal processing and other fields to analyze the effect of one sequence on another.\n",
    "mode='valid':\n",
    "\n",
    "The mode parameter in np.convolve determines the size of the output array.\n",
    "'valid' mode returns the convolution product only for points where the signals overlap completely. This means the output array will be smaller than the input array, as it excludes the boundary effects where the signals do not fully overlap.\n",
    "np.ones(window_size) / window_size:\n",
    "\n",
    "np.ones(window_size) creates an array of ones with the specified window size.\n",
    "Dividing by window_size normalizes the window, creating a moving average window. This means each element in the window is equal to 1/window_size, which ensures that the sum of the window elements is 1. This is used to compute the average of the elements within the window as it slides over the input array."
   ]
  },
  {
   "cell_type": "markdown",
   "metadata": {},
   "source": [
    "#### 76. Consider a one-dimensional array Z, build a two-dimensional array whose first row is (Z[0],Z[1],Z[2]) and each subsequent row is  shifted by 1 (last row should be (Z[-3],Z[-2],Z[-1]) (★★★)"
   ]
  },
  {
   "cell_type": "code",
   "execution_count": 37,
   "metadata": {},
   "outputs": [
    {
     "name": "stdout",
     "output_type": "stream",
     "text": [
      "Original array Z: [7. 8. 9.]\n",
      "Two-dimensional array:\n",
      " [[7. 8. 9.]]\n"
     ]
    }
   ],
   "source": [
    "# Given one-dimensional array Z\n",
    "Z = np.array([7., 8., 9.])\n",
    "\n",
    "# Build the two-dimensional array\n",
    "rows = len(Z) - 2\n",
    "result = np.array([Z[i:i+3] for i in range(rows)])\n",
    "\n",
    "print(\"Original array Z:\", Z)\n",
    "print(\"Two-dimensional array:\\n\", result)"
   ]
  },
  {
   "cell_type": "markdown",
   "metadata": {},
   "source": [
    "#### 77. How to negate a boolean, or to change the sign of a float inplace? (★★★)"
   ]
  },
  {
   "cell_type": "code",
   "execution_count": 38,
   "metadata": {},
   "outputs": [
    {
     "name": "stdout",
     "output_type": "stream",
     "text": [
      "Negated boolean array: [False  True False  True]\n",
      "Sign-changed float array: [-1.  2. -3.  4.]\n"
     ]
    }
   ],
   "source": [
    "# Negate a boolean array in place\n",
    "bool_array = np.array([True, False, True, False])\n",
    "np.logical_not(bool_array, out=bool_array)\n",
    "print(\"Negated boolean array:\", bool_array)\n",
    "\n",
    "# Change the sign of a float array in place\n",
    "float_array = np.array([1.0, -2.0, 3.0, -4.0])\n",
    "np.negative(float_array, out=float_array)\n",
    "print(\"Sign-changed float array:\", float_array)"
   ]
  },
  {
   "cell_type": "markdown",
   "metadata": {},
   "source": [
    "#### 78. Consider 2 sets of points P0,P1 describing lines (2d) and a point p, how to compute distance from p to each line i (P0[i],P1[i])? (★★★)"
   ]
  },
  {
   "cell_type": "code",
   "execution_count": 39,
   "metadata": {},
   "outputs": [
    {
     "name": "stdout",
     "output_type": "stream",
     "text": [
      "Distances from point p to each line segment: [2. 1. 0.]\n"
     ]
    },
    {
     "name": "stderr",
     "output_type": "stream",
     "text": [
      "C:\\Users\\chris\\AppData\\Local\\Temp\\ipykernel_13304\\3057873401.py:17: DeprecationWarning: Arrays of 2-dimensional vectors are deprecated. Use arrays of 3-dimensional vectors instead. (deprecated in NumPy 2.0)\n",
      "  cross_prod = np.cross(line_vec, p_vec)\n"
     ]
    }
   ],
   "source": [
    "import numpy as np\n",
    "\n",
    "# Define the sets of points P0 and P1 describing lines\n",
    "P0 = np.array([[0, 0], [1, 1], [2, 2]])\n",
    "P1 = np.array([[1, 0], [2, 1], [3, 2]])\n",
    "\n",
    "# Define the point p\n",
    "p = np.array([1, 2])\n",
    "\n",
    "# Function to compute the distance from point p to each line segment (P0[i], P1[i])\n",
    "def point_to_line_distance(P0, P1, p):\n",
    "    # Vector from P0 to P1\n",
    "    line_vec = P1 - P0\n",
    "    # Vector from P0 to p\n",
    "    p_vec = P0 - p\n",
    "    # Cross product of line_vec and p_vec\n",
    "    cross_prod = np.cross(line_vec, p_vec)\n",
    "    # Distance from p to the line\n",
    "    distance = np.abs(cross_prod) / np.linalg.norm(line_vec, axis=1)\n",
    "    return distance\n",
    "\n",
    "# Compute the distances\n",
    "distances = point_to_line_distance(P0, P1, p)\n",
    "print(\"Distances from point p to each line segment:\", distances)"
   ]
  },
  {
   "cell_type": "markdown",
   "metadata": {},
   "source": [
    "#### 79. Consider 2 sets of points P0,P1 describing lines (2d) and a set of points P, how to compute distance from each point j (P[j]) to each line i (P0[i],P1[i])? (★★★)"
   ]
  },
  {
   "cell_type": "code",
   "execution_count": 40,
   "metadata": {},
   "outputs": [
    {
     "name": "stdout",
     "output_type": "stream",
     "text": [
      "Distances from each point P[j] to each line segment (P0[i], P1[i]):\n",
      " [[2. 1. 0.]\n",
      " [3. 2. 1.]\n",
      " [4. 3. 2.]]\n"
     ]
    },
    {
     "name": "stderr",
     "output_type": "stream",
     "text": [
      "C:\\Users\\chris\\AppData\\Local\\Temp\\ipykernel_13304\\828435550.py:11: DeprecationWarning: Arrays of 2-dimensional vectors are deprecated. Use arrays of 3-dimensional vectors instead. (deprecated in NumPy 2.0)\n",
      "  cross_prod = np.cross(line_vec, p_vec)\n"
     ]
    }
   ],
   "source": [
    "# Define the set of points P\n",
    "P = np.array([[1, 2], [2, 3], [3, 4]])\n",
    "\n",
    "# Function to compute the distance from each point P[j] to each line segment (P0[i], P1[i])\n",
    "def point_to_lines_distances(P0, P1, P):\n",
    "    # Vector from P0 to P1\n",
    "    line_vec = P1 - P0\n",
    "    # Vector from P0 to P\n",
    "    p_vec = P[:, np.newaxis, :] - P0\n",
    "    # Cross product of line_vec and p_vec\n",
    "    cross_prod = np.cross(line_vec, p_vec)\n",
    "    # Distance from P to the line\n",
    "    distances = np.abs(cross_prod) / np.linalg.norm(line_vec, axis=1)\n",
    "    return distances\n",
    "\n",
    "# Compute the distances\n",
    "distances = point_to_lines_distances(P0, P1, P)\n",
    "print(\"Distances from each point P[j] to each line segment (P0[i], P1[i]):\\n\", distances)"
   ]
  },
  {
   "cell_type": "markdown",
   "metadata": {},
   "source": [
    "#### 80. Consider an arbitrary array, write a function that extract a subpart with a fixed shape and centered on a given element (pad with a `fill` value when necessary) (★★★)"
   ]
  },
  {
   "cell_type": "code",
   "execution_count": 42,
   "metadata": {},
   "outputs": [
    {
     "name": "stdout",
     "output_type": "stream",
     "text": [
      "Original array:\n",
      " [[0.5010884  0.72638882 0.87032124 0.45011043 0.73738685]\n",
      " [0.49566301 0.10889952 0.37085193 0.79387841 0.51944098]\n",
      " [0.55944361 0.21868145 0.46745472 0.68604843 0.42795889]\n",
      " [0.63512098 0.71463781 0.1744911  0.01589344 0.537649  ]\n",
      " [0.81558049 0.68776471 0.90817525 0.61980683 0.40562844]]\n",
      "Extracted subpart:\n",
      " [[0.10889952 0.37085193 0.79387841]\n",
      " [0.21868145 0.46745472 0.68604843]\n",
      " [0.71463781 0.1744911  0.01589344]]\n"
     ]
    }
   ],
   "source": [
    "def extract_subpart(array, center, shape, fill_value=0):\n",
    "    # Calculate the start and end indices for each dimension\n",
    "    start_indices = [max(0, c - s // 2) for c, s in zip(center, shape)]\n",
    "    end_indices = [min(d, c + (s + 1) // 2) for c, s, d in zip(center, shape, array.shape)]\n",
    "    \n",
    "    # Create an empty array with the desired shape and fill it with the fill_value\n",
    "    subpart = np.full(shape, fill_value, dtype=array.dtype)\n",
    "    \n",
    "    # Calculate the slices for the original array and the subpart\n",
    "    slices_original = tuple(slice(start, end) for start, end in zip(start_indices, end_indices))\n",
    "    slices_subpart = tuple(slice(max(0, -c + s // 2), min(s, d - c + s // 2)) for s, c, d in zip(shape, center, array.shape))\n",
    "    \n",
    "    # Copy the relevant part of the original array to the subpart\n",
    "    subpart[slices_subpart] = array[slices_original]\n",
    "    \n",
    "    return subpart\n",
    "\n",
    "# Example usage\n",
    "array = np.random.random((5, 5))\n",
    "center = (2, 2)\n",
    "shape = (3, 3)\n",
    "fill_value = 0\n",
    "\n",
    "subpart = extract_subpart(array, center, shape, fill_value)\n",
    "print(\"Original array:\\n\", array)\n",
    "print(\"Extracted subpart:\\n\", subpart)"
   ]
  },
  {
   "cell_type": "markdown",
   "metadata": {},
   "source": [
    "Save and commit your work."
   ]
  },
  {
   "cell_type": "code",
   "execution_count": 18,
   "metadata": {},
   "outputs": [],
   "source": [
    "import jovian"
   ]
  },
  {
   "cell_type": "code",
   "execution_count": 19,
   "metadata": {},
   "outputs": [
    {
     "data": {
      "application/javascript": "window.require && require([\"base/js/namespace\"],function(Jupyter){Jupyter.notebook.save_checkpoint()})",
      "text/plain": [
       "<IPython.core.display.Javascript object>"
      ]
     },
     "metadata": {},
     "output_type": "display_data"
    },
    {
     "name": "stdout",
     "output_type": "stream",
     "text": [
      "[jovian] Attempting to save notebook..\u001b[0m\n",
      "[jovian] Updating notebook \"aakashns/numpy-100-exercises\" on https://jovian.ml/\u001b[0m\n",
      "[jovian] Uploading notebook..\u001b[0m\n",
      "[jovian] Capturing environment..\u001b[0m\n",
      "[jovian] Committed successfully! https://jovian.ml/aakashns/numpy-100-exercises\u001b[0m\n"
     ]
    },
    {
     "data": {
      "text/plain": [
       "'https://jovian.ml/aakashns/numpy-100-exercises'"
      ]
     },
     "execution_count": 19,
     "metadata": {},
     "output_type": "execute_result"
    }
   ],
   "source": [
    "jovian.commit()"
   ]
  },
  {
   "cell_type": "markdown",
   "metadata": {},
   "source": [
    "#### 81. Consider an array Z = [1,2,3,4,5,6,7,8,9,10,11,12,13,14], how to generate an array R = [[1,2,3,4], [2,3,4,5], [3,4,5,6], ..., [11,12,13,14]]? (★★★)"
   ]
  },
  {
   "cell_type": "code",
   "execution_count": 43,
   "metadata": {},
   "outputs": [
    {
     "name": "stdout",
     "output_type": "stream",
     "text": [
      "Array Z: [ 1  2  3  4  5  6  7  8  9 10 11 12 13 14]\n",
      "Generated array R:\n",
      " [[ 1  2  3  4]\n",
      " [ 2  3  4  5]\n",
      " [ 3  4  5  6]\n",
      " [ 4  5  6  7]\n",
      " [ 5  6  7  8]\n",
      " [ 6  7  8  9]\n",
      " [ 7  8  9 10]\n",
      " [ 8  9 10 11]\n",
      " [ 9 10 11 12]\n",
      " [10 11 12 13]\n",
      " [11 12 13 14]]\n"
     ]
    }
   ],
   "source": [
    "# Given array Z\n",
    "Z = np.array([1, 2, 3, 4, 5, 6, 7, 8, 9, 10, 11, 12, 13, 14])\n",
    "\n",
    "# Generate the array R using a sliding window approach\n",
    "R = np.array([Z[i:i+4] for i in range(len(Z) - 3)])\n",
    "\n",
    "print(\"Array Z:\", Z)\n",
    "print(\"Generated array R:\\n\", R)"
   ]
  },
  {
   "cell_type": "markdown",
   "metadata": {},
   "source": [
    "#### 82. Compute a matrix rank (★★★)"
   ]
  },
  {
   "cell_type": "code",
   "execution_count": 44,
   "metadata": {},
   "outputs": [
    {
     "name": "stdout",
     "output_type": "stream",
     "text": [
      "Matrix:\n",
      " [[1 2 3]\n",
      " [4 5 6]\n",
      " [7 8 9]]\n",
      "Rank of the matrix: 2\n"
     ]
    }
   ],
   "source": [
    "import numpy as np\n",
    "\n",
    "# Given matrix\n",
    "matrix = np.array([[1, 2, 3], [4, 5, 6], [7, 8, 9]])\n",
    "\n",
    "# Compute the rank of the matrix\n",
    "rank = np.linalg.matrix_rank(matrix)\n",
    "\n",
    "print(\"Matrix:\\n\", matrix)\n",
    "print(\"Rank of the matrix:\", rank)"
   ]
  },
  {
   "cell_type": "markdown",
   "metadata": {},
   "source": [
    "#### 83. How to find the most frequent value in an array?"
   ]
  },
  {
   "cell_type": "code",
   "execution_count": 45,
   "metadata": {},
   "outputs": [
    {
     "name": "stdout",
     "output_type": "stream",
     "text": [
      "Most frequent value in the array: 3\n"
     ]
    }
   ],
   "source": [
    "# Given array\n",
    "array = np.array([0, 0, 0, 1, 1, 2, 3, 3, 3, 3])\n",
    "\n",
    "# Find the most frequent value\n",
    "most_frequent_value = np.bincount(array).argmax()\n",
    "\n",
    "print(\"Most frequent value in the array:\", most_frequent_value)"
   ]
  },
  {
   "cell_type": "markdown",
   "metadata": {},
   "source": [
    "#### 84. Extract all the contiguous 3x3 blocks from a random 10x10 matrix (★★★)"
   ]
  },
  {
   "cell_type": "code",
   "execution_count": 46,
   "metadata": {},
   "outputs": [
    {
     "name": "stdout",
     "output_type": "stream",
     "text": [
      "Original 10x10 matrix:\n",
      " [[3.73013358e-01 8.89471117e-01 4.32297390e-02 5.72722424e-01\n",
      "  9.54176219e-01 9.73721942e-01 9.17249981e-01 4.01789875e-01\n",
      "  5.89376421e-01 8.08005005e-01]\n",
      " [3.23860338e-01 7.58272547e-01 5.24093740e-01 7.66341083e-02\n",
      "  9.24764800e-01 3.32173238e-01 4.24987962e-01 7.40910835e-01\n",
      "  9.09119131e-01 9.36780214e-01]\n",
      " [5.08507971e-01 1.46893433e-01 9.13528006e-01 1.85185871e-01\n",
      "  6.34233033e-01 5.31796017e-01 1.95642201e-01 6.41653186e-01\n",
      "  4.83063549e-01 9.20946843e-01]\n",
      " [9.04766074e-01 1.27502475e-01 3.88932155e-01 5.28663455e-01\n",
      "  9.40818340e-01 4.47373360e-01 8.69940083e-01 5.37745824e-01\n",
      "  4.53646227e-01 4.61070787e-01]\n",
      " [1.49771919e-01 7.38151359e-01 4.58461977e-01 5.64408976e-01\n",
      "  4.95183224e-01 6.45549922e-02 1.44181979e-01 9.03535822e-01\n",
      "  8.76664052e-02 1.90676874e-01]\n",
      " [1.92373398e-01 1.22442978e-01 8.40807992e-01 4.96552907e-01\n",
      "  6.09436067e-01 8.50643885e-01 8.39247910e-01 8.00243682e-01\n",
      "  1.64616323e-01 6.83305033e-01]\n",
      " [4.44544312e-01 6.05981842e-01 9.17157218e-01 9.42630093e-01\n",
      "  5.90265051e-01 8.99144624e-01 4.59471767e-02 9.97451087e-01\n",
      "  3.96379880e-01 2.59229664e-01]\n",
      " [5.15585848e-02 5.23986043e-01 6.78298800e-01 3.11255390e-01\n",
      "  5.46224244e-01 7.44387379e-01 9.84928939e-01 1.30055070e-01\n",
      "  9.19781707e-01 1.70237054e-01]\n",
      " [8.62182885e-01 1.70922097e-01 7.45894346e-01 8.61719372e-01\n",
      "  2.25059462e-01 3.54175292e-01 4.23210089e-01 3.83971299e-01\n",
      "  9.42443896e-01 8.66022089e-01]\n",
      " [2.93898361e-01 7.09729640e-01 4.03422211e-01 7.25676108e-01\n",
      "  2.06350606e-01 3.90103664e-04 5.30376042e-01 6.86032414e-01\n",
      "  1.68280968e-02 7.28371005e-01]]\n",
      "All contiguous 3x3 blocks:\n",
      " [[[3.73013358e-01 8.89471117e-01 4.32297390e-02]\n",
      "  [3.23860338e-01 7.58272547e-01 5.24093740e-01]\n",
      "  [5.08507971e-01 1.46893433e-01 9.13528006e-01]]\n",
      "\n",
      " [[8.89471117e-01 4.32297390e-02 5.72722424e-01]\n",
      "  [7.58272547e-01 5.24093740e-01 7.66341083e-02]\n",
      "  [1.46893433e-01 9.13528006e-01 1.85185871e-01]]\n",
      "\n",
      " [[4.32297390e-02 5.72722424e-01 9.54176219e-01]\n",
      "  [5.24093740e-01 7.66341083e-02 9.24764800e-01]\n",
      "  [9.13528006e-01 1.85185871e-01 6.34233033e-01]]\n",
      "\n",
      " [[5.72722424e-01 9.54176219e-01 9.73721942e-01]\n",
      "  [7.66341083e-02 9.24764800e-01 3.32173238e-01]\n",
      "  [1.85185871e-01 6.34233033e-01 5.31796017e-01]]\n",
      "\n",
      " [[9.54176219e-01 9.73721942e-01 9.17249981e-01]\n",
      "  [9.24764800e-01 3.32173238e-01 4.24987962e-01]\n",
      "  [6.34233033e-01 5.31796017e-01 1.95642201e-01]]\n",
      "\n",
      " [[9.73721942e-01 9.17249981e-01 4.01789875e-01]\n",
      "  [3.32173238e-01 4.24987962e-01 7.40910835e-01]\n",
      "  [5.31796017e-01 1.95642201e-01 6.41653186e-01]]\n",
      "\n",
      " [[9.17249981e-01 4.01789875e-01 5.89376421e-01]\n",
      "  [4.24987962e-01 7.40910835e-01 9.09119131e-01]\n",
      "  [1.95642201e-01 6.41653186e-01 4.83063549e-01]]\n",
      "\n",
      " [[4.01789875e-01 5.89376421e-01 8.08005005e-01]\n",
      "  [7.40910835e-01 9.09119131e-01 9.36780214e-01]\n",
      "  [6.41653186e-01 4.83063549e-01 9.20946843e-01]]\n",
      "\n",
      " [[3.23860338e-01 7.58272547e-01 5.24093740e-01]\n",
      "  [5.08507971e-01 1.46893433e-01 9.13528006e-01]\n",
      "  [9.04766074e-01 1.27502475e-01 3.88932155e-01]]\n",
      "\n",
      " [[7.58272547e-01 5.24093740e-01 7.66341083e-02]\n",
      "  [1.46893433e-01 9.13528006e-01 1.85185871e-01]\n",
      "  [1.27502475e-01 3.88932155e-01 5.28663455e-01]]\n",
      "\n",
      " [[5.24093740e-01 7.66341083e-02 9.24764800e-01]\n",
      "  [9.13528006e-01 1.85185871e-01 6.34233033e-01]\n",
      "  [3.88932155e-01 5.28663455e-01 9.40818340e-01]]\n",
      "\n",
      " [[7.66341083e-02 9.24764800e-01 3.32173238e-01]\n",
      "  [1.85185871e-01 6.34233033e-01 5.31796017e-01]\n",
      "  [5.28663455e-01 9.40818340e-01 4.47373360e-01]]\n",
      "\n",
      " [[9.24764800e-01 3.32173238e-01 4.24987962e-01]\n",
      "  [6.34233033e-01 5.31796017e-01 1.95642201e-01]\n",
      "  [9.40818340e-01 4.47373360e-01 8.69940083e-01]]\n",
      "\n",
      " [[3.32173238e-01 4.24987962e-01 7.40910835e-01]\n",
      "  [5.31796017e-01 1.95642201e-01 6.41653186e-01]\n",
      "  [4.47373360e-01 8.69940083e-01 5.37745824e-01]]\n",
      "\n",
      " [[4.24987962e-01 7.40910835e-01 9.09119131e-01]\n",
      "  [1.95642201e-01 6.41653186e-01 4.83063549e-01]\n",
      "  [8.69940083e-01 5.37745824e-01 4.53646227e-01]]\n",
      "\n",
      " [[7.40910835e-01 9.09119131e-01 9.36780214e-01]\n",
      "  [6.41653186e-01 4.83063549e-01 9.20946843e-01]\n",
      "  [5.37745824e-01 4.53646227e-01 4.61070787e-01]]\n",
      "\n",
      " [[5.08507971e-01 1.46893433e-01 9.13528006e-01]\n",
      "  [9.04766074e-01 1.27502475e-01 3.88932155e-01]\n",
      "  [1.49771919e-01 7.38151359e-01 4.58461977e-01]]\n",
      "\n",
      " [[1.46893433e-01 9.13528006e-01 1.85185871e-01]\n",
      "  [1.27502475e-01 3.88932155e-01 5.28663455e-01]\n",
      "  [7.38151359e-01 4.58461977e-01 5.64408976e-01]]\n",
      "\n",
      " [[9.13528006e-01 1.85185871e-01 6.34233033e-01]\n",
      "  [3.88932155e-01 5.28663455e-01 9.40818340e-01]\n",
      "  [4.58461977e-01 5.64408976e-01 4.95183224e-01]]\n",
      "\n",
      " [[1.85185871e-01 6.34233033e-01 5.31796017e-01]\n",
      "  [5.28663455e-01 9.40818340e-01 4.47373360e-01]\n",
      "  [5.64408976e-01 4.95183224e-01 6.45549922e-02]]\n",
      "\n",
      " [[6.34233033e-01 5.31796017e-01 1.95642201e-01]\n",
      "  [9.40818340e-01 4.47373360e-01 8.69940083e-01]\n",
      "  [4.95183224e-01 6.45549922e-02 1.44181979e-01]]\n",
      "\n",
      " [[5.31796017e-01 1.95642201e-01 6.41653186e-01]\n",
      "  [4.47373360e-01 8.69940083e-01 5.37745824e-01]\n",
      "  [6.45549922e-02 1.44181979e-01 9.03535822e-01]]\n",
      "\n",
      " [[1.95642201e-01 6.41653186e-01 4.83063549e-01]\n",
      "  [8.69940083e-01 5.37745824e-01 4.53646227e-01]\n",
      "  [1.44181979e-01 9.03535822e-01 8.76664052e-02]]\n",
      "\n",
      " [[6.41653186e-01 4.83063549e-01 9.20946843e-01]\n",
      "  [5.37745824e-01 4.53646227e-01 4.61070787e-01]\n",
      "  [9.03535822e-01 8.76664052e-02 1.90676874e-01]]\n",
      "\n",
      " [[9.04766074e-01 1.27502475e-01 3.88932155e-01]\n",
      "  [1.49771919e-01 7.38151359e-01 4.58461977e-01]\n",
      "  [1.92373398e-01 1.22442978e-01 8.40807992e-01]]\n",
      "\n",
      " [[1.27502475e-01 3.88932155e-01 5.28663455e-01]\n",
      "  [7.38151359e-01 4.58461977e-01 5.64408976e-01]\n",
      "  [1.22442978e-01 8.40807992e-01 4.96552907e-01]]\n",
      "\n",
      " [[3.88932155e-01 5.28663455e-01 9.40818340e-01]\n",
      "  [4.58461977e-01 5.64408976e-01 4.95183224e-01]\n",
      "  [8.40807992e-01 4.96552907e-01 6.09436067e-01]]\n",
      "\n",
      " [[5.28663455e-01 9.40818340e-01 4.47373360e-01]\n",
      "  [5.64408976e-01 4.95183224e-01 6.45549922e-02]\n",
      "  [4.96552907e-01 6.09436067e-01 8.50643885e-01]]\n",
      "\n",
      " [[9.40818340e-01 4.47373360e-01 8.69940083e-01]\n",
      "  [4.95183224e-01 6.45549922e-02 1.44181979e-01]\n",
      "  [6.09436067e-01 8.50643885e-01 8.39247910e-01]]\n",
      "\n",
      " [[4.47373360e-01 8.69940083e-01 5.37745824e-01]\n",
      "  [6.45549922e-02 1.44181979e-01 9.03535822e-01]\n",
      "  [8.50643885e-01 8.39247910e-01 8.00243682e-01]]\n",
      "\n",
      " [[8.69940083e-01 5.37745824e-01 4.53646227e-01]\n",
      "  [1.44181979e-01 9.03535822e-01 8.76664052e-02]\n",
      "  [8.39247910e-01 8.00243682e-01 1.64616323e-01]]\n",
      "\n",
      " [[5.37745824e-01 4.53646227e-01 4.61070787e-01]\n",
      "  [9.03535822e-01 8.76664052e-02 1.90676874e-01]\n",
      "  [8.00243682e-01 1.64616323e-01 6.83305033e-01]]\n",
      "\n",
      " [[1.49771919e-01 7.38151359e-01 4.58461977e-01]\n",
      "  [1.92373398e-01 1.22442978e-01 8.40807992e-01]\n",
      "  [4.44544312e-01 6.05981842e-01 9.17157218e-01]]\n",
      "\n",
      " [[7.38151359e-01 4.58461977e-01 5.64408976e-01]\n",
      "  [1.22442978e-01 8.40807992e-01 4.96552907e-01]\n",
      "  [6.05981842e-01 9.17157218e-01 9.42630093e-01]]\n",
      "\n",
      " [[4.58461977e-01 5.64408976e-01 4.95183224e-01]\n",
      "  [8.40807992e-01 4.96552907e-01 6.09436067e-01]\n",
      "  [9.17157218e-01 9.42630093e-01 5.90265051e-01]]\n",
      "\n",
      " [[5.64408976e-01 4.95183224e-01 6.45549922e-02]\n",
      "  [4.96552907e-01 6.09436067e-01 8.50643885e-01]\n",
      "  [9.42630093e-01 5.90265051e-01 8.99144624e-01]]\n",
      "\n",
      " [[4.95183224e-01 6.45549922e-02 1.44181979e-01]\n",
      "  [6.09436067e-01 8.50643885e-01 8.39247910e-01]\n",
      "  [5.90265051e-01 8.99144624e-01 4.59471767e-02]]\n",
      "\n",
      " [[6.45549922e-02 1.44181979e-01 9.03535822e-01]\n",
      "  [8.50643885e-01 8.39247910e-01 8.00243682e-01]\n",
      "  [8.99144624e-01 4.59471767e-02 9.97451087e-01]]\n",
      "\n",
      " [[1.44181979e-01 9.03535822e-01 8.76664052e-02]\n",
      "  [8.39247910e-01 8.00243682e-01 1.64616323e-01]\n",
      "  [4.59471767e-02 9.97451087e-01 3.96379880e-01]]\n",
      "\n",
      " [[9.03535822e-01 8.76664052e-02 1.90676874e-01]\n",
      "  [8.00243682e-01 1.64616323e-01 6.83305033e-01]\n",
      "  [9.97451087e-01 3.96379880e-01 2.59229664e-01]]\n",
      "\n",
      " [[1.92373398e-01 1.22442978e-01 8.40807992e-01]\n",
      "  [4.44544312e-01 6.05981842e-01 9.17157218e-01]\n",
      "  [5.15585848e-02 5.23986043e-01 6.78298800e-01]]\n",
      "\n",
      " [[1.22442978e-01 8.40807992e-01 4.96552907e-01]\n",
      "  [6.05981842e-01 9.17157218e-01 9.42630093e-01]\n",
      "  [5.23986043e-01 6.78298800e-01 3.11255390e-01]]\n",
      "\n",
      " [[8.40807992e-01 4.96552907e-01 6.09436067e-01]\n",
      "  [9.17157218e-01 9.42630093e-01 5.90265051e-01]\n",
      "  [6.78298800e-01 3.11255390e-01 5.46224244e-01]]\n",
      "\n",
      " [[4.96552907e-01 6.09436067e-01 8.50643885e-01]\n",
      "  [9.42630093e-01 5.90265051e-01 8.99144624e-01]\n",
      "  [3.11255390e-01 5.46224244e-01 7.44387379e-01]]\n",
      "\n",
      " [[6.09436067e-01 8.50643885e-01 8.39247910e-01]\n",
      "  [5.90265051e-01 8.99144624e-01 4.59471767e-02]\n",
      "  [5.46224244e-01 7.44387379e-01 9.84928939e-01]]\n",
      "\n",
      " [[8.50643885e-01 8.39247910e-01 8.00243682e-01]\n",
      "  [8.99144624e-01 4.59471767e-02 9.97451087e-01]\n",
      "  [7.44387379e-01 9.84928939e-01 1.30055070e-01]]\n",
      "\n",
      " [[8.39247910e-01 8.00243682e-01 1.64616323e-01]\n",
      "  [4.59471767e-02 9.97451087e-01 3.96379880e-01]\n",
      "  [9.84928939e-01 1.30055070e-01 9.19781707e-01]]\n",
      "\n",
      " [[8.00243682e-01 1.64616323e-01 6.83305033e-01]\n",
      "  [9.97451087e-01 3.96379880e-01 2.59229664e-01]\n",
      "  [1.30055070e-01 9.19781707e-01 1.70237054e-01]]\n",
      "\n",
      " [[4.44544312e-01 6.05981842e-01 9.17157218e-01]\n",
      "  [5.15585848e-02 5.23986043e-01 6.78298800e-01]\n",
      "  [8.62182885e-01 1.70922097e-01 7.45894346e-01]]\n",
      "\n",
      " [[6.05981842e-01 9.17157218e-01 9.42630093e-01]\n",
      "  [5.23986043e-01 6.78298800e-01 3.11255390e-01]\n",
      "  [1.70922097e-01 7.45894346e-01 8.61719372e-01]]\n",
      "\n",
      " [[9.17157218e-01 9.42630093e-01 5.90265051e-01]\n",
      "  [6.78298800e-01 3.11255390e-01 5.46224244e-01]\n",
      "  [7.45894346e-01 8.61719372e-01 2.25059462e-01]]\n",
      "\n",
      " [[9.42630093e-01 5.90265051e-01 8.99144624e-01]\n",
      "  [3.11255390e-01 5.46224244e-01 7.44387379e-01]\n",
      "  [8.61719372e-01 2.25059462e-01 3.54175292e-01]]\n",
      "\n",
      " [[5.90265051e-01 8.99144624e-01 4.59471767e-02]\n",
      "  [5.46224244e-01 7.44387379e-01 9.84928939e-01]\n",
      "  [2.25059462e-01 3.54175292e-01 4.23210089e-01]]\n",
      "\n",
      " [[8.99144624e-01 4.59471767e-02 9.97451087e-01]\n",
      "  [7.44387379e-01 9.84928939e-01 1.30055070e-01]\n",
      "  [3.54175292e-01 4.23210089e-01 3.83971299e-01]]\n",
      "\n",
      " [[4.59471767e-02 9.97451087e-01 3.96379880e-01]\n",
      "  [9.84928939e-01 1.30055070e-01 9.19781707e-01]\n",
      "  [4.23210089e-01 3.83971299e-01 9.42443896e-01]]\n",
      "\n",
      " [[9.97451087e-01 3.96379880e-01 2.59229664e-01]\n",
      "  [1.30055070e-01 9.19781707e-01 1.70237054e-01]\n",
      "  [3.83971299e-01 9.42443896e-01 8.66022089e-01]]\n",
      "\n",
      " [[5.15585848e-02 5.23986043e-01 6.78298800e-01]\n",
      "  [8.62182885e-01 1.70922097e-01 7.45894346e-01]\n",
      "  [2.93898361e-01 7.09729640e-01 4.03422211e-01]]\n",
      "\n",
      " [[5.23986043e-01 6.78298800e-01 3.11255390e-01]\n",
      "  [1.70922097e-01 7.45894346e-01 8.61719372e-01]\n",
      "  [7.09729640e-01 4.03422211e-01 7.25676108e-01]]\n",
      "\n",
      " [[6.78298800e-01 3.11255390e-01 5.46224244e-01]\n",
      "  [7.45894346e-01 8.61719372e-01 2.25059462e-01]\n",
      "  [4.03422211e-01 7.25676108e-01 2.06350606e-01]]\n",
      "\n",
      " [[3.11255390e-01 5.46224244e-01 7.44387379e-01]\n",
      "  [8.61719372e-01 2.25059462e-01 3.54175292e-01]\n",
      "  [7.25676108e-01 2.06350606e-01 3.90103664e-04]]\n",
      "\n",
      " [[5.46224244e-01 7.44387379e-01 9.84928939e-01]\n",
      "  [2.25059462e-01 3.54175292e-01 4.23210089e-01]\n",
      "  [2.06350606e-01 3.90103664e-04 5.30376042e-01]]\n",
      "\n",
      " [[7.44387379e-01 9.84928939e-01 1.30055070e-01]\n",
      "  [3.54175292e-01 4.23210089e-01 3.83971299e-01]\n",
      "  [3.90103664e-04 5.30376042e-01 6.86032414e-01]]\n",
      "\n",
      " [[9.84928939e-01 1.30055070e-01 9.19781707e-01]\n",
      "  [4.23210089e-01 3.83971299e-01 9.42443896e-01]\n",
      "  [5.30376042e-01 6.86032414e-01 1.68280968e-02]]\n",
      "\n",
      " [[1.30055070e-01 9.19781707e-01 1.70237054e-01]\n",
      "  [3.83971299e-01 9.42443896e-01 8.66022089e-01]\n",
      "  [6.86032414e-01 1.68280968e-02 7.28371005e-01]]]\n"
     ]
    }
   ],
   "source": [
    "# Create a random 10x10 matrix\n",
    "matrix_10x10 = np.random.random((10, 10))\n",
    "print(\"Original 10x10 matrix:\\n\", matrix_10x10)\n",
    "\n",
    "# Extract all contiguous 3x3 blocks\n",
    "blocks = np.lib.stride_tricks.sliding_window_view(matrix_10x10, (3, 3))\n",
    "\n",
    "# Reshape the blocks to a 2D array where each row is a 3x3 block\n",
    "blocks_reshaped = blocks.reshape(-1, 3, 3)\n",
    "\n",
    "print(\"All contiguous 3x3 blocks:\\n\", blocks_reshaped)"
   ]
  },
  {
   "cell_type": "markdown",
   "metadata": {},
   "source": [
    "#### 85. Create a 2D array subclass such that Z[i,j] == Z[j,i] (★★★)"
   ]
  },
  {
   "cell_type": "code",
   "execution_count": 47,
   "metadata": {},
   "outputs": [
    {
     "name": "stdout",
     "output_type": "stream",
     "text": [
      "[[7.74860419e-304 7.74860419e-304 7.74860419e-304 7.74860419e-304\n",
      "  7.74860419e-304]\n",
      " [7.74860419e-304 7.74860419e-304 1.00000000e+001 7.74860419e-304\n",
      "  7.74860419e-304]\n",
      " [7.74860419e-304 1.00000000e+001 7.74860419e-304 7.74860419e-304\n",
      "  7.74860419e-304]\n",
      " [7.74860419e-304 7.74860419e-304 7.74860419e-304 7.74860419e-304\n",
      "  7.74860419e-304]\n",
      " [7.74860419e-304 7.74860419e-304 7.74860419e-304 7.74860419e-304\n",
      "  7.74860419e-304]]\n"
     ]
    }
   ],
   "source": [
    "import numpy as np\n",
    "\n",
    "class SymmetricArray(np.ndarray):\n",
    "    def __new__(cls, shape, dtype=float, buffer=None, offset=0,\n",
    "                strides=None, order=None):\n",
    "        obj = super(SymmetricArray, cls).__new__(cls, shape, dtype, buffer, offset, strides, order)\n",
    "        return obj\n",
    "\n",
    "    def __setitem__(self, index, value):\n",
    "        i, j = index\n",
    "        super(SymmetricArray, self).__setitem__((i, j), value)\n",
    "        super(SymmetricArray, self).__setitem__((j, i), value)\n",
    "\n",
    "# Example usage\n",
    "shape = (5, 5)\n",
    "Z = SymmetricArray(shape)\n",
    "Z[1, 2] = 10\n",
    "print(Z)"
   ]
  },
  {
   "cell_type": "markdown",
   "metadata": {},
   "source": [
    "#### 86. Consider a set of p matrices wich shape (n,n) and a set of p vectors with shape (n,1). How to compute the sum of of the p matrix products at once? (result has shape (n,1)) (★★★)"
   ]
  },
  {
   "cell_type": "code",
   "execution_count": 48,
   "metadata": {},
   "outputs": [
    {
     "name": "stdout",
     "output_type": "stream",
     "text": [
      "Matrices:\n",
      " [[[0.77114328 0.01084482]\n",
      "  [0.22335682 0.89276227]]\n",
      "\n",
      " [[0.61357774 0.2450837 ]\n",
      "  [0.67476291 0.30154172]]\n",
      "\n",
      " [[0.93632799 0.58274352]\n",
      "  [0.84265568 0.46432113]]]\n",
      "Vectors:\n",
      " [[[0.83336229]\n",
      "  [0.13309393]]\n",
      "\n",
      " [[0.13157706]\n",
      "  [0.84420795]]\n",
      "\n",
      " [[0.5012213 ]\n",
      "  [0.41230591]]]\n",
      "Result of the sum of the p matrix products:\n",
      " [2.90340056]\n"
     ]
    }
   ],
   "source": [
    "# Define the set of p matrices with shape (n, n)\n",
    "p = 3\n",
    "n = 2\n",
    "matrices = np.random.random((p, n, n))\n",
    "\n",
    "# Define the set of p vectors with shape (n, 1)\n",
    "vectors = np.random.random((p, n, 1))\n",
    "\n",
    "# Compute the sum of the p matrix products\n",
    "result = np.einsum('pij,pjk->ik', matrices, vectors).sum(axis=0)\n",
    "\n",
    "print(\"Matrices:\\n\", matrices)\n",
    "print(\"Vectors:\\n\", vectors)\n",
    "print(\"Result of the sum of the p matrix products:\\n\", result)"
   ]
  },
  {
   "cell_type": "markdown",
   "metadata": {},
   "source": [
    "#### 87. Consider a 16x16 array, how to get the block-sum (block size is 4x4)? (★★★)"
   ]
  },
  {
   "cell_type": "code",
   "execution_count": 49,
   "metadata": {},
   "outputs": [
    {
     "name": "stdout",
     "output_type": "stream",
     "text": [
      "Original 16x16 array:\n",
      " [[0.49242922 0.77364311 0.21002834 0.7645766  0.70072584 0.45528513\n",
      "  0.97641353 0.87255224 0.97282538 0.87168177 0.36387261 0.36895562\n",
      "  0.45626449 0.97039002 0.1142202  0.53174635]\n",
      " [0.96997759 0.27725956 0.45140494 0.4973471  0.81468295 0.05392628\n",
      "  0.58151925 0.70357118 0.79373859 0.97670785 0.87969143 0.71668889\n",
      "  0.64005024 0.45433991 0.51557086 0.73717305]\n",
      " [0.69625808 0.15176328 0.39159343 0.62213667 0.67177692 0.39109574\n",
      "  0.199037   0.67310462 0.49451721 0.98229737 0.80423907 0.71537447\n",
      "  0.20797787 0.11292618 0.85900086 0.38058361]\n",
      " [0.60081419 0.51066131 0.61242077 0.75706613 0.34337066 0.75182362\n",
      "  0.33438997 0.90536827 0.33323499 0.21101874 0.38651837 0.40344643\n",
      "  0.99472184 0.80410473 0.10054189 0.42550871]\n",
      " [0.13389821 0.88247527 0.75904214 0.02078707 0.42911837 0.93163313\n",
      "  0.96466532 0.63880712 0.04706367 0.72252034 0.71815524 0.55108521\n",
      "  0.65312318 0.71220487 0.82550835 0.98722473]\n",
      " [0.91800558 0.34891541 0.92346242 0.89435677 0.17152936 0.88015184\n",
      "  0.5004157  0.48607647 0.89571813 0.07981376 0.85737398 0.90174878\n",
      "  0.20288465 0.94402142 0.25938621 0.82054359]\n",
      " [0.90156258 0.54970701 0.37703363 0.37807746 0.80239679 0.67499342\n",
      "  0.41472456 0.0361197  0.45154975 0.80796547 0.70509912 0.95477542\n",
      "  0.58442942 0.56954306 0.7137194  0.71956521]\n",
      " [0.35202771 0.10343976 0.68838605 0.22407026 0.7398562  0.66305313\n",
      "  0.2011844  0.09832129 0.99558239 0.40329561 0.01023588 0.17236511\n",
      "  0.85754937 0.62729294 0.29252062 0.10081194]\n",
      " [0.6001884  0.16882033 0.1740563  0.40001342 0.24577537 0.01026693\n",
      "  0.4520187  0.54278705 0.60778371 0.22970093 0.32877346 0.5196817\n",
      "  0.86296522 0.47322291 0.98828667 0.73670635]\n",
      " [0.47214985 0.60741569 0.4464765  0.74789665 0.20525581 0.21096559\n",
      "  0.49192222 0.59073262 0.5908484  0.88854826 0.69804295 0.43855038\n",
      "  0.63523759 0.41864416 0.87907679 0.67610385]\n",
      " [0.41803837 0.26568452 0.15738145 0.30299234 0.92165527 0.6326367\n",
      "  0.61277773 0.42040869 0.06840656 0.50024923 0.60604089 0.14299678\n",
      "  0.51917503 0.11263634 0.25944515 0.04710209]\n",
      " [0.75727673 0.83567271 0.5586392  0.42677404 0.87615408 0.55437623\n",
      "  0.35656741 0.67156497 0.83297895 0.18665215 0.53011194 0.52764741\n",
      "  0.81786342 0.26812498 0.12791859 0.42688429]\n",
      " [0.22662482 0.03171436 0.08987625 0.97525137 0.43122459 0.03389907\n",
      "  0.06309348 0.97503929 0.12727946 0.56527178 0.21054016 0.06555601\n",
      "  0.06215479 0.09906378 0.21432024 0.84632871]\n",
      " [0.55686215 0.97238276 0.08324904 0.91981909 0.92249465 0.48548198\n",
      "  0.14320938 0.38230358 0.36849297 0.29485955 0.1167322  0.14975141\n",
      "  0.35130795 0.95960371 0.60319138 0.27758874]\n",
      " [0.15402888 0.16059936 0.99852034 0.51426893 0.83498861 0.31502272\n",
      "  0.30922671 0.47050045 0.58314518 0.6003844  0.17859871 0.93216763\n",
      "  0.57785786 0.34590875 0.08898217 0.20185425]\n",
      " [0.14022518 0.53071875 0.08048365 0.37621662 0.85080678 0.70604621\n",
      "  0.72157057 0.44904025 0.65559085 0.51900099 0.89092625 0.5710634\n",
      "  0.19421175 0.20681364 0.20560963 0.20963872]]\n",
      "Block-sum (4x4):\n",
      " [[ 9.89561043 10.06364968  8.35368238  8.47501063]\n",
      " [ 9.97731222 10.08440408  9.64126199  6.52999265]\n",
      " [ 7.34104743  8.99786733  5.98762717  8.75520707]\n",
      " [ 5.01723816  7.58733054  7.26605495  7.30796327]]\n"
     ]
    }
   ],
   "source": [
    "# Create a random 16x16 array\n",
    "array_16x16 = np.random.random((16, 16))\n",
    "\n",
    "# Reshape the array to (4, 4, 4, 4) and sum over the appropriate axes\n",
    "block_sum = array_16x16.reshape(4, 4, 4, 4).sum(axis=(2, 3))\n",
    "\n",
    "print(\"Original 16x16 array:\\n\", array_16x16)\n",
    "print(\"Block-sum (4x4):\\n\", block_sum)"
   ]
  },
  {
   "cell_type": "markdown",
   "metadata": {},
   "source": [
    "#### 88. How to implement the Game of Life using numpy arrays? (★★★)"
   ]
  },
  {
   "cell_type": "code",
   "execution_count": 50,
   "metadata": {},
   "outputs": [
    {
     "name": "stdout",
     "output_type": "stream",
     "text": [
      "Initial grid:\n",
      "[[0 1 1 1 0 0 1 1 1 0]\n",
      " [1 1 1 0 1 1 1 0 0 0]\n",
      " [1 1 1 1 1 0 1 0 0 1]\n",
      " [0 0 1 0 1 0 0 1 0 1]\n",
      " [1 1 0 0 1 1 0 1 1 0]\n",
      " [1 0 0 0 0 0 0 0 0 0]\n",
      " [1 0 0 1 0 0 0 0 0 1]\n",
      " [1 1 0 1 1 1 0 1 0 0]\n",
      " [1 0 1 1 1 1 1 0 1 0]\n",
      " [0 1 1 1 1 1 1 1 0 1]]\n",
      "Grid after step 1:\n",
      "[[1 0 0 1 1 0 1 1 0 0]\n",
      " [0 0 0 0 0 0 0 0 1 0]\n",
      " [1 0 0 0 0 0 1 1 1 0]\n",
      " [0 0 0 0 0 0 0 1 0 1]\n",
      " [1 1 0 1 1 1 1 1 1 0]\n",
      " [1 0 0 0 1 0 0 0 1 0]\n",
      " [1 0 1 1 0 0 0 0 0 0]\n",
      " [1 0 0 0 0 0 0 1 1 0]\n",
      " [1 0 0 0 0 0 0 0 1 0]\n",
      " [0 1 0 0 0 0 0 1 1 0]]\n",
      "Grid after step 2:\n",
      "[[0 0 0 0 0 0 0 1 0 0]\n",
      " [0 0 0 0 0 1 0 0 1 0]\n",
      " [0 0 0 0 0 0 1 0 0 1]\n",
      " [1 1 0 0 1 0 0 0 0 1]\n",
      " [1 1 0 1 1 1 1 0 0 1]\n",
      " [1 0 0 0 0 0 1 0 1 0]\n",
      " [1 0 0 1 0 0 0 1 1 0]\n",
      " [1 0 0 0 0 0 0 1 1 0]\n",
      " [1 1 0 0 0 0 0 0 0 1]\n",
      " [0 0 0 0 0 0 0 1 1 0]]\n",
      "Grid after step 3:\n",
      "[[0 0 0 0 0 0 0 0 0 0]\n",
      " [0 0 0 0 0 0 1 1 1 0]\n",
      " [0 0 0 0 0 1 0 0 1 1]\n",
      " [1 1 1 1 1 0 1 0 1 1]\n",
      " [0 0 1 1 1 0 1 1 1 1]\n",
      " [1 0 1 1 0 0 1 0 1 1]\n",
      " [1 1 0 0 0 0 1 0 0 1]\n",
      " [1 0 0 0 0 0 0 1 0 1]\n",
      " [1 1 0 0 0 0 0 0 0 1]\n",
      " [0 0 0 0 0 0 0 0 1 0]]\n",
      "Grid after step 4:\n",
      "[[0 0 0 0 0 0 0 1 0 0]\n",
      " [0 0 0 0 0 0 1 1 1 1]\n",
      " [0 1 1 1 1 1 0 0 0 0]\n",
      " [0 1 0 0 0 0 1 0 0 0]\n",
      " [1 0 0 0 0 0 1 0 0 0]\n",
      " [1 0 0 0 1 0 1 0 0 0]\n",
      " [1 0 1 0 0 0 1 0 0 1]\n",
      " [0 0 0 0 0 0 0 0 0 1]\n",
      " [1 1 0 0 0 0 0 0 0 1]\n",
      " [0 0 0 0 0 0 0 0 0 0]]\n",
      "Grid after step 5:\n",
      "[[0 0 0 0 0 0 1 1 0 0]\n",
      " [0 0 1 1 1 1 1 1 1 0]\n",
      " [0 1 1 1 1 1 0 0 1 0]\n",
      " [1 1 0 1 1 0 1 0 0 0]\n",
      " [1 1 0 0 0 0 1 1 0 0]\n",
      " [1 0 0 0 0 0 1 1 0 0]\n",
      " [0 1 0 0 0 1 0 0 0 0]\n",
      " [1 0 0 0 0 0 0 0 1 1]\n",
      " [0 0 0 0 0 0 0 0 0 0]\n",
      " [0 0 0 0 0 0 0 0 0 0]]\n"
     ]
    }
   ],
   "source": [
    "import numpy as np\n",
    "\n",
    "def game_of_life_step(grid):\n",
    "    # Create a padded grid to handle edge cases\n",
    "    padded_grid = np.pad(grid, pad_width=1, mode='constant', constant_values=0)\n",
    "    \n",
    "    # Initialize the next state grid\n",
    "    next_grid = np.zeros_like(grid)\n",
    "    \n",
    "    # Iterate over each cell in the grid\n",
    "    for i in range(1, padded_grid.shape[0] - 1):\n",
    "        for j in range(1, padded_grid.shape[1] - 1):\n",
    "            # Count the number of live neighbors\n",
    "            live_neighbors = np.sum(padded_grid[i-1:i+2, j-1:j+2]) - padded_grid[i, j]\n",
    "            \n",
    "            # Apply the rules of the Game of Life\n",
    "            if padded_grid[i, j] == 1:\n",
    "                if live_neighbors < 2 or live_neighbors > 3:\n",
    "                    next_grid[i-1, j-1] = 0\n",
    "                else:\n",
    "                    next_grid[i-1, j-1] = 1\n",
    "            else:\n",
    "                if live_neighbors == 3:\n",
    "                    next_grid[i-1, j-1] = 1\n",
    "    \n",
    "    return next_grid\n",
    "\n",
    "# Initialize the grid with random values (0 or 1)\n",
    "grid_size = (10, 10)\n",
    "grid = np.random.randint(2, size=grid_size)\n",
    "\n",
    "# Print the initial state of the grid\n",
    "print(\"Initial grid:\")\n",
    "print(grid)\n",
    "\n",
    "# Simulate the Game of Life for a number of steps\n",
    "num_steps = 5\n",
    "for step in range(num_steps):\n",
    "    grid = game_of_life_step(grid)\n",
    "    print(f\"Grid after step {step + 1}:\")\n",
    "    print(grid)"
   ]
  },
  {
   "cell_type": "markdown",
   "metadata": {},
   "source": [
    "#### 89. How to get the n largest values of an array (★★★)"
   ]
  },
  {
   "cell_type": "code",
   "execution_count": null,
   "metadata": {
    "vscode": {
     "languageId": "julia"
    }
   },
   "outputs": [],
   "source": [
    "import numpy as np\n",
    "\n",
    "# Given array\n",
    "array = np.random.random(100)\n",
    "\n",
    "# Number of largest values to get\n",
    "n = 5\n",
    "\n",
    "# Get the n largest values\n",
    "n_largest_values = np.partition(array, -n)[-n:]\n",
    "\n",
    "# Sort the n largest values in descending order\n",
    "n_largest_values = np.sort(n_largest_values)[::-1]\n",
    "\n",
    "print(\"Array:\", array)\n",
    "print(f\"{n} largest values:\", n_largest_values)"
   ]
  },
  {
   "cell_type": "markdown",
   "metadata": {},
   "source": [
    "#### 90. Given an arbitrary number of vectors, build the cartesian product (every combinations of every item) (★★★)"
   ]
  },
  {
   "cell_type": "code",
   "execution_count": 51,
   "metadata": {},
   "outputs": [
    {
     "name": "stdout",
     "output_type": "stream",
     "text": [
      "Vectors: [array([1, 2, 3]), array([4, 5]), array([6, 7])]\n",
      "Cartesian product:\n",
      " [[1 4 6]\n",
      " [1 4 7]\n",
      " [1 5 6]\n",
      " [1 5 7]\n",
      " [2 4 6]\n",
      " [2 4 7]\n",
      " [2 5 6]\n",
      " [2 5 7]\n",
      " [3 4 6]\n",
      " [3 4 7]\n",
      " [3 5 6]\n",
      " [3 5 7]]\n"
     ]
    }
   ],
   "source": [
    "import numpy as np\n",
    "import itertools\n",
    "\n",
    "# Given vectors\n",
    "vectors = [np.array([1, 2, 3]), np.array([4, 5]), np.array([6, 7])]\n",
    "\n",
    "# Build the Cartesian product\n",
    "cartesian_product = np.array(list(itertools.product(*vectors)))\n",
    "\n",
    "print(\"Vectors:\", vectors)\n",
    "print(\"Cartesian product:\\n\", cartesian_product)"
   ]
  },
  {
   "cell_type": "markdown",
   "metadata": {},
   "source": [
    "Save and commit your work"
   ]
  },
  {
   "cell_type": "code",
   "execution_count": 20,
   "metadata": {},
   "outputs": [],
   "source": [
    "import jovian"
   ]
  },
  {
   "cell_type": "code",
   "execution_count": 21,
   "metadata": {},
   "outputs": [
    {
     "data": {
      "application/javascript": "window.require && require([\"base/js/namespace\"],function(Jupyter){Jupyter.notebook.save_checkpoint()})",
      "text/plain": [
       "<IPython.core.display.Javascript object>"
      ]
     },
     "metadata": {},
     "output_type": "display_data"
    },
    {
     "name": "stdout",
     "output_type": "stream",
     "text": [
      "[jovian] Attempting to save notebook..\u001b[0m\n",
      "[jovian] Updating notebook \"aakashns/numpy-100-exercises\" on https://jovian.ml/\u001b[0m\n",
      "[jovian] Uploading notebook..\u001b[0m\n",
      "[jovian] Capturing environment..\u001b[0m\n",
      "[jovian] Committed successfully! https://jovian.ml/aakashns/numpy-100-exercises\u001b[0m\n"
     ]
    },
    {
     "data": {
      "text/plain": [
       "'https://jovian.ml/aakashns/numpy-100-exercises'"
      ]
     },
     "execution_count": 21,
     "metadata": {},
     "output_type": "execute_result"
    }
   ],
   "source": [
    "jovian.commit()"
   ]
  },
  {
   "cell_type": "markdown",
   "metadata": {},
   "source": [
    "#### 91. How to create a record array from a regular array? (★★★)"
   ]
  },
  {
   "cell_type": "code",
   "execution_count": 52,
   "metadata": {},
   "outputs": [
    {
     "name": "stdout",
     "output_type": "stream",
     "text": [
      "Regular array:\n",
      " [[1 2 3]\n",
      " [4 5 6]\n",
      " [7 8 9]]\n",
      "Record array:\n",
      " [(1, 2, 3) (4, 5, 6) (7, 8, 9)]\n"
     ]
    },
    {
     "name": "stderr",
     "output_type": "stream",
     "text": [
      "C:\\Users\\chris\\AppData\\Local\\Temp\\ipykernel_13304\\1811569410.py:8: DeprecationWarning: numpy.core is deprecated and has been renamed to numpy._core. The numpy._core namespace contains private NumPy internals and its use is discouraged, as NumPy internals can change without warning in any release. In practice, most real-world usage of numpy.core is to access functionality in the public NumPy API. If that is the case, use the public NumPy API. If not, you are using NumPy internals. If you would still like to access an internal attribute, use numpy._core.records.\n",
      "  record_array = np.core.records.fromarrays(regular_array.T, dtype=dtype)\n"
     ]
    }
   ],
   "source": [
    "# Given regular array\n",
    "regular_array = np.array([[1, 2, 3], [4, 5, 6], [7, 8, 9]])\n",
    "\n",
    "# Define the data types for the record array\n",
    "dtype = [('col1', 'i4'), ('col2', 'i4'), ('col3', 'i4')]\n",
    "\n",
    "# Create the record array from the regular array\n",
    "record_array = np.core.records.fromarrays(regular_array.T, dtype=dtype)\n",
    "\n",
    "print(\"Regular array:\\n\", regular_array)\n",
    "print(\"Record array:\\n\", record_array)"
   ]
  },
  {
   "cell_type": "markdown",
   "metadata": {},
   "source": [
    "#### 92. Consider a large vector Z, compute Z to the power of 3 using 3 different methods (★★★)"
   ]
  },
  {
   "cell_type": "code",
   "execution_count": 53,
   "metadata": {},
   "outputs": [
    {
     "name": "stdout",
     "output_type": "stream",
     "text": [
      "True\n",
      "True\n"
     ]
    }
   ],
   "source": [
    "# Given large vector Z\n",
    "Z = np.random.rand(1000000)\n",
    "\n",
    "# Method 1: Using the ** operator\n",
    "Z_power_3_method1 = Z ** 3\n",
    "\n",
    "# Method 2: Using np.power function\n",
    "Z_power_3_method2 = np.power(Z, 3)\n",
    "\n",
    "# Method 3: Using element-wise multiplication\n",
    "Z_power_3_method3 = Z * Z * Z\n",
    "\n",
    "# Verify that all methods give the same result\n",
    "print(np.allclose(Z_power_3_method1, Z_power_3_method2))\n",
    "print(np.allclose(Z_power_3_method1, Z_power_3_method3))"
   ]
  },
  {
   "cell_type": "markdown",
   "metadata": {},
   "source": [
    "#### 93. Consider two arrays A and B of shape (8,3) and (2,2). How to find rows of A that contain elements of each row of B regardless of the order of the elements in B? (★★★)"
   ]
  },
  {
   "cell_type": "code",
   "execution_count": 55,
   "metadata": {},
   "outputs": [
    {
     "name": "stdout",
     "output_type": "stream",
     "text": [
      "Array A:\n",
      " [[1 2 3]\n",
      " [4 5 6]\n",
      " [7 8 9]\n",
      " [1 3 2]\n",
      " [4 6 5]\n",
      " [7 9 8]\n",
      " [1 4 7]\n",
      " [2 5 8]]\n",
      "Array B:\n",
      " [[1 2]\n",
      " [4 5]]\n",
      "Matching rows:\n",
      " []\n"
     ]
    }
   ],
   "source": [
    "# Given arrays A and B\n",
    "A = np.array([[1, 2, 3],\n",
    "              [4, 5, 6],\n",
    "              [7, 8, 9],\n",
    "              [1, 3, 2],\n",
    "              [4, 6, 5],\n",
    "              [7, 9, 8],\n",
    "              [1, 4, 7],\n",
    "              [2, 5, 8]])\n",
    "\n",
    "B = np.array([[1, 2],\n",
    "              [4, 5]])\n",
    "\n",
    "# Function to find rows of A that contain elements of each row of B\n",
    "def find_matching_rows(A, B):\n",
    "    matching_rows = []\n",
    "    for row in A:\n",
    "        if all(np.isin(b_row, row).all() for b_row in B):\n",
    "            matching_rows.append(row)\n",
    "    return np.array(matching_rows)\n",
    "\n",
    "# Find the matching rows\n",
    "matching_rows = find_matching_rows(A, B)\n",
    "\n",
    "print(\"Array A:\\n\", A)\n",
    "print(\"Array B:\\n\", B)\n",
    "print(\"Matching rows:\\n\", matching_rows)"
   ]
  },
  {
   "cell_type": "markdown",
   "metadata": {},
   "source": [
    "#### 94. Considering a 10x3 matrix, extract rows with unequal values (e.g. [2,2,3]) (★★★)"
   ]
  },
  {
   "cell_type": "code",
   "execution_count": 56,
   "metadata": {},
   "outputs": [
    {
     "name": "stdout",
     "output_type": "stream",
     "text": [
      "Original 10x3 matrix:\n",
      " [[3 0 3]\n",
      " [2 2 0]\n",
      " [2 4 3]\n",
      " [4 1 3]\n",
      " [4 0 1]\n",
      " [0 1 1]\n",
      " [2 0 3]\n",
      " [3 1 4]\n",
      " [1 1 2]\n",
      " [1 0 4]]\n",
      "Rows with unequal values:\n",
      " [[2 4 3]\n",
      " [4 1 3]\n",
      " [4 0 1]\n",
      " [2 0 3]\n",
      " [3 1 4]\n",
      " [1 0 4]]\n"
     ]
    }
   ],
   "source": [
    "# Create a sample 10x3 matrix\n",
    "matrix_10x3 = np.random.randint(0, 5, (10, 3))\n",
    "print(\"Original 10x3 matrix:\\n\", matrix_10x3)\n",
    "\n",
    "# Extract rows with unequal values\n",
    "rows_with_unequal_values = matrix_10x3[np.apply_along_axis(lambda x: len(np.unique(x)) == len(x), 1, matrix_10x3)]\n",
    "\n",
    "print(\"Rows with unequal values:\\n\", rows_with_unequal_values)"
   ]
  },
  {
   "cell_type": "markdown",
   "metadata": {},
   "source": [
    "#### 95. Convert a vector of ints into a matrix binary representation (★★★)"
   ]
  },
  {
   "cell_type": "code",
   "execution_count": 57,
   "metadata": {},
   "outputs": [
    {
     "name": "stdout",
     "output_type": "stream",
     "text": [
      "Vector of integers: [1 2 3 4 5]\n",
      "Binary matrix representation:\n",
      " [[0 0 0 0 0 0 0 1]\n",
      " [0 0 0 0 0 0 1 0]\n",
      " [0 0 0 0 0 0 1 1]\n",
      " [0 0 0 0 0 1 0 0]\n",
      " [0 0 0 0 0 1 0 1]]\n"
     ]
    }
   ],
   "source": [
    "# Given vector of integers\n",
    "vector_of_ints = np.array([1, 2, 3, 4, 5])\n",
    "\n",
    "# Convert the vector of integers to a binary matrix representation\n",
    "# First, convert the integers to unsigned 8-bit integers\n",
    "vector_of_uint8 = vector_of_ints.astype(np.uint8)\n",
    "\n",
    "# Use np.unpackbits to get the binary representation\n",
    "binary_matrix = np.unpackbits(vector_of_uint8[:, np.newaxis], axis=1)\n",
    "\n",
    "print(\"Vector of integers:\", vector_of_ints)\n",
    "print(\"Binary matrix representation:\\n\", binary_matrix)"
   ]
  },
  {
   "cell_type": "markdown",
   "metadata": {},
   "source": [
    "#### 96. Given a two dimensional array, how to extract unique rows? (★★★)"
   ]
  },
  {
   "cell_type": "code",
   "execution_count": 58,
   "metadata": {},
   "outputs": [
    {
     "name": "stdout",
     "output_type": "stream",
     "text": [
      "Original array:\n",
      " [[1 2 3]\n",
      " [4 5 6]\n",
      " [1 2 3]\n",
      " [7 8 9]]\n",
      "Unique rows:\n",
      " [[1 2 3]\n",
      " [4 5 6]\n",
      " [7 8 9]]\n"
     ]
    }
   ],
   "source": [
    "# Given two-dimensional array\n",
    "array_2d = np.array([[1, 2, 3],\n",
    "                     [4, 5, 6],\n",
    "                     [1, 2, 3],\n",
    "                     [7, 8, 9]])\n",
    "\n",
    "# Extract unique rows\n",
    "unique_rows = np.unique(array_2d, axis=0)\n",
    "\n",
    "print(\"Original array:\\n\", array_2d)\n",
    "print(\"Unique rows:\\n\", unique_rows)"
   ]
  },
  {
   "cell_type": "markdown",
   "metadata": {},
   "source": [
    "#### 97. Considering 2 vectors A & B, write the einsum equivalent of inner, outer, sum, and mul function (★★★)"
   ]
  },
  {
   "cell_type": "code",
   "execution_count": 59,
   "metadata": {},
   "outputs": [
    {
     "name": "stdout",
     "output_type": "stream",
     "text": [
      "Inner product: 32\n",
      "Outer product:\n",
      " [[ 4  5  6]\n",
      " [ 8 10 12]\n",
      " [12 15 18]]\n",
      "Sum of A: 6\n",
      "Element-wise multiplication: [ 4 10 18]\n"
     ]
    }
   ],
   "source": [
    "# Given vectors A and B\n",
    "A = np.array([1, 2, 3])\n",
    "B = np.array([4, 5, 6])\n",
    "\n",
    "# Einsum equivalent of inner product\n",
    "inner_product = np.einsum('i,i->', A, B)\n",
    "print(\"Inner product:\", inner_product)\n",
    "\n",
    "# Einsum equivalent of outer product\n",
    "outer_product = np.einsum('i,j->ij', A, B)\n",
    "print(\"Outer product:\\n\", outer_product)\n",
    "\n",
    "# Einsum equivalent of sum\n",
    "sum_result = np.einsum('i->', A)\n",
    "print(\"Sum of A:\", sum_result)\n",
    "\n",
    "# Einsum equivalent of element-wise multiplication\n",
    "elementwise_mul = np.einsum('i,i->i', A, B)\n",
    "print(\"Element-wise multiplication:\", elementwise_mul)"
   ]
  },
  {
   "cell_type": "markdown",
   "metadata": {},
   "source": [
    "#### 98. Considering a path described by two vectors (X,Y), how to sample it using equidistant samples (★★★)?"
   ]
  },
  {
   "cell_type": "code",
   "execution_count": 60,
   "metadata": {},
   "outputs": [
    {
     "name": "stdout",
     "output_type": "stream",
     "text": [
      "Equidistant samples (X): [0.         0.44444444 0.88888889 1.33333333 1.77777778 2.22222222\n",
      " 2.66666667 3.11111111 3.55555556 4.        ]\n",
      "Equidistant samples (Y): [0.         0.44444444 0.88888889 0.66666667 0.22222222 0.22222222\n",
      " 0.66666667 0.88888889 0.44444444 0.        ]\n"
     ]
    }
   ],
   "source": [
    "import numpy as np\n",
    "\n",
    "# Given path described by two vectors X and Y\n",
    "X = np.array([0, 1, 2, 3, 4])\n",
    "Y = np.array([0, 1, 0, 1, 0])\n",
    "\n",
    "# Number of equidistant samples\n",
    "num_samples = 10\n",
    "\n",
    "# Compute the cumulative distance along the path\n",
    "distances = np.sqrt(np.diff(X)**2 + np.diff(Y)**2)\n",
    "cumulative_distances = np.insert(np.cumsum(distances), 0, 0)\n",
    "\n",
    "# Generate equidistant sample points\n",
    "sample_distances = np.linspace(0, cumulative_distances[-1], num_samples)\n",
    "\n",
    "# Interpolate the X and Y coordinates at the sample points\n",
    "X_samples = np.interp(sample_distances, cumulative_distances, X)\n",
    "Y_samples = np.interp(sample_distances, cumulative_distances, Y)\n",
    "\n",
    "print(\"Equidistant samples (X):\", X_samples)\n",
    "print(\"Equidistant samples (Y):\", Y_samples)"
   ]
  },
  {
   "cell_type": "markdown",
   "metadata": {},
   "source": [
    "#### 99. Given an integer n and a 2D array X, select from X the rows which can be interpreted as draws from a multinomial distribution with n degrees, i.e., the rows which only contain integers and which sum to n. (★★★)"
   ]
  },
  {
   "cell_type": "code",
   "execution_count": 61,
   "metadata": {},
   "outputs": [
    {
     "name": "stdout",
     "output_type": "stream",
     "text": [
      "Filtered rows:\n",
      " [[1. 2. 2.]\n",
      " [2. 2. 1.]\n",
      " [3. 1. 1.]\n",
      " [2. 3. 0.]]\n"
     ]
    }
   ],
   "source": [
    "# Given integer n\n",
    "n = 5\n",
    "\n",
    "# Given 2D array X\n",
    "X = np.array([[1, 2, 2],\n",
    "              [2, 2, 1],\n",
    "              [1.5, 2.5, 1],\n",
    "              [3, 1, 1],\n",
    "              [2, 3, 0]])\n",
    "\n",
    "# Function to filter rows that are draws from a multinomial distribution with n degrees\n",
    "def filter_multinomial_rows(X, n):\n",
    "    return np.array([row for row in X if np.all(row == np.floor(row)) and np.sum(row) == n])\n",
    "\n",
    "# Filter the rows\n",
    "filtered_rows = filter_multinomial_rows(X, n)\n",
    "\n",
    "print(\"Filtered rows:\\n\", filtered_rows)"
   ]
  },
  {
   "cell_type": "markdown",
   "metadata": {},
   "source": [
    "#### 100. Compute bootstrapped 95% confidence intervals for the mean of a 1D array X (i.e., resample the elements of an array with replacement N times, compute the mean of each sample, and then compute percentiles over the means). (★★★)"
   ]
  },
  {
   "cell_type": "code",
   "execution_count": 62,
   "metadata": {},
   "outputs": [
    {
     "name": "stdout",
     "output_type": "stream",
     "text": [
      "95% confidence interval for the mean: [0.49892699 0.53461795]\n"
     ]
    }
   ],
   "source": [
    "import numpy as np\n",
    "\n",
    "# Given 1D array X\n",
    "X = np.random.rand(1000)\n",
    "\n",
    "# Number of bootstrap samples\n",
    "N = 10000\n",
    "\n",
    "# Function to compute bootstrap confidence intervals\n",
    "def bootstrap_confidence_interval(data, num_samples, confidence_level=0.95):\n",
    "    # Generate bootstrap samples and compute their means\n",
    "    bootstrap_means = np.array([np.mean(np.random.choice(data, size=len(data), replace=True)) for _ in range(num_samples)])\n",
    "    \n",
    "    # Compute the percentiles for the confidence interval\n",
    "    lower_percentile = (1 - confidence_level) / 2 * 100\n",
    "    upper_percentile = (1 + confidence_level) / 2 * 100\n",
    "    confidence_interval = np.percentile(bootstrap_means, [lower_percentile, upper_percentile])\n",
    "    \n",
    "    return confidence_interval\n",
    "\n",
    "# Compute the 95% confidence interval for the mean of X\n",
    "confidence_interval = bootstrap_confidence_interval(X, N)\n",
    "print(\"95% confidence interval for the mean:\", confidence_interval)"
   ]
  },
  {
   "cell_type": "markdown",
   "metadata": {},
   "source": [
    "Save and commit your work"
   ]
  },
  {
   "cell_type": "code",
   "execution_count": 22,
   "metadata": {},
   "outputs": [],
   "source": [
    "import jovian"
   ]
  },
  {
   "cell_type": "code",
   "execution_count": null,
   "metadata": {},
   "outputs": [
    {
     "data": {
      "application/javascript": "window.require && require([\"base/js/namespace\"],function(Jupyter){Jupyter.notebook.save_checkpoint()})",
      "text/plain": [
       "<IPython.core.display.Javascript object>"
      ]
     },
     "metadata": {},
     "output_type": "display_data"
    },
    {
     "name": "stdout",
     "output_type": "stream",
     "text": [
      "[jovian] Attempting to save notebook..\u001b[0m\n"
     ]
    }
   ],
   "source": [
    "jovian.commit()"
   ]
  },
  {
   "cell_type": "markdown",
   "metadata": {},
   "source": [
    "Congratulations on completing the 100 exercises, well done!\n",
    "\n",
    "#### What to do next?\n",
    "\n",
    "- Share your completed notebook on Facebook, LinkedIn or Twitter and challenge your friends.\n",
    "- Share your solutions and help others on the forum: https://jovian.ml/forum/t/100-numpy-exercises-hints-discussions-help/10561\n",
    "- Check out our course on \"Data Analysis with Python: Zero to Pandas\" - https://jovian.ml/learn/data-analysis-with-python-zero-to-pandas\n",
    "- Star this repository to show your appreciation for the original author of this notebook: https://github.com/rougier/numpy-100"
   ]
  }
 ],
 "metadata": {
  "kernelspec": {
   "display_name": ".venv",
   "language": "python",
   "name": "python3"
  },
  "language_info": {
   "codemirror_mode": {
    "name": "ipython",
    "version": 3
   },
   "file_extension": ".py",
   "mimetype": "text/x-python",
   "name": "python",
   "nbconvert_exporter": "python",
   "pygments_lexer": "ipython3",
   "version": "3.13.1"
  }
 },
 "nbformat": 4,
 "nbformat_minor": 4
}
